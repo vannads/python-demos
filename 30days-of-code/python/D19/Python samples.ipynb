{
 "cells": [
  {
   "cell_type": "markdown",
   "metadata": {},
   "source": [
    "<b>Date Swapper</b>"
   ]
  },
  {
   "cell_type": "code",
   "execution_count": 2,
   "metadata": {},
   "outputs": [
    {
     "name": "stdout",
     "output_type": "stream",
     "text": [
      "Passed\n"
     ]
    }
   ],
   "source": [
    "\n",
    "# Input : '01/23/1945' \n",
    "# Output: '1945/23/01'\n",
    "\n",
    "def date_swapper(dob):\n",
    "    return ('/'.join(dob.split('/')[::-1]))\n",
    "\n",
    "assert date_swapper('1945/23/01')=='01/23/1945'\n",
    "print(\"Passed\")"
   ]
  },
  {
   "cell_type": "markdown",
   "metadata": {},
   "source": [
    "<b>Character histogram from a word</b>"
   ]
  },
  {
   "cell_type": "code",
   "execution_count": 6,
   "metadata": {},
   "outputs": [
    {
     "name": "stdout",
     "output_type": "stream",
     "text": [
      "Passed\n"
     ]
    }
   ],
   "source": [
    "'''\n",
    "Character histogram from a word\n",
    "Input: 'sathisan' \n",
    "Output: {'s': 2, 'a': 2, 't': 1, 'h': 1, 'i': 1, 'n': 1}\n",
    "\n",
    "'''\n",
    "\n",
    "\n",
    "def charHistogram(string):\n",
    "    \n",
    "    d = {}\n",
    "    \n",
    "    for c in string:\n",
    "        if c not in d:\n",
    "            d[c] = 1\n",
    "        else:\n",
    "            d[c] += 1\n",
    "    return d\n",
    "\n",
    "assert charHistogram('sathisan') == {'s': 2, 'a': 2, 't': 1, 'h': 1, 'i': 1, 'n': 1}\n",
    "print(\"Passed\")"
   ]
  },
  {
   "cell_type": "code",
   "execution_count": null,
   "metadata": {},
   "outputs": [],
   "source": []
  }
 ],
 "metadata": {
  "kernelspec": {
   "display_name": "Python 3",
   "language": "python",
   "name": "python3"
  },
  "language_info": {
   "codemirror_mode": {
    "name": "ipython",
    "version": 3
   },
   "file_extension": ".py",
   "mimetype": "text/x-python",
   "name": "python",
   "nbconvert_exporter": "python",
   "pygments_lexer": "ipython3",
   "version": "3.7.4"
  }
 },
 "nbformat": 4,
 "nbformat_minor": 2
}
