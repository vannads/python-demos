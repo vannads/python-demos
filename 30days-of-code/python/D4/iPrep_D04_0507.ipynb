{
 "cells": [
  {
   "cell_type": "markdown",
   "metadata": {},
   "source": [
    "## Data Structures - Contd..."
   ]
  },
  {
   "cell_type": "code",
   "execution_count": 16,
   "metadata": {},
   "outputs": [
    {
     "name": "stdout",
     "output_type": "stream",
     "text": [
      "<class 'map'>\n"
     ]
    },
    {
     "data": {
      "text/plain": [
       "[39.6, 14.74, 24.2, 9.9, 0]"
      ]
     },
     "execution_count": 16,
     "metadata": {},
     "output_type": "execute_result"
    }
   ],
   "source": [
    "# 1 : map()\n",
    "# You pass in a function and iterable, map() will return an object\n",
    "\n",
    "mlist = [180, 67, 110, 45, 21]\n",
    "tax_rate = 0.22 # for income > 24\n",
    "\n",
    "def apply_tax(income):\n",
    "    if income > 24:\n",
    "        return income*tax_rate\n",
    "    else:\n",
    "        return 0\n",
    "\n",
    "tax_list = map(apply_tax, mlist)\n",
    "print(type(tax_list))\n",
    "list(tax_list)\n"
   ]
  },
  {
   "cell_type": "code",
   "execution_count": 18,
   "metadata": {},
   "outputs": [
    {
     "name": "stdout",
     "output_type": "stream",
     "text": [
      "<class 'list'>\n"
     ]
    },
    {
     "data": {
      "text/plain": [
       "[39.6, 14.74, 24.2, 9.9, 0]"
      ]
     },
     "execution_count": 18,
     "metadata": {},
     "output_type": "execute_result"
    }
   ],
   "source": [
    "# 2: List Comprehension\n",
    "# More 'Pythonic'; more declaravive than loops\n",
    "# [exp for x in iterable]\n",
    "\n",
    "tax_list2 = [apply_tax(income) for income in mlist]\n",
    "print(type(tax_list2))\n",
    "tax_list2"
   ]
  },
  {
   "cell_type": "code",
   "execution_count": 20,
   "metadata": {},
   "outputs": [
    {
     "name": "stdout",
     "output_type": "stream",
     "text": [
      "<class 'generator'>\n"
     ]
    },
    {
     "data": {
      "text/plain": [
       "[39.6, 14.74, 24.2, 9.9, 0]"
      ]
     },
     "execution_count": 20,
     "metadata": {},
     "output_type": "execute_result"
    }
   ],
   "source": [
    "tax_list3 = (apply_tax(income) for income in mlist)\n",
    "print(type(tax_list3))\n",
    "list(tax_list3)"
   ]
  },
  {
   "cell_type": "code",
   "execution_count": 29,
   "metadata": {},
   "outputs": [
    {
     "data": {
      "text/plain": [
       "[4, 16, 36, 64]"
      ]
     },
     "execution_count": 29,
     "metadata": {},
     "output_type": "execute_result"
    }
   ],
   "source": [
    "# [exp for x in iterable (if conditional)]\n",
    "new_list = [x**2 for x in range(1, 10) if x%2!=1]\n",
    "new_list"
   ]
  },
  {
   "cell_type": "code",
   "execution_count": 24,
   "metadata": {},
   "outputs": [
    {
     "data": {
      "text/plain": [
       "[39.6, 14.74, 24.2, 9.9, 0]"
      ]
     },
     "execution_count": 24,
     "metadata": {},
     "output_type": "execute_result"
    }
   ],
   "source": [
    "# [exp (if conditional) for x in iterable]\n",
    "\n",
    "mlist = [180, 67, 110, 45, 21]\n",
    "tax_rate = 0.22 # for income > 24\n",
    "\n",
    "tax_list5 = [income*0.22 if income > 24 else 0 for income in mlist]\n",
    "tax_list5"
   ]
  },
  {
   "cell_type": "code",
   "execution_count": 32,
   "metadata": {},
   "outputs": [
    {
     "data": {
      "text/plain": [
       "[39.6, 14.74, 24.2, 9.9, 1.05]"
      ]
     },
     "execution_count": 32,
     "metadata": {},
     "output_type": "execute_result"
    }
   ],
   "source": [
    "# [exp (if conditional) for x in iterable]\n",
    "\n",
    "mlist = [180, 67, 110, 45, 21]\n",
    "tax_rate = 0.22 # for income >= 24\n",
    "tax_rate = 0.05 # for income < 24 \n",
    "\n",
    "tax_list5 = [income*0.22 if income >= 24 else income*0.05 for income in mlist]\n",
    "tax_list5"
   ]
  },
  {
   "cell_type": "code",
   "execution_count": null,
   "metadata": {},
   "outputs": [],
   "source": []
  }
 ],
 "metadata": {
  "kernelspec": {
   "display_name": "Python 3",
   "language": "python",
   "name": "python3"
  },
  "language_info": {
   "codemirror_mode": {
    "name": "ipython",
    "version": 3
   },
   "file_extension": ".py",
   "mimetype": "text/x-python",
   "name": "python",
   "nbconvert_exporter": "python",
   "pygments_lexer": "ipython3",
   "version": "3.7.4"
  }
 },
 "nbformat": 4,
 "nbformat_minor": 2
}
