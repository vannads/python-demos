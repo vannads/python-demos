{
 "cells": [
  {
   "cell_type": "markdown",
   "metadata": {},
   "source": [
    "<b> Dictionary Methods </b>"
   ]
  },
  {
   "cell_type": "code",
   "execution_count": 1,
   "metadata": {},
   "outputs": [
    {
     "name": "stdout",
     "output_type": "stream",
     "text": [
      "{}\n"
     ]
    }
   ],
   "source": [
    "# ~~~~~~~~~~~~~~~~~~\n",
    "#1: d.clear()\n",
    "# ~~~~~~~~~~~~~~~~~~\n",
    "\n",
    "D = {'name': 'Bob', 'age': 25}\n",
    "D.clear()\n",
    "print(D)\n",
    "# Prints {}"
   ]
  },
  {
   "cell_type": "code",
   "execution_count": 2,
   "metadata": {},
   "outputs": [
    {
     "name": "stdout",
     "output_type": "stream",
     "text": [
      "{'name': 'Bob', 'age': 25}\n",
      "{}\n"
     ]
    }
   ],
   "source": [
    "# ~~~~~~~~~~~~~~~~~~~~~~~~~~~~~~~~~~~~~~~~~~~~~~~~\n",
    "#2: d.copy() -- Shallow Copy\n",
    "# ~~~~~~~~~~~~~~~~~~~~~~~~~~~~~~~~~~~~~~~~~~~~~~~~\n",
    "\n",
    "\n",
    "D = {'name': 'Bob', 'age': 25}\n",
    "X = D.copy()\n",
    "\n",
    "D.clear()\n",
    "\n",
    "print(X)\n",
    "# Prints {'age': 25, 'name': 'Bob'}\n",
    "print(D)\n",
    "# Prints {}"
   ]
  },
  {
   "cell_type": "code",
   "execution_count": 3,
   "metadata": {},
   "outputs": [
    {
     "name": "stdout",
     "output_type": "stream",
     "text": [
      "{'Bob': 'Developer', 'Sam': 'Developer', 'Sathish': 'Developer'}\n"
     ]
    }
   ],
   "source": [
    "# ~~~~~~~~~~~~~~~~~~~~~~~~~~~~~~~~~~~~~~~~~~~~~~~~\n",
    "#3: d.fromkeys(keys, value)\n",
    "# ~~~~~~~~~~~~~~~~~~~~~~~~~~~~~~~~~~~~~~~~~~~~~~~~\n",
    "\n",
    "'''\n",
    "Create a dictionary and set default value 'Developer' for all keys\n",
    "'''\n",
    "keys = ['Bob', 'Sam', 'Sathish']\n",
    "defValue = 'Developer'\n",
    "\n",
    "D = dict.fromkeys(keys, defValue)\n",
    "print(D)\n",
    "\n",
    "# Prints {'Bob': 'Developer', 'Sam': 'Developer'}"
   ]
  },
  {
   "cell_type": "code",
   "execution_count": 4,
   "metadata": {},
   "outputs": [
    {
     "name": "stdout",
     "output_type": "stream",
     "text": [
      "{'Bob': None, 'Sam': None, 'Sathish': None}\n"
     ]
    }
   ],
   "source": [
    "keys = ['Bob', 'Sam', 'Sathish']\n",
    "\n",
    "D1 = dict.fromkeys(keys)\n",
    "print(D1)\n",
    "\n",
    "# Prints {'Mike': None, 'Sally': None}"
   ]
  },
  {
   "cell_type": "code",
   "execution_count": 5,
   "metadata": {},
   "outputs": [
    {
     "name": "stdout",
     "output_type": "stream",
     "text": [
      "{'Bob': 'Developer', 'Sam': 'Developer'}\n",
      "{'Bob': None, 'Sam': None}\n"
     ]
    }
   ],
   "source": [
    "'''\n",
    "Dictionary comprehensions are also useful for initializing dictionaries from keys lists,\n",
    "in much the same way as the fromkeys() method.\n",
    "'''\n",
    "\n",
    "# As if default value is specified\n",
    "keys = ['Bob', 'Sam']\n",
    "defValue = 'Developer'\n",
    "\n",
    "D3 = {key:defValue for key in keys}\n",
    "print(D3)\n",
    "# Prints {'Bob': 'Developer', 'Sam': 'Developer'}\n",
    "\n",
    "\n",
    "# As if default value is not specified\n",
    "keys = ['Bob', 'Sam']\n",
    "D4 = {key:None for key in keys}\n",
    "print(D4)\n",
    "# Prints {'Bob': None, 'Sam': None}"
   ]
  },
  {
   "cell_type": "code",
   "execution_count": 6,
   "metadata": {},
   "outputs": [
    {
     "name": "stdout",
     "output_type": "stream",
     "text": [
      "nasihtaS\n"
     ]
    }
   ],
   "source": [
    "class Solution:\n",
    "    def reverseString(self, s):\n",
    "        #s.reverse()\n",
    "        return s[::-1]\n",
    "    \n",
    "ms = Solution()\n",
    "myStr = 'Sathisan'    \n",
    "rs = ms.reverseString(myStr)\n",
    "print(rs)"
   ]
  },
  {
   "cell_type": "code",
   "execution_count": 7,
   "metadata": {},
   "outputs": [
    {
     "name": "stdout",
     "output_type": "stream",
     "text": [
      "Developer\n",
      "None\n",
      "Not in Dictionary\n"
     ]
    }
   ],
   "source": [
    "# ~~~~~~~~~~~~~~~~~~~~~~~~~~~~~~~~~~~~~~~~~~~~~~~~\n",
    "#4: d.get(key, defaultvalue)\n",
    "# ~~~~~~~~~~~~~~~~~~~~~~~~~~~~~~~~~~~~~~~~~~~~~~~~\n",
    "\n",
    "\n",
    "d3 = {'Bob': 'Developer', 'Sam': 'Developer', 'Sathish': 'Developer'}\n",
    "\n",
    "print(d3.get('Bob'))\n",
    "# Developer\n",
    "\n",
    "print(d3.get('Peter'))\n",
    "# None\n",
    "# This method never raises a KeyError.\n",
    "\n",
    "print(d3.get('Peter', 'Not in Dictionary'))\n",
    "# Not in Dictionary'"
   ]
  },
  {
   "cell_type": "code",
   "execution_count": 8,
   "metadata": {},
   "outputs": [
    {
     "name": "stdout",
     "output_type": "stream",
     "text": [
      "dict_items([('Bob', 'Developer'), ('Sam', 'Developer'), ('Sathish', 'Developer')])\n",
      "[('Bob', 'Developer'), ('Sam', 'Developer'), ('Sathish', 'Developer')]\n"
     ]
    }
   ],
   "source": [
    "# ~~~~~~~~~~~~~~~~~~~~~~~~~~~~~~~~~~~~~~~~~~~~~~~~\n",
    "#5: d.items()\n",
    "# Returns a view object, a list of tuples containing the key:value pairs of the dictionary\n",
    "# ~~~~~~~~~~~~~~~~~~~~~~~~~~~~~~~~~~~~~~~~~~~~~~~~\n",
    "\n",
    "print(d3.items())\n",
    "# dict_items([('Bob', 'Developer'), ('Sam', 'Developer'), ('Sathish', 'Developer')])\n",
    "\n",
    "print(list(d3.items()))\n",
    "# dict_items([('Bob', 'Developer'), ('Sam', 'Developer'), ('Sathish', 'Developer')])"
   ]
  },
  {
   "cell_type": "code",
   "execution_count": 9,
   "metadata": {},
   "outputs": [
    {
     "name": "stdout",
     "output_type": "stream",
     "text": [
      "dict_keys(['Bob', 'Sam', 'Sathish'])\n",
      "['Bob', 'Sam', 'Sathish']\n"
     ]
    }
   ],
   "source": [
    "# ~~~~~~~~~~~~~~~~~~~~~~~~~~~~~~~~~~~~~~~~~~~~~~~~\n",
    "#6: d.keys()\n",
    "# Returns a view object, a list of keys from a dictionary.\n",
    "# ~~~~~~~~~~~~~~~~~~~~~~~~~~~~~~~~~~~~~~~~~~~~~~~~\n",
    "\n",
    "print(d3.keys())\n",
    "# dict_keys(['Bob', 'Sam', 'Sathish'])\n",
    "\n",
    "print(list(d3.keys()))\n",
    "# ['Bob', 'Sam', 'Sathish']"
   ]
  },
  {
   "cell_type": "code",
   "execution_count": 10,
   "metadata": {},
   "outputs": [
    {
     "name": "stdout",
     "output_type": "stream",
     "text": [
      "{'name': 'Bob', 'job': 'Dev', 'age': 25}\n"
     ]
    }
   ],
   "source": [
    "# ~~~~~~~~~~~~~~~~~~~~~~~~~~~~~~~~~~~~~~~~~~~~~~~~\n",
    "#7: d.update(element)\n",
    "# Updates or adds multiple elements to the dictionary\n",
    "# ~~~~~~~~~~~~~~~~~~~~~~~~~~~~~~~~~~~~~~~~~~~~~~~~\n",
    "\n",
    "\n",
    "D1 = {'name': 'Bob'}\n",
    "D2 = {'job': 'Dev', 'age': 25}\n",
    "\n",
    "D1.update(D2)\n",
    "print(D1)\n",
    "\n",
    "# {'name': 'Bob', 'job': 'Dev', 'age': 25}"
   ]
  },
  {
   "cell_type": "code",
   "execution_count": 11,
   "metadata": {},
   "outputs": [
    {
     "name": "stdout",
     "output_type": "stream",
     "text": [
      "{'name': 'Bob', 'age': 30, 'job': 'Dev'}\n"
     ]
    }
   ],
   "source": [
    "D1 = {'name': 'Bob', 'age': 25}\n",
    "D2 = {'job': 'Dev', 'age': 30}\n",
    "\n",
    "D1.update(D2)\n",
    "print(D1)\n",
    "\n",
    "# {'name': 'Bob', 'age': 30, 'job': 'Dev'}"
   ]
  },
  {
   "cell_type": "code",
   "execution_count": 12,
   "metadata": {},
   "outputs": [
    {
     "name": "stdout",
     "output_type": "stream",
     "text": [
      "{'name': 'Bob', 'job': 'Dev', 'age': 25}\n"
     ]
    }
   ],
   "source": [
    "# Passing a list of tuples\n",
    "\n",
    "D = {'name': 'Bob'}\n",
    "\n",
    "D.update([('job', 'Dev'), ('age', 25)])\n",
    "print(D)\n",
    "\n",
    "# {'name': 'Bob', 'job': 'Dev', 'age': 25}"
   ]
  },
  {
   "cell_type": "code",
   "execution_count": 13,
   "metadata": {},
   "outputs": [
    {
     "name": "stdout",
     "output_type": "stream",
     "text": [
      "{'name': 'Sheeja', 'job': 'Banker', 'age': 31}\n"
     ]
    }
   ],
   "source": [
    "# Passing an iterable of length two (nested list)\n",
    "\n",
    "D = {'name': 'Sheeja'}\n",
    "\n",
    "D.update([['job', 'Banker'], ['age', 31]])\n",
    "\n",
    "print(D)\n",
    "\n",
    "# {'name': 'Sheeja', 'job': 'Banker', 'age': 31}"
   ]
  },
  {
   "cell_type": "code",
   "execution_count": 14,
   "metadata": {},
   "outputs": [
    {
     "name": "stdout",
     "output_type": "stream",
     "text": [
      "{'name': 'Gautham', 'job': 'Manager', 'age': 21}\n"
     ]
    }
   ],
   "source": [
    "# Specifying key:value pairs as keyword arguments\n",
    "\n",
    "D = {'name': 'Gautham'}\n",
    "\n",
    "D.update(job = 'Manager', age = 21)\n",
    "\n",
    "print(D)\n",
    "\n",
    "# {'name': 'Gautham', 'job': 'Manager', 'age': 21}"
   ]
  },
  {
   "cell_type": "code",
   "execution_count": 15,
   "metadata": {},
   "outputs": [
    {
     "name": "stdout",
     "output_type": "stream",
     "text": [
      "{'name': 'Bob'}\n",
      "25\n"
     ]
    }
   ],
   "source": [
    "# ~~~~~~~~~~~~~~~~~~~~~~~~~~~~~~~~~~~~~~~~~~~~~~~~\n",
    "# 8: d.pop(key, default)\n",
    "# ~~~~~~~~~~~~~~~~~~~~~~~~~~~~~~~~~~~~~~~~~~~~~~~~\n",
    "\n",
    "\n",
    "# Removes the specified key and return its value. \n",
    "# If the key is not found returns the default.\n",
    "\n",
    "D = {'name': 'Bob', 'age': 25}\n",
    "dp = D.pop('age')\n",
    "\n",
    "print(D)\n",
    "# {'name': 'Bob'}\n",
    "\n",
    "print(dp)\n",
    "# 25"
   ]
  },
  {
   "cell_type": "code",
   "execution_count": 16,
   "metadata": {},
   "outputs": [
    {
     "name": "stdout",
     "output_type": "stream",
     "text": [
      "{'name': 'Bob'}\n",
      "25\n"
     ]
    }
   ],
   "source": [
    "D = {'name': 'Bob', 'age': 25}\n",
    "v = D.pop('age', 0)\n",
    "\n",
    "print(D)\n",
    "# Prints {'name': 'Bob'}\n",
    "\n",
    "print(v)\n",
    "# Prints 25"
   ]
  },
  {
   "cell_type": "code",
   "execution_count": 17,
   "metadata": {},
   "outputs": [
    {
     "name": "stdout",
     "output_type": "stream",
     "text": [
      "dict_values([{'name': 'Bob', 'age': 25}, {'name': 'Jim', 'age': 28}, {'name': 'Sally', 'age': 21}])\n",
      "[{'name': 'Bob', 'age': 25}, {'name': 'Jim', 'age': 28}, {'name': 'Sally', 'age': 21}]\n"
     ]
    }
   ],
   "source": [
    "# ~~~~~~~~~~~~~~~~~~~~~~~~~~~~~~~~~~~~~~~~~~~~~~~~~~~~~~~~~~~~~~~~~~~~~~~~~~~~~~~~~~~~~~~~~~~~~~\n",
    "# 9: d.values()\n",
    "# Returns a view object which provides a dynamic view on the dictionary’s entries\n",
    "# ~~~~~~~~~~~~~~~~~~~~~~~~~~~~~~~~~~~~~~~~~~~~~~~~~~~~~~~~~~~~~~~~~~~~~~~~~~~~~~~~~~~~~~~~~~~~~~\n",
    "\n",
    "# Print all values from the dictionary\n",
    "D = {'IT1':{'name': 'Bob', 'age': 25}, \n",
    "     'IT2': {'name': 'Jim', 'age': 28}, \n",
    "     'IT3': {'name': 'Sally', 'age': 21}\n",
    "    }\n",
    "\n",
    "L = D.values()\n",
    "\n",
    "print(L)\n",
    "# dict_values([{...}])\n",
    "\n",
    "print(list(L))\n",
    "# [{...}])"
   ]
  },
  {
   "cell_type": "code",
   "execution_count": 18,
   "metadata": {},
   "outputs": [
    {
     "name": "stdout",
     "output_type": "stream",
     "text": [
      "{'name': 'Bob', 'age': 25}\n",
      "{'name': 'Jim', 'age': 28}\n",
      "{'name': 'Sally', 'age': 21}\n"
     ]
    }
   ],
   "source": [
    "# Iterate through all the values from a dictionary\n",
    "\n",
    "D = {'IT1':{'name': 'Bob', 'age': 25}, \n",
    "     'IT2': {'name': 'Jim', 'age': 28}, \n",
    "     'IT3': {'name': 'Sally', 'age': 21}\n",
    "    }\n",
    "\n",
    "for x in D.values():\n",
    "    print(x)\n"
   ]
  },
  {
   "cell_type": "code",
   "execution_count": 19,
   "metadata": {},
   "outputs": [
    {
     "name": "stdout",
     "output_type": "stream",
     "text": [
      "{'name': 'Bob', 'age': 25, 'job': 'Dev'}\n",
      "Dev\n"
     ]
    }
   ],
   "source": [
    "# ~~~~~~~~~~~~~~~~~~~~~~~~~~~~~~~~~~~~~~~~~~~~~~~~\n",
    "# 10: d.setdefault(key, default_value)\n",
    "# ~~~~~~~~~~~~~~~~~~~~~~~~~~~~~~~~~~~~~~~~~~~~~~~~\n",
    "\n",
    "# Insert a key 'job' with default value 'Dev'\n",
    "D = {'name': 'Bob', 'age': 25}\n",
    "v = D.setdefault('job', 'Dev')\n",
    "\n",
    "print(D)\n",
    "# {'name': 'Bob', 'age': 25, 'job': 'Dev'}\n",
    "\n",
    "print(v)\n",
    "# Dev"
   ]
  },
  {
   "cell_type": "code",
   "execution_count": 20,
   "metadata": {},
   "outputs": [
    {
     "name": "stdout",
     "output_type": "stream",
     "text": [
      "Bob\n",
      "Bob\n"
     ]
    }
   ],
   "source": [
    "# without default specified\n",
    "D = {'name': 'Bob', 'age': 25}\n",
    "v = D.setdefault('name')\n",
    "\n",
    "print(v)\n",
    "# Bob\n",
    "\n",
    "# with default specified\n",
    "D = {'name': 'Bob', 'age': 25}\n",
    "v = D.setdefault('name', 'Max')\n",
    "\n",
    "print(v)\n",
    "# Bob"
   ]
  },
  {
   "cell_type": "code",
   "execution_count": 21,
   "metadata": {},
   "outputs": [
    {
     "name": "stdout",
     "output_type": "stream",
     "text": [
      "{'name': 'Bob', 'age': 25, 'job': 'Dev'}\n",
      "Dev\n"
     ]
    }
   ],
   "source": [
    "# Key absent, default specified\n",
    "\n",
    "D = {'name': 'Bob', 'age': 25}\n",
    "v = D.setdefault('job', 'Dev')\n",
    "\n",
    "print(D)\n",
    "# Prints {'job': 'Dev', 'age': 25, 'name': 'Bob'}\n",
    "\n",
    "print(v)\n",
    "# Prints Dev"
   ]
  },
  {
   "cell_type": "code",
   "execution_count": 22,
   "metadata": {},
   "outputs": [
    {
     "name": "stdout",
     "output_type": "stream",
     "text": [
      "{'name': 'Bob', 'age': 25, 'job': None}\n",
      "None\n"
     ]
    }
   ],
   "source": [
    "# Key absent, default not specified\n",
    "\n",
    "D = {'name': 'Bob', 'age': 25}\n",
    "v = D.setdefault('job')\n",
    "\n",
    "print(D)\n",
    "# Prints {'job': None, 'age': 25, 'name': 'Bob'}\n",
    "\n",
    "print(v)\n",
    "# Prints None"
   ]
  },
  {
   "cell_type": "markdown",
   "metadata": {},
   "source": [
    "<b> Tuple Methods </b>"
   ]
  },
  {
   "cell_type": "code",
   "execution_count": 23,
   "metadata": {},
   "outputs": [
    {
     "name": "stdout",
     "output_type": "stream",
     "text": [
      "3\n"
     ]
    }
   ],
   "source": [
    "# ~~~~~~~~~~~~~~~~~~~~~~~~~~~~~~~~~~~~~~~~~~~~~~~~\n",
    "# 11: t.countitem(item)\n",
    "# ~~~~~~~~~~~~~~~~~~~~~~~~~~~~~~~~~~~~~~~~~~~~~~~~\n",
    "\n",
    "# Count the number of occurrences of number ‘9’\n",
    "t = (1, 9, 7, 3, 9, 1, 9, 2)\n",
    "\n",
    "print(t.count(9))\n",
    "# 3"
   ]
  },
  {
   "cell_type": "code",
   "execution_count": 25,
   "metadata": {},
   "outputs": [
    {
     "name": "stdout",
     "output_type": "stream",
     "text": [
      "Counter({'a': 4, 'b': 2, 'c': 1})\n"
     ]
    }
   ],
   "source": [
    "# To count multiple items\n",
    "\n",
    "# Count occurrences of all the unique items\n",
    "t = ('a', 'b', 'c', 'b', 'a', 'a', 'a')\n",
    "\n",
    "from collections import Counter\n",
    "print(Counter(t))\n",
    "# Counter({'a': 4, 'b': 2, 'c': 1})"
   ]
  },
  {
   "cell_type": "code",
   "execution_count": 26,
   "metadata": {},
   "outputs": [
    {
     "name": "stdout",
     "output_type": "stream",
     "text": [
      "1\n"
     ]
    }
   ],
   "source": [
    "# ~~~~~~~~~~~~~~~~~~~~~~~~~~~~~~~~~~~~~~~~~~~~~~~~\n",
    "# 12: t.index(item, start, end)\n",
    "# ~~~~~~~~~~~~~~~~~~~~~~~~~~~~~~~~~~~~~~~~~~~~~~~~\n",
    "\n",
    "# The index() method searches for the first occurrence of the given item and returns its index. \n",
    "# If specified item is not found, it raises ‘ValueError’ exception.\n",
    "\n",
    "# Find index of 'green' in a tuple\n",
    "t = ('red', 'green', 'blue', 'yellow')\n",
    "\n",
    "print(t.index('green'))\n",
    "# 1\n"
   ]
  },
  {
   "cell_type": "code",
   "execution_count": 27,
   "metadata": {},
   "outputs": [
    {
     "name": "stdout",
     "output_type": "stream",
     "text": [
      "2\n"
     ]
    }
   ],
   "source": [
    "# Find first occurrence of character ‘c’\n",
    "t = ('a','b','c','d','e','f','a','b','c','d','e','f')\n",
    "print(t.index('c'))\n",
    "# 2"
   ]
  },
  {
   "cell_type": "code",
   "execution_count": 28,
   "metadata": {},
   "outputs": [
    {
     "name": "stdout",
     "output_type": "stream",
     "text": [
      "8\n"
     ]
    }
   ],
   "source": [
    "# Find 'c' starting a position 5\n",
    "t = ('a','b','c','d','e','f','a','b','c','d','e','f')\n",
    "print(t.index('c',5))\n",
    "# 8"
   ]
  },
  {
   "cell_type": "code",
   "execution_count": 29,
   "metadata": {},
   "outputs": [
    {
     "name": "stdout",
     "output_type": "stream",
     "text": [
      "8\n"
     ]
    }
   ],
   "source": [
    "# Find 'c' in between 5 & 10\n",
    "t = ('a','b','c','d','e','f','a','b','c','d','e','f')\n",
    "print(t.index('c',5,10))\n",
    "# 8"
   ]
  },
  {
   "cell_type": "code",
   "execution_count": 30,
   "metadata": {},
   "outputs": [
    {
     "ename": "ValueError",
     "evalue": "tuple.index(x): x not in tuple",
     "output_type": "error",
     "traceback": [
      "\u001b[0;31m---------------------------------------------------------------------------\u001b[0m",
      "\u001b[0;31mValueError\u001b[0m                                Traceback (most recent call last)",
      "\u001b[0;32m<ipython-input-30-89a0e51c928e>\u001b[0m in \u001b[0;36m<module>\u001b[0;34m\u001b[0m\n\u001b[1;32m      1\u001b[0m \u001b[0mt\u001b[0m \u001b[0;34m=\u001b[0m \u001b[0;34m(\u001b[0m\u001b[0;34m'a'\u001b[0m\u001b[0;34m,\u001b[0m\u001b[0;34m'b'\u001b[0m\u001b[0;34m,\u001b[0m\u001b[0;34m'c'\u001b[0m\u001b[0;34m,\u001b[0m\u001b[0;34m'd'\u001b[0m\u001b[0;34m,\u001b[0m\u001b[0;34m'e'\u001b[0m\u001b[0;34m,\u001b[0m\u001b[0;34m'f'\u001b[0m\u001b[0;34m,\u001b[0m\u001b[0;34m'a'\u001b[0m\u001b[0;34m,\u001b[0m\u001b[0;34m'b'\u001b[0m\u001b[0;34m,\u001b[0m\u001b[0;34m'c'\u001b[0m\u001b[0;34m,\u001b[0m\u001b[0;34m'd'\u001b[0m\u001b[0;34m,\u001b[0m\u001b[0;34m'e'\u001b[0m\u001b[0;34m,\u001b[0m\u001b[0;34m'f'\u001b[0m\u001b[0;34m)\u001b[0m\u001b[0;34m\u001b[0m\u001b[0;34m\u001b[0m\u001b[0m\n\u001b[0;32m----> 2\u001b[0;31m \u001b[0mprint\u001b[0m\u001b[0;34m(\u001b[0m\u001b[0mt\u001b[0m\u001b[0;34m.\u001b[0m\u001b[0mindex\u001b[0m\u001b[0;34m(\u001b[0m\u001b[0;34m'x'\u001b[0m\u001b[0;34m)\u001b[0m\u001b[0;34m)\u001b[0m\u001b[0;34m\u001b[0m\u001b[0;34m\u001b[0m\u001b[0m\n\u001b[0m\u001b[1;32m      3\u001b[0m \u001b[0;31m# Triggers ValueError: tuple.index(x): x not in tuple\u001b[0m\u001b[0;34m\u001b[0m\u001b[0;34m\u001b[0m\u001b[0;34m\u001b[0m\u001b[0m\n\u001b[1;32m      4\u001b[0m \u001b[0;34m\u001b[0m\u001b[0m\n\u001b[1;32m      5\u001b[0m \u001b[0;31m# also within search bound\u001b[0m\u001b[0;34m\u001b[0m\u001b[0;34m\u001b[0m\u001b[0;34m\u001b[0m\u001b[0m\n",
      "\u001b[0;31mValueError\u001b[0m: tuple.index(x): x not in tuple"
     ]
    }
   ],
   "source": [
    "t = ('a','b','c','d','e','f','a','b','c','d','e','f')\n",
    "print(t.index('x'))\n",
    "# Triggers ValueError: tuple.index(x): x not in tuple\n",
    "\n",
    "# also within search bound\n",
    "t = ('a','b','c','d','e','f','a','b','c','d','e','f')\n",
    "print(t.index('c',4,7))\n",
    "# Triggers ValueError: tuple.index(x): x not in tuple"
   ]
  },
  {
   "cell_type": "code",
   "execution_count": 31,
   "metadata": {},
   "outputs": [],
   "source": [
    "t = ('a','b','c','d','e','f','a','b','c','d','e','f')\n",
    "if 'x' in t:\n",
    "    print(t.index('x'))"
   ]
  },
  {
   "cell_type": "code",
   "execution_count": null,
   "metadata": {},
   "outputs": [],
   "source": []
  }
 ],
 "metadata": {
  "kernelspec": {
   "display_name": "Python 3",
   "language": "python",
   "name": "python3"
  },
  "language_info": {
   "codemirror_mode": {
    "name": "ipython",
    "version": 3
   },
   "file_extension": ".py",
   "mimetype": "text/x-python",
   "name": "python",
   "nbconvert_exporter": "python",
   "pygments_lexer": "ipython3",
   "version": "3.7.4"
  }
 },
 "nbformat": 4,
 "nbformat_minor": 2
}
