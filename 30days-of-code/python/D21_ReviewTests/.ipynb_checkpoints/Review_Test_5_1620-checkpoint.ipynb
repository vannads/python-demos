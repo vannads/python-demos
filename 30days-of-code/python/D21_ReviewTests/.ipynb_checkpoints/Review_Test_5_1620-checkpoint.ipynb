{
 "cells": [
  {
   "cell_type": "markdown",
   "metadata": {},
   "source": [
    "<b> Dictionary Methods </b>"
   ]
  },
  {
   "cell_type": "code",
   "execution_count": 1,
   "metadata": {},
   "outputs": [],
   "source": [
    "#1: d.clear()\n",
    "\n",
    "D = {'name': 'Bob', 'age': 25}\n",
    "D.clear()\n",
    "print(D)\n",
    "# Prints {}"
   ]
  },
  {
   "cell_type": "code",
   "execution_count": 2,
   "metadata": {},
   "outputs": [],
   "source": [
    "#2: d.copy() -- Shallow Copy\n",
    "\n",
    "D = {'name': 'Bob', 'age': 25}\n",
    "X = D.copy()\n",
    "\n",
    "D.clear()\n",
    "\n",
    "print(X)\n",
    "# Prints {'age': 25, 'name': 'Bob'}\n",
    "print(D)\n",
    "# Prints {}"
   ]
  },
  {
   "cell_type": "code",
   "execution_count": 3,
   "metadata": {},
   "outputs": [],
   "source": [
    "#3: d.fromkeys(keys, value)\n",
    "'''\n",
    "Create a dictionary and set default value 'Developer' for all keys\n",
    "'''\n",
    "keys = ['Bob', 'Sam', 'Sathish']\n",
    "defValue = 'Developer'\n",
    "\n",
    "D = dict.fromkeys(keys, defValue)\n",
    "print(D)\n",
    "\n",
    "# Prints {'Bob': 'Developer', 'Sam': 'Developer'}"
   ]
  },
  {
   "cell_type": "code",
   "execution_count": 4,
   "metadata": {},
   "outputs": [],
   "source": [
    "keys = ['Bob', 'Sam', 'Sathish']\n",
    "\n",
    "D1 = dict.fromkeys(keys)\n",
    "print(D1)\n",
    "\n",
    "# Prints {'Mike': None, 'Sally': None}"
   ]
  },
  {
   "cell_type": "code",
   "execution_count": 5,
   "metadata": {},
   "outputs": [],
   "source": [
    "'''\n",
    "Dictionary comprehensions are also useful for initializing dictionaries from keys lists,\n",
    "in much the same way as the fromkeys() method.\n",
    "'''\n",
    "\n",
    "# As if default value is specified\n",
    "keys = ['Bob', 'Sam']\n",
    "defValue = 'Developer'\n",
    "\n",
    "D3 = {key:defValue for key in keys}\n",
    "print(D3)\n",
    "# Prints {'Bob': 'Developer', 'Sam': 'Developer'}\n",
    "\n",
    "\n",
    "# As if default value is not specified\n",
    "keys = ['Bob', 'Sam']\n",
    "D4 = {key:None for key in keys}\n",
    "print(D4)\n",
    "# Prints {'Bob': None, 'Sam': None}"
   ]
  },
  {
   "cell_type": "code",
   "execution_count": 6,
   "metadata": {},
   "outputs": [],
   "source": [
    "class Solution:\n",
    "    def reverseString(self, s):\n",
    "        #s.reverse()\n",
    "        return s[::-1]\n",
    "    \n",
    "ms = Solution()\n",
    "myStr = 'Sathisan'    \n",
    "rs = ms.reverseString(myStr)\n",
    "print(rs)"
   ]
  },
  {
   "cell_type": "code",
   "execution_count": 7,
   "metadata": {},
   "outputs": [],
   "source": [
    "#4: d.get(key, defaultvalue)\n",
    "\n",
    "d3 = {'Bob': 'Developer', 'Sam': 'Developer', 'Sathish': 'Developer'}\n",
    "\n",
    "print(d3.get('Bob'))\n",
    "# Developer\n",
    "\n",
    "print(d3.get('Peter'))\n",
    "# None\n",
    "# This method never raises a KeyError.\n",
    "\n",
    "print(d3.get('Peter', 'Not in Dictionary'))\n",
    "# Not in Dictionary'"
   ]
  },
  {
   "cell_type": "code",
   "execution_count": 8,
   "metadata": {},
   "outputs": [],
   "source": [
    "#5: d.items()\n",
    "# Returns a view object, a list of tuples containing the key:value pairs of the dictionary\n",
    "\n",
    "print(d3.items())\n",
    "# dict_items([('Bob', 'Developer'), ('Sam', 'Developer'), ('Sathish', 'Developer')])\n",
    "\n",
    "print(list(d3.items()))\n",
    "# dict_items([('Bob', 'Developer'), ('Sam', 'Developer'), ('Sathish', 'Developer')])"
   ]
  },
  {
   "cell_type": "code",
   "execution_count": 9,
   "metadata": {},
   "outputs": [
    {
     "name": "stdout",
     "output_type": "stream",
     "text": [
      "dict_keys(['Bob', 'Sam', 'Sathish'])\n",
      "['Bob', 'Sam', 'Sathish']\n"
     ]
    }
   ],
   "source": [
    "#6: d.keys()\n",
    "# Returns a view object, a list of keys from a dictionary.\n",
    "\n",
    "print(d3.keys())\n",
    "# dict_keys(['Bob', 'Sam', 'Sathish'])\n",
    "\n",
    "print(list(d3.keys()))\n",
    "# ['Bob', 'Sam', 'Sathish']"
   ]
  },
  {
   "cell_type": "code",
   "execution_count": 10,
   "metadata": {},
   "outputs": [
    {
     "name": "stdout",
     "output_type": "stream",
     "text": [
      "{'name': 'Bob', 'job': 'Dev', 'age': 25}\n"
     ]
    }
   ],
   "source": [
    "#7: d.update(element)\n",
    "# Updates or adds multiple elements to the dictionary\n",
    "\n",
    "D1 = {'name': 'Bob'}\n",
    "D2 = {'job': 'Dev', 'age': 25}\n",
    "\n",
    "D1.update(D2)\n",
    "print(D1)\n",
    "\n",
    "# {'name': 'Bob', 'job': 'Dev', 'age': 25}"
   ]
  },
  {
   "cell_type": "code",
   "execution_count": 11,
   "metadata": {},
   "outputs": [
    {
     "name": "stdout",
     "output_type": "stream",
     "text": [
      "{'name': 'Bob', 'age': 30, 'job': 'Dev'}\n"
     ]
    }
   ],
   "source": [
    "D1 = {'name': 'Bob', 'age': 25}\n",
    "D2 = {'job': 'Dev', 'age': 30}\n",
    "\n",
    "D1.update(D2)\n",
    "print(D1)\n",
    "\n",
    "# {'name': 'Bob', 'age': 30, 'job': 'Dev'}"
   ]
  },
  {
   "cell_type": "code",
   "execution_count": 12,
   "metadata": {},
   "outputs": [
    {
     "name": "stdout",
     "output_type": "stream",
     "text": [
      "{'name': 'Bob', 'job': 'Dev', 'age': 25}\n"
     ]
    }
   ],
   "source": [
    "# Passing a list of tuples\n",
    "\n",
    "D = {'name': 'Bob'}\n",
    "\n",
    "D.update([('job', 'Dev'), ('age', 25)])\n",
    "print(D)\n",
    "\n",
    "# {'name': 'Bob', 'job': 'Dev', 'age': 25}"
   ]
  },
  {
   "cell_type": "code",
   "execution_count": 15,
   "metadata": {},
   "outputs": [
    {
     "name": "stdout",
     "output_type": "stream",
     "text": [
      "{'name': 'Sheeja', 'job': 'Banker', 'age': 31}\n"
     ]
    }
   ],
   "source": [
    "# Passing an iterable of length two (nested list)\n",
    "\n",
    "D = {'name': 'Sheeja'}\n",
    "\n",
    "D.update([['job', 'Banker'], ['age', 31]])\n",
    "\n",
    "print(D)\n",
    "\n",
    "# {'name': 'Sheeja', 'job': 'Banker', 'age': 31}"
   ]
  },
  {
   "cell_type": "code",
   "execution_count": 16,
   "metadata": {},
   "outputs": [
    {
     "name": "stdout",
     "output_type": "stream",
     "text": [
      "{'name': 'Gautham', 'job': 'Manager', 'age': 21}\n"
     ]
    }
   ],
   "source": [
    "# Specifying key:value pairs as keyword arguments\n",
    "\n",
    "D = {'name': 'Gautham'}\n",
    "\n",
    "D.update(job = 'Manager', age = 21)\n",
    "\n",
    "print(D)\n",
    "\n",
    "# {'name': 'Gautham', 'job': 'Manager', 'age': 21}"
   ]
  },
  {
   "cell_type": "code",
   "execution_count": 17,
   "metadata": {},
   "outputs": [
    {
     "name": "stdout",
     "output_type": "stream",
     "text": [
      "{'name': 'Bob'}\n",
      "25\n"
     ]
    }
   ],
   "source": [
    "# 8: d.pop(key, default)\n",
    "\n",
    "# Removes the specified key and return its value. \n",
    "# If the key is not found returns the default.\n",
    "\n",
    "D = {'name': 'Bob', 'age': 25}\n",
    "dp = D.pop('age')\n",
    "\n",
    "print(D)\n",
    "# {'name': 'Bob'}\n",
    "\n",
    "print(dp)\n",
    "# 25"
   ]
  },
  {
   "cell_type": "code",
   "execution_count": 18,
   "metadata": {},
   "outputs": [
    {
     "name": "stdout",
     "output_type": "stream",
     "text": [
      "{'name': 'Bob'}\n",
      "25\n"
     ]
    }
   ],
   "source": [
    "D = {'name': 'Bob', 'age': 25}\n",
    "v = D.pop('age', 0)\n",
    "\n",
    "print(D)\n",
    "# Prints {'name': 'Bob'}\n",
    "\n",
    "print(v)\n",
    "# Prints 25"
   ]
  },
  {
   "cell_type": "code",
   "execution_count": null,
   "metadata": {},
   "outputs": [],
   "source": []
  }
 ],
 "metadata": {
  "kernelspec": {
   "display_name": "Python 3",
   "language": "python",
   "name": "python3"
  },
  "language_info": {
   "codemirror_mode": {
    "name": "ipython",
    "version": 3
   },
   "file_extension": ".py",
   "mimetype": "text/x-python",
   "name": "python",
   "nbconvert_exporter": "python",
   "pygments_lexer": "ipython3",
   "version": "3.7.4"
  }
 },
 "nbformat": 4,
 "nbformat_minor": 2
}
