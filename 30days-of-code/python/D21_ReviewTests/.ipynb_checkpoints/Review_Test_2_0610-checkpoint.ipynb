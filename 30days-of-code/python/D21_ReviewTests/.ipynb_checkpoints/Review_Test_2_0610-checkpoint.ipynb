{
 "cells": [
  {
   "cell_type": "markdown",
   "metadata": {},
   "source": [
    "<b>1: Given a 32-bit signed integer, reverse digits of an integer.</b>"
   ]
  },
  {
   "cell_type": "raw",
   "metadata": {},
   "source": [
    "Example 1:\n",
    "Input: 123\n",
    "Output: 321\n",
    "    \n",
    "Example 2:\n",
    "Input: -123\n",
    "Output: -321\n",
    "    \n",
    "Example 3:\n",
    "Input: 120\n",
    "Output: 21\n",
    "\n",
    "Example 4:\n",
    "Input: 2147483648 [>2**31-1]\n",
    "Output: 0\n",
    "\n",
    "Example 4:\n",
    "Input: 2147483645 -- x is <2**31-1] ; but revrese(x) > 2**31-1\n",
    "Output: 0\n",
    "    \n",
    "Note: Assume we are dealing with an environment which could only store integers within the 32-bit signed integer range: [−2**31,  2**31 − 1]. For the purpose of this problem, assume that your function returns 0 when the reversed integer overflows."
   ]
  },
  {
   "cell_type": "code",
   "execution_count": 21,
   "metadata": {},
   "outputs": [],
   "source": [
    "    \n",
    "def reverse(x):\n",
    "    \"\"\"\n",
    "    :type x: int\n",
    "    :rtype: int\n",
    "    \"\"\"\n",
    "    if x >= 2**31-1 or x <= -2**31: return 0\n",
    "    else:\n",
    "        strg = str(x)\n",
    "        if x >= 0 :\n",
    "            revst = strg[::-1]\n",
    "        else:\n",
    "            temp = strg[1:] \n",
    "            temp2 = temp[::-1] \n",
    "            revst = \"-\" + temp2\n",
    "        if int(revst) >= 2**31-1 or int(revst) <= -2**31: return 0\n",
    "        else: return int(revst)"
   ]
  },
  {
   "cell_type": "code",
   "execution_count": 23,
   "metadata": {},
   "outputs": [
    {
     "data": {
      "text/plain": [
       "9223372036854775807"
      ]
     },
     "execution_count": 23,
     "metadata": {},
     "output_type": "execute_result"
    }
   ],
   "source": [
    "import sys\n",
    "sys.maxsize # 9.22 Quintillion --9,223,372,036,854,775,807"
   ]
  },
  {
   "cell_type": "code",
   "execution_count": null,
   "metadata": {},
   "outputs": [],
   "source": []
  }
 ],
 "metadata": {
  "kernelspec": {
   "display_name": "Python 3",
   "language": "python",
   "name": "python3"
  },
  "language_info": {
   "codemirror_mode": {
    "name": "ipython",
    "version": 3
   },
   "file_extension": ".py",
   "mimetype": "text/x-python",
   "name": "python",
   "nbconvert_exporter": "python",
   "pygments_lexer": "ipython3",
   "version": "3.7.4"
  }
 },
 "nbformat": 4,
 "nbformat_minor": 2
}
