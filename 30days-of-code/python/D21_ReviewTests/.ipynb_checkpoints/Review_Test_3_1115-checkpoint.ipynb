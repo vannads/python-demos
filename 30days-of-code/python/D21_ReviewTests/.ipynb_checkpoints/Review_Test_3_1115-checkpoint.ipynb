{
 "cells": [
  {
   "cell_type": "markdown",
   "metadata": {},
   "source": [
    "### Review : List Functions"
   ]
  },
  {
   "cell_type": "code",
   "execution_count": 1,
   "metadata": {},
   "outputs": [],
   "source": [
    "list1 = ['red', 'blue', 'green']\n",
    "list2 = ['red', 'blue', 'green']\n",
    "\n",
    "list3 = ['black', 'white']"
   ]
  },
  {
   "cell_type": "code",
   "execution_count": 2,
   "metadata": {},
   "outputs": [],
   "source": [
    "#1: list.append(item)\n",
    "\n",
    "list1.append('Orange')\n",
    "list1"
   ]
  },
  {
   "cell_type": "code",
   "execution_count": 3,
   "metadata": {},
   "outputs": [],
   "source": [
    "list1.append(list3)\n",
    "print(list1)"
   ]
  },
  {
   "cell_type": "code",
   "execution_count": 4,
   "metadata": {},
   "outputs": [],
   "source": [
    "#2: list.extend(iterable)\n",
    "\n",
    "# What we desired is below:\n",
    "list2.extend(list3) #-- equivalent are: list2[len(list2):] = list3\n",
    "list2"
   ]
  },
  {
   "cell_type": "code",
   "execution_count": 5,
   "metadata": {},
   "outputs": [],
   "source": [
    "#3: list.clear()\n",
    "\n",
    "list1.clear() # -- equivalent are: del list1[:] or list1 *= 0\n",
    "\n",
    "list1"
   ]
  },
  {
   "cell_type": "code",
   "execution_count": 6,
   "metadata": {},
   "outputs": [
    {
     "data": {
      "text/plain": [
       "['black', 'white']"
      ]
     },
     "execution_count": 6,
     "metadata": {},
     "output_type": "execute_result"
    }
   ],
   "source": [
    "list3"
   ]
  },
  {
   "cell_type": "code",
   "execution_count": 7,
   "metadata": {},
   "outputs": [
    {
     "data": {
      "text/plain": [
       "[]"
      ]
     },
     "execution_count": 7,
     "metadata": {},
     "output_type": "execute_result"
    }
   ],
   "source": [
    "list3 = []  # Note: This doesnot empty the list, but overwrites the list by another list, happend to be empty\n",
    "            # Any reference to list3 in any part of the code might create a problem\n",
    "list3"
   ]
  },
  {
   "cell_type": "code",
   "execution_count": 8,
   "metadata": {},
   "outputs": [
    {
     "name": "stdout",
     "output_type": "stream",
     "text": [
      "x = ['red', 'blue', 'green', 'black', 'white'], Memmory address = 4527457616\n",
      "list2 = ['red', 'blue', 'green', 'black', 'white'], Memmory address = 4526148656\n"
     ]
    }
   ],
   "source": [
    "#4: list.copy() -- shallow copy\n",
    "\n",
    "x = list2.copy()\n",
    "# Note x and list2 are two different objects\n",
    "\n",
    "print(\"x = {}, Memmory address = {}\".format(x,id(x)))\n",
    "print(\"list2 = {}, Memmory address = {}\".format(list2,id(list2)))\n"
   ]
  },
  {
   "cell_type": "code",
   "execution_count": 9,
   "metadata": {},
   "outputs": [
    {
     "name": "stdout",
     "output_type": "stream",
     "text": [
      "old_list = ['red', 'blue', 'green'], Memmory address = 4527457856\n",
      "new_list = ['red', 'blue', 'green'], Memmory address = 4527457856\n"
     ]
    }
   ],
   "source": [
    "# Assignment is -- deep copy\n",
    "\n",
    "old_list = ['red', 'blue', 'green']\n",
    "new_list = old_list\n",
    "# Note old_list and new_list are same objects\n",
    "\n",
    "print(\"old_list = {}, Memmory address = {}\".format(old_list,id(old_list)))\n",
    "print(\"new_list = {}, Memmory address = {}\".format(new_list,id(new_list)))"
   ]
  },
  {
   "cell_type": "code",
   "execution_count": 10,
   "metadata": {},
   "outputs": [
    {
     "data": {
      "text/plain": [
       "1"
      ]
     },
     "execution_count": 10,
     "metadata": {},
     "output_type": "execute_result"
    }
   ],
   "source": [
    "#5: list.count(item)\n",
    "\n",
    "new_list.count('red')"
   ]
  },
  {
   "cell_type": "code",
   "execution_count": 11,
   "metadata": {},
   "outputs": [
    {
     "data": {
      "text/plain": [
       "['s', 'a', 't', 'h', 'i', 's', 'a', 'n']"
      ]
     },
     "execution_count": 11,
     "metadata": {},
     "output_type": "execute_result"
    }
   ],
   "source": [
    "# To count multiple items\n",
    "\n",
    "name='sathisan'\n",
    "mlist =list(name)\n",
    "mlist"
   ]
  },
  {
   "cell_type": "code",
   "execution_count": 12,
   "metadata": {},
   "outputs": [
    {
     "data": {
      "text/plain": [
       "Counter({'s': 2, 'a': 2, 't': 1, 'h': 1, 'i': 1, 'n': 1})"
      ]
     },
     "execution_count": 12,
     "metadata": {},
     "output_type": "execute_result"
    }
   ],
   "source": [
    "from collections import Counter\n",
    "\n",
    "mlist2 = Counter(mlist)\n",
    "mlist2"
   ]
  },
  {
   "cell_type": "code",
   "execution_count": 13,
   "metadata": {},
   "outputs": [
    {
     "data": {
      "text/plain": [
       "{'s': 2, 'a': 2, 't': 1, 'h': 1, 'i': 1, 'n': 1}"
      ]
     },
     "execution_count": 13,
     "metadata": {},
     "output_type": "execute_result"
    }
   ],
   "source": [
    "dict(mlist2)"
   ]
  },
  {
   "cell_type": "code",
   "execution_count": 14,
   "metadata": {},
   "outputs": [
    {
     "data": {
      "text/plain": [
       "['s', 'a', 't', 'h', 'i', 'n']"
      ]
     },
     "execution_count": 14,
     "metadata": {},
     "output_type": "execute_result"
    }
   ],
   "source": [
    "list(mlist2)"
   ]
  },
  {
   "cell_type": "code",
   "execution_count": 15,
   "metadata": {},
   "outputs": [
    {
     "data": {
      "text/plain": [
       "{'a', 'h', 'i', 'n', 's', 't'}"
      ]
     },
     "execution_count": 15,
     "metadata": {},
     "output_type": "execute_result"
    }
   ],
   "source": [
    "set(mlist2)"
   ]
  },
  {
   "cell_type": "code",
   "execution_count": 16,
   "metadata": {},
   "outputs": [
    {
     "data": {
      "text/plain": [
       "['red', 'white', 'blue', 'green']"
      ]
     },
     "execution_count": 16,
     "metadata": {},
     "output_type": "execute_result"
    }
   ],
   "source": [
    "#6: Adding an item at an index\n",
    "# list.insert(index, item)\n",
    "\n",
    "# old_list = ['red', 'blue', 'green']\n",
    "\n",
    "old_list.insert(1, 'white')\n",
    "old_list"
   ]
  },
  {
   "cell_type": "code",
   "execution_count": 17,
   "metadata": {},
   "outputs": [
    {
     "data": {
      "text/plain": [
       "['red', 'white', 'blue', 'green', 'black']"
      ]
     },
     "execution_count": 17,
     "metadata": {},
     "output_type": "execute_result"
    }
   ],
   "source": [
    "old_list.insert(100, 'black') # same as old_list.append('black')\n",
    "old_list"
   ]
  },
  {
   "cell_type": "code",
   "execution_count": 18,
   "metadata": {},
   "outputs": [
    {
     "data": {
      "text/plain": [
       "'black'"
      ]
     },
     "execution_count": 18,
     "metadata": {},
     "output_type": "execute_result"
    }
   ],
   "source": [
    "#7: Removing an item from an index\n",
    "# list.pop(index)\n",
    "\n",
    "old_list.pop()  # 'black'\n"
   ]
  },
  {
   "cell_type": "code",
   "execution_count": 19,
   "metadata": {},
   "outputs": [
    {
     "data": {
      "text/plain": [
       "'red'"
      ]
     },
     "execution_count": 19,
     "metadata": {},
     "output_type": "execute_result"
    }
   ],
   "source": [
    "old_list.pop(0) # 'red'"
   ]
  },
  {
   "cell_type": "code",
   "execution_count": 20,
   "metadata": {},
   "outputs": [
    {
     "data": {
      "text/plain": [
       "['white', 'red', 'blue', 'green', 'red']"
      ]
     },
     "execution_count": 20,
     "metadata": {},
     "output_type": "execute_result"
    }
   ],
   "source": [
    "#8: To remove first occurence of an item\n",
    "\n",
    "new_list = ['red', 'white', 'red','blue', 'green', 'red']\n",
    "\n",
    "if 'red' in new_list:\n",
    "    new_list.remove('red')\n",
    "    \n",
    "new_list # will remove only the first 'red'"
   ]
  },
  {
   "cell_type": "code",
   "execution_count": 21,
   "metadata": {},
   "outputs": [
    {
     "data": {
      "text/plain": [
       "['white', 'blue', 'green']"
      ]
     },
     "execution_count": 21,
     "metadata": {},
     "output_type": "execute_result"
    }
   ],
   "source": [
    "# To remove all 'red' instances:\n",
    "\n",
    "new_list_no_red = [x for x in new_list if x is not 'red']\n",
    "new_list_no_red"
   ]
  },
  {
   "cell_type": "code",
   "execution_count": 22,
   "metadata": {},
   "outputs": [
    {
     "name": "stdout",
     "output_type": "stream",
     "text": [
      "['white', 'red', 'blue', 'green', 'red']\n"
     ]
    }
   ],
   "source": [
    "#9 list.reverse()\n",
    "\n",
    "print(new_list)\n"
   ]
  },
  {
   "cell_type": "code",
   "execution_count": 23,
   "metadata": {},
   "outputs": [],
   "source": [
    "new_list.reverse()"
   ]
  },
  {
   "cell_type": "code",
   "execution_count": 24,
   "metadata": {},
   "outputs": [
    {
     "data": {
      "text/plain": [
       "['red', 'green', 'blue', 'red', 'white']"
      ]
     },
     "execution_count": 24,
     "metadata": {},
     "output_type": "execute_result"
    }
   ],
   "source": [
    "new_list"
   ]
  },
  {
   "cell_type": "code",
   "execution_count": 25,
   "metadata": {},
   "outputs": [
    {
     "data": {
      "text/plain": [
       "<list_reverseiterator at 0x10de99390>"
      ]
     },
     "execution_count": 25,
     "metadata": {},
     "output_type": "execute_result"
    }
   ],
   "source": [
    "# If you don't want to reverse, but access items in the reverse order:\n",
    "\n",
    "reversed(new_list)"
   ]
  },
  {
   "cell_type": "code",
   "execution_count": 26,
   "metadata": {},
   "outputs": [
    {
     "data": {
      "text/plain": [
       "['white', 'red', 'blue', 'green', 'red']"
      ]
     },
     "execution_count": 26,
     "metadata": {},
     "output_type": "execute_result"
    }
   ],
   "source": [
    "list(reversed(new_list))"
   ]
  },
  {
   "cell_type": "code",
   "execution_count": 27,
   "metadata": {},
   "outputs": [
    {
     "name": "stdout",
     "output_type": "stream",
     "text": [
      "['red', 'red', 'Blue', 'Green', 'white']\n"
     ]
    }
   ],
   "source": [
    "#10 list.sort(key)\n",
    "\n",
    "mlist = ['red', 'Green', 'Blue', 'red', 'white']\n",
    "\n",
    "mlist.sort(key=len) # Key -- by length of string\n",
    "# sort() method sorts the list in ASCIIbetical order not actual alphabetical order. \n",
    "# This means uppercase letters come before lowercase letters.\n",
    "\n",
    "print(mlist)\n"
   ]
  },
  {
   "cell_type": "code",
   "execution_count": 28,
   "metadata": {},
   "outputs": [
    {
     "name": "stdout",
     "output_type": "stream",
     "text": [
      "['Blue', 'Green', 'red', 'red', 'white']\n"
     ]
    }
   ],
   "source": [
    "mlist.sort(key=str.lower) # Key -- by length of string\n",
    "\n",
    "print(mlist)"
   ]
  },
  {
   "cell_type": "code",
   "execution_count": 29,
   "metadata": {},
   "outputs": [
    {
     "name": "stdout",
     "output_type": "stream",
     "text": [
      "[{'name': 'Max', 'age': 25}, {'name': 'Bob', 'age': 30}, {'name': 'Sam', 'age': 35}]\n"
     ]
    }
   ],
   "source": [
    "# Sort a list of dictionaries based on the age of students\n",
    "\n",
    "def myFunc(e):\n",
    "    return e['age'] # return age\n",
    "\n",
    "L = [{'name': 'Bob', 'age': 30},\n",
    "     {'name': 'Sam', 'age': 35},\n",
    "     {'name': 'Max', 'age': 25}]\n",
    "\n",
    "L.sort(key=myFunc)\n",
    "print(L)\n",
    "\n",
    "# [{'age': 25, 'name': 'Max'}, {'age': 30, 'name': 'Bob'}, {'age': 35, 'name': 'Sam'}]"
   ]
  },
  {
   "cell_type": "code",
   "execution_count": 30,
   "metadata": {},
   "outputs": [
    {
     "name": "stdout",
     "output_type": "stream",
     "text": [
      "[('Max', 25), ('Bob', 30), ('Sam', 35)]\n"
     ]
    }
   ],
   "source": [
    "# Sort a list of tuples based on the age of students\n",
    "\n",
    "def returnAge(e):\n",
    "    return e[1]   # return age\n",
    "\n",
    "L = [('Bob', 30),\n",
    "     ('Sam', 35),\n",
    "     ('Max', 25)]\n",
    "\n",
    "L.sort(key=returnAge)\n",
    "print(L)\n",
    "\n",
    "# Prints [('Max', 25), ('Bob', 30), ('Sam', 35)]"
   ]
  },
  {
   "cell_type": "code",
   "execution_count": null,
   "metadata": {},
   "outputs": [],
   "source": []
  }
 ],
 "metadata": {
  "kernelspec": {
   "display_name": "Python 3",
   "language": "python",
   "name": "python3"
  },
  "language_info": {
   "codemirror_mode": {
    "name": "ipython",
    "version": 3
   },
   "file_extension": ".py",
   "mimetype": "text/x-python",
   "name": "python",
   "nbconvert_exporter": "python",
   "pygments_lexer": "ipython3",
   "version": "3.7.4"
  }
 },
 "nbformat": 4,
 "nbformat_minor": 2
}
