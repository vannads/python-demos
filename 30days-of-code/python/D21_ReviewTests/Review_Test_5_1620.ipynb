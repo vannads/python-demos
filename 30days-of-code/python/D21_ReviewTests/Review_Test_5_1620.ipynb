{
 "cells": [
  {
   "cell_type": "markdown",
   "metadata": {},
   "source": [
    "<b> Dictionary Methods </b>"
   ]
  },
  {
   "cell_type": "code",
   "execution_count": 1,
   "metadata": {},
   "outputs": [
    {
     "name": "stdout",
     "output_type": "stream",
     "text": [
      "{}\n"
     ]
    }
   ],
   "source": [
    "#1: d.clear()\n",
    "\n",
    "D = {'name': 'Bob', 'age': 25}\n",
    "D.clear()\n",
    "print(D)\n",
    "# Prints {}"
   ]
  },
  {
   "cell_type": "code",
   "execution_count": 2,
   "metadata": {},
   "outputs": [
    {
     "name": "stdout",
     "output_type": "stream",
     "text": [
      "{'name': 'Bob', 'age': 25}\n"
     ]
    }
   ],
   "source": [
    "#2: d.copy() -- Shallow Copy\n",
    "\n",
    "D = {'name': 'Bob', 'age': 25}\n",
    "X = D.copy()\n",
    "print(X)\n",
    "# Prints {'age': 25, 'name': 'Bob'}"
   ]
  },
  {
   "cell_type": "code",
   "execution_count": 3,
   "metadata": {},
   "outputs": [
    {
     "name": "stdout",
     "output_type": "stream",
     "text": [
      "{'Bob': 'Developer', 'Sam': 'Developer'}\n"
     ]
    }
   ],
   "source": [
    "#3: d.fromleys(keys, value)\n",
    "'''\n",
    "Create a dictionary and set default value 'Developer' for all keys\n",
    "'''\n",
    "\n",
    "D = dict.fromkeys(['Bob', 'Sam'], 'Developer')\n",
    "print(D)\n",
    "\n",
    "# Prints {'Bob': 'Developer', 'Sam': 'Developer'}"
   ]
  },
  {
   "cell_type": "code",
   "execution_count": 4,
   "metadata": {},
   "outputs": [
    {
     "name": "stdout",
     "output_type": "stream",
     "text": [
      "{'Mike': None, 'Sally': None}\n"
     ]
    }
   ],
   "source": [
    "D1 = dict.fromkeys(['Mike', 'Sally'])\n",
    "print(D1)\n",
    "\n",
    "# Prints {'Mike': None, 'Sally': None}"
   ]
  },
  {
   "cell_type": "code",
   "execution_count": 5,
   "metadata": {},
   "outputs": [
    {
     "name": "stdout",
     "output_type": "stream",
     "text": [
      "{'Bob': 'Developer', 'Sam': 'Developer'}\n",
      "{'Bob': None, 'Sam': None}\n"
     ]
    }
   ],
   "source": [
    "'''\n",
    "Dictionary comprehensions are also useful for initializing dictionaries from keys lists,\n",
    "in much the same way as the fromkeys() method.\n",
    "'''\n",
    "\n",
    "# As if default value is specified\n",
    "L = ['Bob', 'Sam']\n",
    "D3 = {key:'Developer' for key in L}\n",
    "print(D3)\n",
    "# Prints {'Bob': 'Developer', 'Sam': 'Developer'}\n",
    "\n",
    "\n",
    "# As if default value is not specified\n",
    "L = ['Bob', 'Sam']\n",
    "D4 = {key:None for key in L}\n",
    "print(D4)\n",
    "# Prints {'Bob': None, 'Sam': None}"
   ]
  },
  {
   "cell_type": "code",
   "execution_count": null,
   "metadata": {},
   "outputs": [],
   "source": []
  }
 ],
 "metadata": {
  "kernelspec": {
   "display_name": "Python 3",
   "language": "python",
   "name": "python3"
  },
  "language_info": {
   "codemirror_mode": {
    "name": "ipython",
    "version": 3
   },
   "file_extension": ".py",
   "mimetype": "text/x-python",
   "name": "python",
   "nbconvert_exporter": "python",
   "pygments_lexer": "ipython3",
   "version": "3.7.4"
  }
 },
 "nbformat": 4,
 "nbformat_minor": 2
}
