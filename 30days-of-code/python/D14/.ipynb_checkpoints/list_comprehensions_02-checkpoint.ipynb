{
 "cells": [
  {
   "cell_type": "markdown",
   "metadata": {},
   "source": [
    "### Ex 1 : List Comprehensions (+)"
   ]
  },
  {
   "cell_type": "raw",
   "metadata": {},
   "source": [
    "# Input: names are >> 'srikanth padma sriram prakash kittur godwin sathisan luke darrell charles kim morganti gireesh'\n",
    "# Task: filter out names starting with A-M (one of first 13 ascii characters)"
   ]
  },
  {
   "cell_type": "code",
   "execution_count": 1,
   "metadata": {},
   "outputs": [
    {
     "data": {
      "text/plain": [
       "['srikanth',\n",
       " 'padma',\n",
       " 'sriram',\n",
       " 'prakash',\n",
       " 'kittur',\n",
       " 'godwin',\n",
       " 'sathisan',\n",
       " 'luke',\n",
       " 'darrell',\n",
       " 'charles',\n",
       " 'kim',\n",
       " 'morganti',\n",
       " 'gireesh']"
      ]
     },
     "execution_count": 1,
     "metadata": {},
     "output_type": "execute_result"
    }
   ],
   "source": [
    "names = 'srikanth padma sriram prakash kittur godwin sathisan luke darrell charles kim morganti gireesh'.split()\n",
    "names"
   ]
  },
  {
   "cell_type": "code",
   "execution_count": 2,
   "metadata": {},
   "outputs": [
    {
     "data": {
      "text/plain": [
       "['a', 'b', 'c', 'd', 'e', 'f', 'g', 'h', 'i', 'j', 'k', 'l', 'm']"
      ]
     },
     "execution_count": 2,
     "metadata": {},
     "output_type": "execute_result"
    }
   ],
   "source": [
    "# filter out names starting with A-M (first 13 ascii)\n",
    "import string\n",
    "\n",
    "am_list = list(string.ascii_lowercase[:13])\n",
    "am_list"
   ]
  },
  {
   "cell_type": "code",
   "execution_count": 3,
   "metadata": {},
   "outputs": [],
   "source": [
    "names_list = [name.title() for name in names if name[0] in am_list]"
   ]
  },
  {
   "cell_type": "code",
   "execution_count": 4,
   "metadata": {},
   "outputs": [
    {
     "data": {
      "text/plain": [
       "['Charles',\n",
       " 'Darrell',\n",
       " 'Gireesh',\n",
       " 'Godwin',\n",
       " 'Kim',\n",
       " 'Kittur',\n",
       " 'Luke',\n",
       " 'Morganti']"
      ]
     },
     "execution_count": 4,
     "metadata": {},
     "output_type": "execute_result"
    }
   ],
   "source": [
    "sorted(names_list)"
   ]
  },
  {
   "cell_type": "code",
   "execution_count": 5,
   "metadata": {},
   "outputs": [
    {
     "data": {
      "text/plain": [
       "['Kittur',\n",
       " 'Godwin',\n",
       " 'Luke',\n",
       " 'Darrell',\n",
       " 'Charles',\n",
       " 'Kim',\n",
       " 'Morganti',\n",
       " 'Gireesh']"
      ]
     },
     "execution_count": 5,
     "metadata": {},
     "output_type": "execute_result"
    }
   ],
   "source": [
    "# Putting it together\n",
    "\n",
    "import string\n",
    "\n",
    "names = 'srikanth padma sriram prakash kittur godwin sathisan luke darrell charles kim morganti gireesh'.split()\n",
    "am_list = list(string.ascii_lowercase[:13])\n",
    "\n",
    "names_list = [name.title() for name in names if name[0] in am_list]\n",
    "names_list"
   ]
  },
  {
   "cell_type": "markdown",
   "metadata": {},
   "source": [
    "### Ex 2: Counter"
   ]
  },
  {
   "cell_type": "raw",
   "metadata": {},
   "source": [
    "# Most freqently used words in Harry Potter"
   ]
  },
  {
   "cell_type": "code",
   "execution_count": 12,
   "metadata": {},
   "outputs": [],
   "source": [
    "from collections import Counter\n",
    "import requests\n",
    "import re"
   ]
  },
  {
   "cell_type": "code",
   "execution_count": 13,
   "metadata": {},
   "outputs": [],
   "source": [
    "resp_text = requests.get(\"http://projects.bobbelderbos.com/pcc/harry.txt\")\n",
    "all_words = resp_text.text.lower().split()"
   ]
  },
  {
   "cell_type": "code",
   "execution_count": 14,
   "metadata": {},
   "outputs": [
    {
     "data": {
      "text/plain": [
       "['the', 'boy', 'who', 'lived', 'mr']"
      ]
     },
     "execution_count": 14,
     "metadata": {},
     "output_type": "execute_result"
    }
   ],
   "source": [
    "words = [re.sub(r'\\W+', r'', word) for word in all_words]\n",
    "words[:5]"
   ]
  },
  {
   "cell_type": "code",
   "execution_count": 15,
   "metadata": {},
   "outputs": [
    {
     "data": {
      "text/plain": [
       "['a', 'about', 'above', 'across', 'after']"
      ]
     },
     "execution_count": 15,
     "metadata": {},
     "output_type": "execute_result"
    }
   ],
   "source": [
    "resp_sw = requests.get('http://projects.bobbelderbos.com/pcc/stopwords.txt')\n",
    "stop_words = resp_sw.text.lower().split()\n",
    "stop_words[:5]"
   ]
  },
  {
   "cell_type": "code",
   "execution_count": 16,
   "metadata": {},
   "outputs": [
    {
     "data": {
      "text/plain": [
       "[('dursley', 45),\n",
       " ('dumbledore', 35),\n",
       " ('said', 32),\n",
       " ('mr', 30),\n",
       " ('professor', 30),\n",
       " ('mcgonagall', 25),\n",
       " ('mrs', 21),\n",
       " ('people', 21),\n",
       " ('didnt', 20),\n",
       " ('cat', 20)]"
      ]
     },
     "execution_count": 16,
     "metadata": {},
     "output_type": "execute_result"
    }
   ],
   "source": [
    "words = [word for word in words if word.strip() and word not in stop_words]\n",
    "cntr = Counter(words)\n",
    "cntr.most_common(10)"
   ]
  },
  {
   "cell_type": "code",
   "execution_count": null,
   "metadata": {},
   "outputs": [],
   "source": []
  },
  {
   "cell_type": "code",
   "execution_count": null,
   "metadata": {},
   "outputs": [],
   "source": []
  }
 ],
 "metadata": {
  "kernelspec": {
   "display_name": "Python 3",
   "language": "python",
   "name": "python3"
  },
  "language_info": {
   "codemirror_mode": {
    "name": "ipython",
    "version": 3
   },
   "file_extension": ".py",
   "mimetype": "text/x-python",
   "name": "python",
   "nbconvert_exporter": "python",
   "pygments_lexer": "ipython3",
   "version": "3.7.4"
  }
 },
 "nbformat": 4,
 "nbformat_minor": 2
}
