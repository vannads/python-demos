{
 "cells": [
  {
   "cell_type": "markdown",
   "metadata": {},
   "source": [
    "# Ex 1"
   ]
  },
  {
   "cell_type": "raw",
   "metadata": {},
   "source": [
    "# Input: names are >> 'srikanth padma sriram prakash kittur godwin sathisan luke darrell charles kim morganti gireesh'\n",
    "# Task: filter out names starting with A-M (one of first 13 ascii characters)"
   ]
  },
  {
   "cell_type": "code",
   "execution_count": 1,
   "metadata": {},
   "outputs": [
    {
     "data": {
      "text/plain": [
       "['srikanth',\n",
       " 'padma',\n",
       " 'sriram',\n",
       " 'prakash',\n",
       " 'kittur',\n",
       " 'godwin',\n",
       " 'sathisan',\n",
       " 'luke',\n",
       " 'darrell',\n",
       " 'charles',\n",
       " 'kim',\n",
       " 'morganti',\n",
       " 'gireesh']"
      ]
     },
     "execution_count": 1,
     "metadata": {},
     "output_type": "execute_result"
    }
   ],
   "source": [
    "names = 'srikanth padma sriram prakash kittur godwin sathisan luke darrell charles kim morganti gireesh'.split()\n",
    "names"
   ]
  },
  {
   "cell_type": "code",
   "execution_count": 2,
   "metadata": {},
   "outputs": [
    {
     "data": {
      "text/plain": [
       "['a', 'b', 'c', 'd', 'e', 'f', 'g', 'h', 'i', 'j', 'k', 'l', 'm']"
      ]
     },
     "execution_count": 2,
     "metadata": {},
     "output_type": "execute_result"
    }
   ],
   "source": [
    "# filter out names starting with A-M (first 13 ascii)\n",
    "import string\n",
    "\n",
    "am_list = list(string.ascii_lowercase[:13])\n",
    "am_list"
   ]
  },
  {
   "cell_type": "code",
   "execution_count": 3,
   "metadata": {},
   "outputs": [],
   "source": [
    "names_list = [name.title() for name in names if name[0] in am_list]"
   ]
  },
  {
   "cell_type": "code",
   "execution_count": 4,
   "metadata": {},
   "outputs": [
    {
     "data": {
      "text/plain": [
       "['Charles',\n",
       " 'Darrell',\n",
       " 'Gireesh',\n",
       " 'Godwin',\n",
       " 'Kim',\n",
       " 'Kittur',\n",
       " 'Luke',\n",
       " 'Morganti']"
      ]
     },
     "execution_count": 4,
     "metadata": {},
     "output_type": "execute_result"
    }
   ],
   "source": [
    "sorted(names_list)"
   ]
  },
  {
   "cell_type": "code",
   "execution_count": 5,
   "metadata": {},
   "outputs": [
    {
     "data": {
      "text/plain": [
       "['Kittur',\n",
       " 'Godwin',\n",
       " 'Luke',\n",
       " 'Darrell',\n",
       " 'Charles',\n",
       " 'Kim',\n",
       " 'Morganti',\n",
       " 'Gireesh']"
      ]
     },
     "execution_count": 5,
     "metadata": {},
     "output_type": "execute_result"
    }
   ],
   "source": [
    "# Putting it together\n",
    "\n",
    "import string\n",
    "\n",
    "names = 'srikanth padma sriram prakash kittur godwin sathisan luke darrell charles kim morganti gireesh'.split()\n",
    "am_list = list(string.ascii_lowercase[:13])\n",
    "\n",
    "names_list = [name.title() for name in names if name[0] in am_list]\n",
    "names_list"
   ]
  },
  {
   "cell_type": "code",
   "execution_count": null,
   "metadata": {},
   "outputs": [],
   "source": []
  }
 ],
 "metadata": {
  "kernelspec": {
   "display_name": "Python 3",
   "language": "python",
   "name": "python3"
  },
  "language_info": {
   "codemirror_mode": {
    "name": "ipython",
    "version": 3
   },
   "file_extension": ".py",
   "mimetype": "text/x-python",
   "name": "python",
   "nbconvert_exporter": "python",
   "pygments_lexer": "ipython3",
   "version": "3.7.4"
  }
 },
 "nbformat": 4,
 "nbformat_minor": 2
}
