{
 "cells": [
  {
   "cell_type": "markdown",
   "metadata": {},
   "source": [
    "- Example: 3\n",
    "\n",
    "**Merging two dictionaries**"
   ]
  },
  {
   "cell_type": "code",
   "execution_count": 1,
   "metadata": {},
   "outputs": [
    {
     "name": "stdout",
     "output_type": "stream",
     "text": [
      "{'Peter': 3, 'Piper': 5, 'Picked': 1, 'Johnny': 5, 'Cab': 5}\n"
     ]
    }
   ],
   "source": [
    "# Method:1 -- NOT true merge\n",
    "\n",
    "def merge_two_dicts(x, y):\n",
    "    z = x.copy()\n",
    "    z.update(y)\n",
    "    return z\n",
    "\n",
    "dict_a = {'Peter': 2, 'Piper': 5, 'Picked': 4}\n",
    "dict_b = {'Peter': 3, 'Picked': 1, 'Johnny': 5 , 'Cab': 5}\n",
    "\n",
    "m_dict_ab = merge_two_dicts(dict_a, dict_b)\n",
    "print(m_dict_ab)"
   ]
  },
  {
   "cell_type": "code",
   "execution_count": 2,
   "metadata": {},
   "outputs": [
    {
     "data": {
      "text/plain": [
       "{'Peter': 3, 'Piper': 5, 'Picked': 1, 'Johnny': 5, 'Cab': 5}"
      ]
     },
     "execution_count": 2,
     "metadata": {},
     "output_type": "execute_result"
    }
   ],
   "source": [
    "# Method:2 -- NOT true merge\n",
    "\n",
    "z = {**dict_a, **dict_b}\n",
    "z"
   ]
  },
  {
   "cell_type": "code",
   "execution_count": 3,
   "metadata": {},
   "outputs": [
    {
     "data": {
      "text/plain": [
       "{'Peter': 2, 'Picked': 4, 'Johnny': 5, 'Cab': 5, 'Piper': 5}"
      ]
     },
     "execution_count": 3,
     "metadata": {},
     "output_type": "execute_result"
    }
   ],
   "source": [
    "# Method: 3 -- NOT true merge\n",
    "\n",
    "from collections import ChainMap\n",
    "dict(ChainMap(dict_a, dict_b))"
   ]
  },
  {
   "cell_type": "code",
   "execution_count": 4,
   "metadata": {},
   "outputs": [
    {
     "name": "stdout",
     "output_type": "stream",
     "text": [
      "Counter({'Peter': 5, 'Piper': 5, 'Picked': 5, 'Johnny': 5, 'Cab': 5})\n"
     ]
    }
   ],
   "source": [
    "# Method: 4 -- Golden *** -- YES, true merge!!!\n",
    "\n",
    "from collections import Counter\n",
    "\n",
    "a = Counter(dict_a)\n",
    "b = Counter(dict_b)\n",
    "\n",
    "m_dict_ab = a+b\n",
    "print(m_dict_ab)"
   ]
  },
  {
   "cell_type": "markdown",
   "metadata": {},
   "source": [
    "- Example: 4\n",
    "\n",
    "**Merging multiple dictionaries**"
   ]
  },
  {
   "cell_type": "code",
   "execution_count": 5,
   "metadata": {},
   "outputs": [
    {
     "name": "stdout",
     "output_type": "stream",
     "text": [
      "{'Peter': 8, 'Piper': 8, 'Picked': 8, 'Johnny': 5, 'Cab': 5, 'Julia': 8}\n"
     ]
    }
   ],
   "source": [
    "# Method: 5 -- Reusable, multiple dicts - Golden ***\n",
    "\n",
    "def merge_dicts(*dict_args):\n",
    "    \n",
    "    from collections import Counter\n",
    "    result = Counter()\n",
    "    \n",
    "    for dict in dict_args:\n",
    "        result.update(Counter(dict))\n",
    "        \n",
    "    return result\n",
    "\n",
    "dict_a = {'Peter': 2, 'Piper': 5, 'Picked': 4}\n",
    "dict_b = {'Peter': 3, 'Picked': 1, 'Johnny': 5 , 'Cab': 5}\n",
    "dict_c = {'Peter': 3, 'Piper': 3, 'Picked': 3, 'Julia': 8}\n",
    "\n",
    "m_dict = dict(merge_dicts(dict_a, dict_b, dict_c))\n",
    "print(m_dict)"
   ]
  },
  {
   "cell_type": "markdown",
   "metadata": {},
   "source": [
    "- Example: 5\n",
    "    \n",
    "**Merging multiple JSON files**"
   ]
  },
  {
   "cell_type": "code",
   "execution_count": 6,
   "metadata": {},
   "outputs": [],
   "source": [
    "import json\n",
    "\n",
    "with open(\"file1.json\") as fo:\n",
    "    data1 = json.load(fo)\n",
    "    \n",
    "with open(\"file2.json\") as fo:\n",
    "    data2 = json.load(fo)\n",
    "    \n",
    "data1.update(data2)\n",
    "\n",
    "with open(\"file4.json\", \"w\") as fo:\n",
    "    json.dump(data1, fo)"
   ]
  },
  {
   "cell_type": "code",
   "execution_count": 7,
   "metadata": {},
   "outputs": [],
   "source": [
    "def merge_json_files(*json_args):\n",
    "    \n",
    "    import json\n",
    "    result = {}\n",
    "    \n",
    "    for file in json_args:\n",
    "        with open(file) as fo:\n",
    "            data1 = json.load(fo)\n",
    "            result.update(data1)\n",
    "            \n",
    "    with open(\"Outfile.json\", \"w\") as fo:\n",
    "        json.dump(result, fo)\n"
   ]
  },
  {
   "cell_type": "code",
   "execution_count": 8,
   "metadata": {},
   "outputs": [],
   "source": [
    "merge_json_files(\"file1.json\", \"file2.json\", \"file5.json\")"
   ]
  },
  {
   "cell_type": "markdown",
   "metadata": {},
   "source": [
    "- Example: 6\n",
    "    \n",
    "**Copying Files**"
   ]
  },
  {
   "cell_type": "code",
   "execution_count": 9,
   "metadata": {},
   "outputs": [
    {
     "data": {
      "text/plain": [
       "'file5_copy.json'"
      ]
     },
     "execution_count": 9,
     "metadata": {},
     "output_type": "execute_result"
    }
   ],
   "source": [
    "from shutil import copyfile\n",
    "copyfile(\"file5.json\", \"file5_copy.json\")"
   ]
  },
  {
   "cell_type": "code",
   "execution_count": 10,
   "metadata": {},
   "outputs": [
    {
     "data": {
      "text/plain": [
       "'outfile_copy.json'"
      ]
     },
     "execution_count": 10,
     "metadata": {},
     "output_type": "execute_result"
    }
   ],
   "source": [
    "def copy_file(src, dst):\n",
    "    from shutil import copyfile\n",
    "    \n",
    "    return copyfile(src, dst)\n",
    "\n",
    "copy_file(\"outfile.json\", \"outfile_copy.json\")\n"
   ]
  },
  {
   "cell_type": "code",
   "execution_count": null,
   "metadata": {},
   "outputs": [],
   "source": []
  }
 ],
 "metadata": {
  "kernelspec": {
   "display_name": "Python 3",
   "language": "python",
   "name": "python3"
  },
  "language_info": {
   "codemirror_mode": {
    "name": "ipython",
    "version": 3
   },
   "file_extension": ".py",
   "mimetype": "text/x-python",
   "name": "python",
   "nbconvert_exporter": "python",
   "pygments_lexer": "ipython3",
   "version": "3.7.4"
  }
 },
 "nbformat": 4,
 "nbformat_minor": 2
}
