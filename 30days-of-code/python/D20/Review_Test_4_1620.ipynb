{
 "cells": [
  {
   "cell_type": "code",
   "execution_count": 3,
   "metadata": {},
   "outputs": [
    {
     "name": "stdout",
     "output_type": "stream",
     "text": [
      "Passed\n"
     ]
    }
   ],
   "source": [
    "'''\n",
    "Task: Remove repeating characters and output result in the same order of input\n",
    "\n",
    "Test Sample: \n",
    "------------\n",
    "string_xplosion('SSaSSathissaan.') == 'sathin'\n",
    "string_xplosion('  SSa  SSathi    ssaan') == 'sathin'\n",
    "\n",
    "\n",
    "Revision History: \n",
    "-----------------\n",
    "\n",
    "R1. Added code to remove whitespaces.\n",
    "\n",
    "\n",
    "'''\n",
    "\n",
    "import re\n",
    "\n",
    "def string_xplosion(myStr):\n",
    "    '''\n",
    "    1. Create mySet, an empty set(); and an empty string 'result'\n",
    "    2. Cast myStr to lower()\n",
    "    3. For each char in 'myStr' check its already in 'mySet'\n",
    "    4.     if no, add to 'mySet'\n",
    "    5.     add the char to 'result'\n",
    "    6. return 'result'\n",
    "    \n",
    "    '''\n",
    "    mySet = set()\n",
    "    result = ''\n",
    "    myStr = re.sub(' +', '', myStr).lower()\n",
    "    \n",
    "    for char in myStr:\n",
    "        if char not in mySet:\n",
    "            mySet.add(char)\n",
    "            result += char\n",
    "    \n",
    "    return result  \n",
    "\n",
    "myStr = 'SSaSSathissaan'\n",
    "\n",
    "assert string_xplosion('SSaSSathissaan') == 'sathin'\n",
    "assert string_xplosion('  SSa  SSathi    ssaan') == 'sathin'\n",
    "print(\"Passed\")"
   ]
  },
  {
   "cell_type": "code",
   "execution_count": null,
   "metadata": {},
   "outputs": [],
   "source": []
  }
 ],
 "metadata": {
  "kernelspec": {
   "display_name": "Python 3",
   "language": "python",
   "name": "python3"
  },
  "language_info": {
   "codemirror_mode": {
    "name": "ipython",
    "version": 3
   },
   "file_extension": ".py",
   "mimetype": "text/x-python",
   "name": "python",
   "nbconvert_exporter": "python",
   "pygments_lexer": "ipython3",
   "version": "3.7.4"
  }
 },
 "nbformat": 4,
 "nbformat_minor": 2
}
