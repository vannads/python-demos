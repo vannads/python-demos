{
 "cells": [
  {
   "cell_type": "code",
   "execution_count": 1,
   "metadata": {},
   "outputs": [
    {
     "name": "stdout",
     "output_type": "stream",
     "text": [
      "Column Names are: empno, lname, fname, age, salary, position\n",
      "\t Sheeja Sathisan works as a  Banker with a salary of USD 45000\n",
      "\t John Miller works as a  Accountant with a salary of USD 43000\n",
      "\t Haider Imran works as a  Executive with a salary of USD 150000\n",
      "\t Adam Vancini works as a  Sr Executive with a salary of USD 175000\n",
      "\t Sheryl Enomoto works as a  Consultant with a salary of USD 98000\n",
      "Processed: 6 lines\n"
     ]
    }
   ],
   "source": [
    "import csv\n",
    "\n",
    "with open('employee1.txt') as emp_list:\n",
    "    csv_reader = csv.reader(emp_list, delimiter=',')\n",
    "    line_count = 0\n",
    "    \n",
    "    for row in csv_reader:\n",
    "        if line_count == 0:\n",
    "            print(f'Column Names are: {\",\".join(row)}')\n",
    "            line_count += 1\n",
    "            \n",
    "        else:\n",
    "            print(f'\\t{row[2]+row[1] } works as a {row[-1]} with a salary of USD{row[4]}')\n",
    "            line_count += 1\n",
    "            \n",
    "    print(f'Processed: { line_count} lines')"
   ]
  },
  {
   "cell_type": "code",
   "execution_count": null,
   "metadata": {},
   "outputs": [],
   "source": []
  }
 ],
 "metadata": {
  "kernelspec": {
   "display_name": "Python 3",
   "language": "python",
   "name": "python3"
  },
  "language_info": {
   "codemirror_mode": {
    "name": "ipython",
    "version": 3
   },
   "file_extension": ".py",
   "mimetype": "text/x-python",
   "name": "python",
   "nbconvert_exporter": "python",
   "pygments_lexer": "ipython3",
   "version": "3.7.4"
  }
 },
 "nbformat": 4,
 "nbformat_minor": 2
}
