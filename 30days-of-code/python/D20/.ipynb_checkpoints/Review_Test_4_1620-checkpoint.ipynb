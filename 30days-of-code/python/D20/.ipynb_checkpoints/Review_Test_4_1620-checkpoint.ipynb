{
 "cells": [
  {
   "cell_type": "code",
   "execution_count": 1,
   "metadata": {},
   "outputs": [
    {
     "name": "stdout",
     "output_type": "stream",
     "text": [
      "Passed\n"
     ]
    }
   ],
   "source": [
    "'''\n",
    "Q1: Remove repeating characters and output result in the same order of input\n",
    "\n",
    "Test Sample: \n",
    "------------\n",
    "string_xplosion('SSaSSathissaan.') == 'sathin'\n",
    "string_xplosion('  SSa  SSathi    ssaan') == 'sathin'\n",
    "\n",
    "\n",
    "Revision History: \n",
    "-----------------\n",
    "\n",
    "R1. Added code to remove whitespaces.\n",
    "\n",
    "\n",
    "'''\n",
    "\n",
    "import re\n",
    "\n",
    "def string_xplosion(myStr):\n",
    "    '''\n",
    "    1. Create mySet, an empty set(); and an empty string 'result'\n",
    "    2. Cast myStr to lower()\n",
    "    3. For each char in 'myStr' check its already in 'mySet'\n",
    "    4.     if no, add to 'mySet'\n",
    "    5.     add the char to 'result'\n",
    "    6. return 'result'\n",
    "    \n",
    "    '''\n",
    "    mySet = set()\n",
    "    result = ''\n",
    "    myStr = re.sub(' +', '', myStr).lower()\n",
    "    \n",
    "    for char in myStr:\n",
    "        if char not in mySet:\n",
    "            mySet.add(char)\n",
    "            result += char\n",
    "    \n",
    "    return result  \n",
    "\n",
    "myStr = 'SSaSSathissaan'\n",
    "\n",
    "assert string_xplosion('SSaSSathissaan') == 'sathin'\n",
    "assert string_xplosion('  SSa  SSathi    ssaan') == 'sathin'\n",
    "print(\"Passed\")"
   ]
  },
  {
   "cell_type": "code",
   "execution_count": 2,
   "metadata": {},
   "outputs": [
    {
     "name": "stdout",
     "output_type": "stream",
     "text": [
      "passed\n"
     ]
    }
   ],
   "source": [
    "'''\n",
    "Q2: Find out \"Centered Average\", after removing outliers from both the ends.\n",
    "\n",
    "Test Sample: \n",
    "------------\n",
    "Centered Average of : [1, 0, -60, 3, 6, 200, -7] == 0.6\n",
    "    : Remove outlier -60\n",
    "string_xplosion('  SSa  SSathi    ssaan') == 'sathin'\n",
    "\n",
    "\n",
    "Revision History: \n",
    "-----------------\n",
    "\n",
    "R1. Added new test case\n",
    "\n",
    "\n",
    "'''\n",
    "\n",
    "def centered_avg(myList):\n",
    "    \n",
    "    myList.sort()\n",
    "    temp = myList[1:-1]\n",
    "    total = 0.0\n",
    "    \n",
    "    for ele in temp:\n",
    "        total += ele\n",
    "       \n",
    "    return total/(len(temp))\n",
    "\n",
    "assert centered_avg([1, 0, -60, 3, 6, 200, -7]) == 0.6\n",
    "assert centered_avg([33, 32, -100, 38, 39, 120, 34]) == 35.2\n",
    "print('passed')"
   ]
  },
  {
   "cell_type": "code",
   "execution_count": 3,
   "metadata": {},
   "outputs": [
    {
     "name": "stdout",
     "output_type": "stream",
     "text": [
      "Passed\n"
     ]
    }
   ],
   "source": [
    "\n",
    "'''\n",
    "Q3: Build a dictionary from a string\n",
    "\n",
    "Test Sample: \n",
    "------------\n",
    "'SaThIsAn    VaNnAdiL  ' == {'s': 2, 'a': 4, 't': 1, 'h': 1, 'i': 2, 'n': 3, 'v': 1, 'd': 1, 'l': 1}\n",
    "'  SaThIsAn    sH e eJ a  ' == {'s': 3, 'a': 3, 't': 1, 'h': 2, 'i': 1, 'n': 1, 'e': 2, 'j': 1}\n",
    "\n",
    "\n",
    "Revision History: \n",
    "-----------------\n",
    "R1. \n",
    "\n",
    "\n",
    "'''\n",
    "# Without using dictionary comprehension\n",
    "\n",
    "import re\n",
    "\n",
    "def letter_count_dict(myWord):\n",
    "    \n",
    "    myDict = {}\n",
    "    myWord = myWord.lower()\n",
    "    myList = list(re.sub(' +', '', myWord))\n",
    "    \n",
    "    for elem in myList:\n",
    "        if elem not in myDict:\n",
    "            myDict[elem] = 1\n",
    "        else:\n",
    "            myDict[elem] += 1\n",
    "        \n",
    "    return myDict\n",
    "#     return result\n",
    "\n",
    "\n",
    "assert letter_count_dict('SaThIsAn    VaNnAdiL  ') == {'s': 2, 'a': 4, 't': 1, 'h': 1, 'i': 2, 'n': 3, 'v': 1, 'd': 1, 'l': 1}\n",
    "assert letter_count_dict('  SaThIsAn    sH e eJ a  ') == {'s': 3, 'a': 3, 't': 1, 'h': 2, 'i': 1, 'n': 1, 'e': 2, 'j': 1}\n",
    "\n",
    "print('Passed')"
   ]
  },
  {
   "cell_type": "code",
   "execution_count": null,
   "metadata": {},
   "outputs": [],
   "source": []
  }
 ],
 "metadata": {
  "kernelspec": {
   "display_name": "Python 3",
   "language": "python",
   "name": "python3"
  },
  "language_info": {
   "codemirror_mode": {
    "name": "ipython",
    "version": 3
   },
   "file_extension": ".py",
   "mimetype": "text/x-python",
   "name": "python",
   "nbconvert_exporter": "python",
   "pygments_lexer": "ipython3",
   "version": "3.7.4"
  }
 },
 "nbformat": 4,
 "nbformat_minor": 2
}
