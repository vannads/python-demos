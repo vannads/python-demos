{
 "cells": [
  {
   "cell_type": "markdown",
   "metadata": {},
   "source": [
    "### Read a CSV file:"
   ]
  },
  {
   "cell_type": "code",
   "execution_count": 1,
   "metadata": {},
   "outputs": [
    {
     "name": "stdout",
     "output_type": "stream",
     "text": [
      "Column Names are: empno, lname, fname, age, salary, position\n",
      "\t Sheeja Sathisan works as a  Banker with a salary of USD 45000\n",
      "\t John Miller works as a  Accountant with a salary of USD 43000\n",
      "\t Haider Imran works as a  Executive with a salary of USD 150000\n",
      "\t Adam Vancini works as a  Sr Executive with a salary of USD 175000\n",
      "\t Sheryl Enomoto works as a  Consultant with a salary of USD 98000\n",
      "Processed: 6 lines\n"
     ]
    }
   ],
   "source": [
    "import csv\n",
    "\n",
    "with open('employee1.txt') as emp_list:\n",
    "    csv_reader = csv.reader(emp_list, delimiter=',')\n",
    "    line_count = 0\n",
    "    \n",
    "    for row in csv_reader:\n",
    "        if line_count == 0:\n",
    "            print(f'Column Names are: {\",\".join(row)}')\n",
    "            line_count += 1\n",
    "            \n",
    "        else:\n",
    "            print(f'\\t{row[2]+row[1] } works as a {row[-1]} with a salary of USD{row[4]}')\n",
    "            line_count += 1\n",
    "            \n",
    "    print(f'Processed: { line_count} lines')"
   ]
  },
  {
   "cell_type": "code",
   "execution_count": 2,
   "metadata": {},
   "outputs": [
    {
     "name": "stdout",
     "output_type": "stream",
     "text": [
      "['empno', ' lname', ' fname', ' age', ' salary', ' position']\n",
      "['101', ' Sathisan', ' Sheeja', ' 31', ' 45000', ' Banker']\n",
      "['102', ' Miller', ' John', ' 45', ' 43000', ' Accountant']\n",
      "['103', ' Imran', ' Haider', ' 51', ' 150000', ' Executive']\n",
      "['104', ' Vancini', ' Adam', ' 55', ' 175000', ' Sr Executive']\n",
      "['105', ' Enomoto', ' Sheryl', ' 51', ' 98000', ' Consultant']\n"
     ]
    }
   ],
   "source": [
    "# Test contents:\n",
    "\n",
    "with open('employee1.txt') as emp_list:\n",
    "    csv_reader = csv.reader(emp_list, delimiter=',')\n",
    "  \n",
    "    for row in csv_reader:\n",
    "        print(row)"
   ]
  },
  {
   "cell_type": "markdown",
   "metadata": {},
   "source": [
    "### Write a CSV file:"
   ]
  },
  {
   "cell_type": "code",
   "execution_count": 3,
   "metadata": {},
   "outputs": [],
   "source": [
    "import csv\n",
    "\n",
    "with open('employee1.txt', mode='a') as emp_list:\n",
    "    # mode='a' -- append\n",
    "    # mode='w' -- write\n",
    "    csv_writer = csv.writer(emp_list, delimiter=',', quotechar='\"', quoting=csv.QUOTE_MINIMAL)\n",
    "    \n",
    "    csv_writer.writerow(['106', ' Sathisan', ' Chaithra', ' 25', ' 45000', ' Engineer'])"
   ]
  },
  {
   "cell_type": "code",
   "execution_count": 4,
   "metadata": {},
   "outputs": [
    {
     "name": "stdout",
     "output_type": "stream",
     "text": [
      "['empno', ' lname', ' fname', ' age', ' salary', ' position']\n",
      "['101', ' Sathisan', ' Sheeja', ' 31', ' 45000', ' Banker']\n",
      "['102', ' Miller', ' John', ' 45', ' 43000', ' Accountant']\n",
      "['103', ' Imran', ' Haider', ' 51', ' 150000', ' Executive']\n",
      "['104', ' Vancini', ' Adam', ' 55', ' 175000', ' Sr Executive']\n",
      "['105', ' Enomoto', ' Sheryl', ' 51', ' 98000', ' Consultant']\n",
      "['106', ' Sathisan', ' Chaithra', ' 25', ' 45000', ' Engineer']\n"
     ]
    }
   ],
   "source": [
    "# Test contents:\n",
    "\n",
    "with open('employee1.txt') as emp_list:\n",
    "    csv_reader = csv.reader(emp_list, delimiter=',')\n",
    "  \n",
    "    for row in csv_reader:\n",
    "        print(row)"
   ]
  },
  {
   "cell_type": "code",
   "execution_count": 5,
   "metadata": {},
   "outputs": [
    {
     "name": "stdout",
     "output_type": "stream",
     "text": [
      "   empno      lname      fname   age   salary       position\n",
      "0    101   Sathisan     Sheeja    31    45000         Banker\n",
      "1    102     Miller       John    45    43000     Accountant\n",
      "2    103      Imran     Haider    51   150000      Executive\n",
      "3    104    Vancini       Adam    55   175000   Sr Executive\n",
      "4    105    Enomoto     Sheryl    51    98000     Consultant\n",
      "5    106   Sathisan   Chaithra    25    45000       Engineer\n"
     ]
    }
   ],
   "source": [
    "import pandas as pd\n",
    "\n",
    "df = pd.read_csv('employee1.txt')\n",
    "print(df)"
   ]
  },
  {
   "cell_type": "code",
   "execution_count": null,
   "metadata": {},
   "outputs": [],
   "source": []
  }
 ],
 "metadata": {
  "kernelspec": {
   "display_name": "Python 3",
   "language": "python",
   "name": "python3"
  },
  "language_info": {
   "codemirror_mode": {
    "name": "ipython",
    "version": 3
   },
   "file_extension": ".py",
   "mimetype": "text/x-python",
   "name": "python",
   "nbconvert_exporter": "python",
   "pygments_lexer": "ipython3",
   "version": "3.7.4"
  }
 },
 "nbformat": 4,
 "nbformat_minor": 2
}
