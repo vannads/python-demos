{
 "cells": [
  {
   "cell_type": "code",
   "execution_count": 2,
   "metadata": {},
   "outputs": [],
   "source": [
    "import time\n",
    "import webbrowser\n",
    "\n",
    "\n",
    "total_breaks = 3\n",
    "break_count = 1\n",
    "\n",
    "while break_count < total_breaks:\n",
    "    time.sleep(10)\n",
    "    webbrowser.open(\"https://www.youtube.com/watch?v=VuNIsY6JdUw\")\n",
    "    break_count += 1"
   ]
  },
  {
   "cell_type": "markdown",
   "metadata": {},
   "source": [
    "### 2. Centered average, after removing outliers from both the ends"
   ]
  },
  {
   "cell_type": "code",
   "execution_count": 3,
   "metadata": {},
   "outputs": [
    {
     "name": "stdout",
     "output_type": "stream",
     "text": [
      "passed\n"
     ]
    }
   ],
   "source": [
    "def centered_avg(myList):\n",
    "    \n",
    "    myList.sort()\n",
    "    temp = myList[1:-1]\n",
    "    total = 0.0\n",
    "    \n",
    "    for ele in temp:\n",
    "        total += ele\n",
    "       \n",
    "    return total/(len(temp))\n",
    "\n",
    "newList = [1, 0, -60, 3, 6, 200, -7]\n",
    "\n",
    "assert centered_avg(newList) == 0.6\n",
    "print('passed')"
   ]
  },
  {
   "cell_type": "markdown",
   "metadata": {},
   "source": [
    "### 3. String xplosion -- removing repeating characters"
   ]
  },
  {
   "cell_type": "code",
   "execution_count": 5,
   "metadata": {},
   "outputs": [
    {
     "name": "stdout",
     "output_type": "stream",
     "text": [
      "Passed\n"
     ]
    }
   ],
   "source": [
    "def string_xplosion(myStr):\n",
    "    \n",
    "    result =''\n",
    "    mySet = set()\n",
    "    temp = myStr.lower()\n",
    "    \n",
    "    for ele in temp:\n",
    "        if ele not in mySet:\n",
    "            mySet.add(ele)     \n",
    "            result += ele    \n",
    "  \n",
    "    return result\n",
    "\n",
    "myStr = 'SSaSSathissaan'\n",
    "\n",
    "assert string_xplosion(myStr) == 'sathin'\n",
    "print(\"Passed\")"
   ]
  },
  {
   "cell_type": "code",
   "execution_count": 6,
   "metadata": {},
   "outputs": [
    {
     "name": "stdout",
     "output_type": "stream",
     "text": [
      "{'n', 'i', 'a', 's', 'S', 't', 'h'}\n"
     ]
    }
   ],
   "source": [
    "print(set(myStr))"
   ]
  },
  {
   "cell_type": "code",
   "execution_count": null,
   "metadata": {},
   "outputs": [],
   "source": []
  }
 ],
 "metadata": {
  "kernelspec": {
   "display_name": "Python 3",
   "language": "python",
   "name": "python3"
  },
  "language_info": {
   "codemirror_mode": {
    "name": "ipython",
    "version": 3
   },
   "file_extension": ".py",
   "mimetype": "text/x-python",
   "name": "python",
   "nbconvert_exporter": "python",
   "pygments_lexer": "ipython3",
   "version": "3.7.4"
  }
 },
 "nbformat": 4,
 "nbformat_minor": 2
}
