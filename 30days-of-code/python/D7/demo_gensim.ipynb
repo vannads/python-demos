{
 "cells": [
  {
   "cell_type": "code",
   "execution_count": 3,
   "metadata": {},
   "outputs": [
    {
     "name": "stdout",
     "output_type": "stream",
     "text": [
      "1) \"So you're going to go through with it, then,\" Gandalf the Wizard said \n",
      "2) \"I am,\" Bilbo replied.\n",
      "3) It'll give the Hobbits of the Shire something to talk about for the next \n",
      "4) to bring provisions for the Grand Old Party, as Bilbo referred to it.\n",
      "5) Even those who hadn't said anything bad about Bilbo before were \n",
      "6) \"Mr. Bilbo Baggins is starting to get a \n",
      "7) \"Mr. Bilbo Baggins is a \n",
      "8) set off a series of fireworks later on in the day, including great \n",
      "9) the heads of the crowd, causing great panic and consternation and six \n",
      "10) \"That is the signal for supper!\" Bilbo cried out to the survivors, \n",
      "11) Later on, in the specially-designed quonset hut which Bilbo had \n",
      "12) potato salad (the latter laced liberally with what Bilbo called the \n",
      "13) Bilbo began.\n",
      "14) fact the very man who had earned the name when Bilbo's nephew Frodo had \n",
      "15) Wafflefoots, continued Bilbo, oblivious.\n",
      "16) Well, on bad days it seems like a million years, he \n",
      "17) Young Frodo looked on in bemusement, refusing to answer questions \n",
      "18) Everyone knew, of course, that Bilbo was a big \n",
      "19) But - and Frodo looked at the crowd, particularly \n",
      "20) That's done!\" Bilbo laughed, emerging from the bedroom at Bag \n",
      "21) leave the Shire, at least before they can all find their torches and \n",
      "22) \"Including the Ring?\" Gandalf asked.\n",
      "23) \"Well, yes, I suppose so,\" Bilbo replied.\n",
      "24) from under his cloak, where it hung on a fine golden chain Bilbo had \n",
      "25) stupid plan,\" Gandalf said uncharacteristically.\n",
      "26) Bilbo's hand reached \n",
      "27) \"Listen to me: you must give Frodo the Ring!\"\n",
      "28) Bilbo suddenly laughed.\n",
      "29) Ring off the chain he set the circle of gold on the mantel without a \n",
      "30) too soon by the look of that crowd down there.\" And taking an old \n",
      "31) walking-stick from the stand by the door Bilbo went outside, taking a \n",
      "32) Hours later Frodo returned to Bag End, a little glad to have thrown \n",
      "33) \"He did,\" Gandalf replied.\n",
      "34) \"Yes,\" Frodo replied.\n",
      "35) \"Good,\" Gandalf said.\n",
      "36) looked at Frodo evenly.\n",
      "37) \"The Ring!\" Frodo said, looking at the mantel with astonishment.\n",
      "38) \"He has,\" Gandalf replied, \"though you'll have to find a new chain.\n",
      "39) \"I can't believe Bilbo left me the Ring,\" Frodo gasped.\n",
      "40) \"I'll, uh, I'll think about that, all right,\" Frodo blurted, trying \n",
      "41) hard not to think about the Ring and young Cassiopiea Took.\n",
      "42) The next morning Gandalf left, leaving Frodo with only his thoughts, \n"
     ]
    }
   ],
   "source": [
    "from gensim.summarization import summarize\n",
    "import sys\n",
    "\n",
    "fname = \"lord_of_the_rings.txt\"\n",
    "\n",
    "with open(fname, 'r') as f:\n",
    "    content = f.read()\n",
    "    summary = summarize(content, split=True)\n",
    "    for i, sentence in enumerate(summary):\n",
    "        print(\"%d) %s\" % (i+1, sentence))"
   ]
  },
  {
   "cell_type": "code",
   "execution_count": null,
   "metadata": {},
   "outputs": [],
   "source": []
  }
 ],
 "metadata": {
  "kernelspec": {
   "display_name": "Python 3",
   "language": "python",
   "name": "python3"
  },
  "language_info": {
   "codemirror_mode": {
    "name": "ipython",
    "version": 3
   },
   "file_extension": ".py",
   "mimetype": "text/x-python",
   "name": "python",
   "nbconvert_exporter": "python",
   "pygments_lexer": "ipython3",
   "version": "3.7.4"
  }
 },
 "nbformat": 4,
 "nbformat_minor": 2
}
