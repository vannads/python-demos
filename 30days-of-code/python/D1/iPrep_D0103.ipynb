{
 "cells": [
  {
   "cell_type": "markdown",
   "metadata": {},
   "source": [
    "- Example:1"
   ]
  },
  {
   "cell_type": "code",
   "execution_count": null,
   "metadata": {},
   "outputs": [],
   "source": []
  },
  {
   "cell_type": "raw",
   "metadata": {},
   "source": [
    "\"\"\"\n",
    "Calculate average length of the strings\n",
    "---------------------------------------\n",
    "assert avg_word_length('') == None\n",
    "assert avg_word_length('ibm') == 3\n",
    "assert avg_word_length('ibm  microsoft') == 6\n",
    "assert avg_word_length(' Hello    World ') == 5\n",
    "assert avg_word_length(' The movie ends with The-end') == 4.6\n",
    "print('passed')\n",
    "\n",
    "\"\"\""
   ]
  },
  {
   "cell_type": "code",
   "execution_count": 2,
   "metadata": {},
   "outputs": [
    {
     "name": "stdout",
     "output_type": "stream",
     "text": [
      "passed\n"
     ]
    }
   ],
   "source": [
    "def avg_word_length(my_str):\n",
    "    '''\n",
    "    avg_word_length -- len(my_str without whitespaces)/count(words in mystr)\n",
    "    my_str_nows     -- given string after removing whitespaces\n",
    "    my_str_list     -- given string in list form\n",
    "    len_my_str      -- length of  my_str_nows\n",
    "    n_words         -- number of words in my_str_list\n",
    "    \n",
    "    '''\n",
    "    import re\n",
    "    \n",
    "    if len(my_str) == 0:\n",
    "        return None\n",
    "    else:\n",
    "        my_str_no_ws = re.sub(' +', ' ', my_str).strip()\n",
    "        my_str_list = my_str_no_ws.split()\n",
    "        \n",
    "        len_my_str = len(re.sub(' ', '', my_str_no_ws))\n",
    "        n_words = len(my_str_list)\n",
    "        \n",
    "        return len_my_str/n_words\n",
    "    \n",
    "assert avg_word_length('') == None\n",
    "assert avg_word_length('ibm') == 3\n",
    "assert avg_word_length('ibm  microsoft') == 6\n",
    "assert avg_word_length(' Hello    World ') == 5\n",
    "assert avg_word_length(' The movie ends with The-end') == 4.6\n",
    "print('passed')"
   ]
  },
  {
   "cell_type": "markdown",
   "metadata": {},
   "source": [
    "- Example:2"
   ]
  },
  {
   "cell_type": "code",
   "execution_count": 4,
   "metadata": {},
   "outputs": [
    {
     "name": "stdout",
     "output_type": "stream",
     "text": [
      "*******************************************\n",
      "No. of words in intital list = 477\n",
      "No. of unique words = 204\n",
      "\n",
      "\n",
      "Unique words are :\n",
      "*******************************************\n",
      "{'', 'Speaker', 'Blocks', 'running,', 'Louisiana', 'Ryan', ':', 'toward', 'Short-Term', 'FOUR', 'US', 'over', 'from', 'new', 'Week', 'million,', 'averting', 'federal', 'Funding', 'combat', 'Democrats', 'Cannot', 'giveaway', '$500', 'Zika:', 'internet', 'blocks', 'That', 'leaders', 'pushing', 'center', 'Zika', 'aides:', 'approves', 'and', 'Any', 'Working', 'Towards', 'poised', 'press', 'Are', 'after', 'REPUBLICAN', 'funds?', 'offer', 'bill,', 'standoff', 'SHUTDOWN', 'House', 'Flint', 'water', 'Critical', 'democrats', 'aide', 'this', 'Bill', 'shutdown', 'block', 'coming', 'weekend', 'Deal', 'ignores', 'averts', 'stop-gap', 'open', 'Michigan', 'shifts', 'Block', 'threaten', 'dollars', 'Cornyn:', 'looming', 'in', 'McConnell:', \"Cruz'\", 'force', 'due', 'ALEXANDER', 'Senate', 'aims', 'We', 'accept', 'dollars,', 'Again', 'Includes', 'looms', 'Lawmakers', 'aid,', 'Pushing', 'bill', 'De...', 'Passes', 'shutdown,', 'the', 'Afford', 'Government', 'help', 'government', 'ready', 'Gain', 'because', 'with', 'survives', 'Will', 'avert', 'sticking', 'about', 'renewed', 'Stopgap', 'Republicans’', 'says', 'rejected', 'optimism', '$1.1B', 'play', 'as', 'Advancing', 'plan', 'budget', 'dodge', 'to', 'Babies', 'weighs', 'Election', 'vote', 'spending', \"bill's\", 'Republican', 'Measure', 'Republicans', 'Longer', 'avoid', 'aid', 'potentially', 'From', 'set', 'open,', 'Defeat', 'Leaders', 'bid', 'covers', 'Flint,', 'Democrats:', 'Providing', 'Spending', 'express', 'of', 'closer', 'point', 'Country', 'Congress', 'keep', 'Keep', 'for', 'partisan', 'nears', 'Shutdown', 'is', 'showdown', 'fight', 'reached', 'Politics', 'prevent', 'clash', 'A', 'a', 'Pass', 'at', 'flood', 'U.S.', 'week', 'will', 'UNTIL', 'Dems', 'NEXT', 'GOVERNMENT', 'Putting', 'relief', \"gov't\", 'Democrats’', 'deal', 'Wait', 'struck', 'Let’s', 'shutdown?', 'Political', 'advances', 'reach', 'Internet', 'Risk', 'separate', 'Together', 'on', 'Pelosi', 'ahead:', 'passes', 'brings', 'Congressional', 'funding', 'strike', 'talks', 'Resources', 'stopgap', 'DAYS'}\n",
      "*******************************************\n"
     ]
    }
   ],
   "source": [
    "\n",
    "import json\n",
    "\n",
    "with open('myJson.json', 'r') as f:\n",
    "    docid_to_title_new = json.load(f) # Convert the JSON into a dict\n",
    "\n",
    "myList = []\n",
    "unique_words = () \n",
    "for i in docid_to_title_new.keys():\n",
    "    myList += docid_to_title_new[i]['content']['title'].split(' ') \n",
    "\n",
    "unique_words = set(myList)\n",
    "\n",
    "print(\"*******************************************\")\n",
    "print(\"No. of words in intital list =\", len(myList))\n",
    "print(\"No. of unique words =\", len(unique_words))\n",
    "print(\"\\n\")\n",
    "print(\"Unique words are :\")\n",
    "print(\"*******************************************\")\n",
    "print(unique_words)\n",
    "print(\"*******************************************\")"
   ]
  },
  {
   "cell_type": "code",
   "execution_count": null,
   "metadata": {},
   "outputs": [],
   "source": []
  }
 ],
 "metadata": {
  "kernelspec": {
   "display_name": "Python 3",
   "language": "python",
   "name": "python3"
  },
  "language_info": {
   "codemirror_mode": {
    "name": "ipython",
    "version": 3
   },
   "file_extension": ".py",
   "mimetype": "text/x-python",
   "name": "python",
   "nbconvert_exporter": "python",
   "pygments_lexer": "ipython3",
   "version": "3.7.4"
  }
 },
 "nbformat": 4,
 "nbformat_minor": 2
}
