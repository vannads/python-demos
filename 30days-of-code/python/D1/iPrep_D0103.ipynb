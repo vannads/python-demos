{
 "cells": [
  {
   "cell_type": "markdown",
   "metadata": {},
   "source": [
    "- Example:1"
   ]
  },
  {
   "cell_type": "raw",
   "metadata": {},
   "source": [
    "\"\"\"\n",
    "Calculate average length of the strings\n",
    "---------------------------------------\n",
    "assert avg_word_length('') == None\n",
    "assert avg_word_length('ibm') == 3\n",
    "assert avg_word_length('ibm  microsoft') == 6\n",
    "assert avg_word_length(' Hello    World ') == 5\n",
    "assert avg_word_length(' The movie ends with The-end') == 4.6\n",
    "print('passed')\n",
    "\n",
    "\"\"\""
   ]
  },
  {
   "cell_type": "code",
   "execution_count": 2,
   "metadata": {},
   "outputs": [
    {
     "name": "stdout",
     "output_type": "stream",
     "text": [
      "passed\n"
     ]
    }
   ],
   "source": [
    "def avg_word_length(my_str):\n",
    "    '''\n",
    "    avg_word_length -- len(my_str without whitespaces)/count(words in mystr)\n",
    "    my_str_nows     -- given string after removing whitespaces\n",
    "    my_str_list     -- given string in list form\n",
    "    len_my_str      -- length of  my_str_nows\n",
    "    n_words         -- number of words in my_str_list\n",
    "    \n",
    "    '''\n",
    "    import re\n",
    "    \n",
    "    if len(my_str) == 0:\n",
    "        return None\n",
    "    else:\n",
    "        my_str_no_ws = re.sub(' +', ' ', my_str).strip()\n",
    "        my_str_list = my_str_no_ws.split()\n",
    "        \n",
    "        len_my_str = len(re.sub(' ', '', my_str_no_ws))\n",
    "        n_words = len(my_str_list)\n",
    "        \n",
    "        return len_my_str/n_words\n",
    "    \n",
    "assert avg_word_length('') == None\n",
    "assert avg_word_length('ibm') == 3\n",
    "assert avg_word_length('ibm  microsoft') == 6\n",
    "assert avg_word_length(' Hello    World ') == 5\n",
    "assert avg_word_length(' The movie ends with The-end') == 4.6\n",
    "print('passed')"
   ]
  },
  {
   "cell_type": "markdown",
   "metadata": {},
   "source": [
    "- Example:2"
   ]
  },
  {
   "cell_type": "code",
   "execution_count": 49,
   "metadata": {},
   "outputs": [
    {
     "name": "stdout",
     "output_type": "stream",
     "text": [
      "Zika dollars and Internet fight in play as government shutdown looms\n",
      "Leaders express renewed optimism about flood relief as Congress aims to avoid a government shutdown\n",
      "Senate passes stopgap spending bill, $1.1B to fight Zika\n",
      "Senate blocks bill to avert shutdown as De...\n",
      "Senate Dems threaten shutdown over Flint aid\n",
      "Zika dollars, internet fight in play as government shutdown looms\n",
      "House leaders reach deal on Flint aid, potentially averting shutdown\n",
      "Deal reached to keep US government running, help Flint\n",
      "Defeat of Republicans’ stop-gap spending bill brings federal government closer to a shutdown\n",
      "Will Democrats force a government shutdown over Flint relief funds?\n",
      "Lawmakers strike deal to avoid shutdown\n",
      "Louisiana flood aid, $500 million, survives Senate budget fight\n",
      "Pelosi aide says deal with Speaker Ryan covers Flint aid\n",
      "Zika dollars and Internet fight in play as government shutdown looms\n",
      "Are Democrats pushing the federal government toward a shutdown?\n",
      "Senate passes stopgap spending bill, $1.1B to fight Zika\n",
      "will democrats force a federal shutdown over Flint relief funds?\n",
      "Senate Democrats accept deal on Flint aid, potentially averting shutdown\n",
      "ALEXANDER : Senate Democrats’ Election Politics Are Putting Babies at Risk\n",
      "Democrats poised to block stopgap funding bill over Flint\n",
      "Senate blocks stopgap bill to prevent shutdown this weekend\n",
      "Senate Passes Short-Term Government Funding Measure\n",
      "House aides: Deal reached to help Flint, keep US gov't open\n",
      "Week ahead: Spending fight shifts from Zika to Flint\n",
      "Flint water aid spending bill's sticking point\n",
      "Government shutdown looms due to partisan clash over Flint aid\n",
      "Funding bill rejected as shutdown nears\n",
      "Senate approves deal to keep government open, combat Zika\n",
      "Democrats press talks as showdown vote looms on funding bill\n",
      "Republicans ready new bid to avoid shutdown\n",
      "Zika: Congressional showdown coming this week\n",
      "McConnell: Let’s Keep Working Together to Pass Critical Resources\n",
      "McConnell: We Cannot Afford to Wait Any Longer on Providing Critical Resources\n",
      "Deal averts federal shutdown, ignores Cruz' Internet giveaway\n",
      "Senate passes spending bill after separate Flint aid deal\n",
      "Democrats: Deal reached to help Flint, keep US gov't open\n",
      "Will Democrats force a federal shutdown over Flint relief funds?\n",
      "US Senate Again Blocks Bill That Includes Zika Funding\n",
      "Cornyn: Democrats Pushing Country Towards Shutdown for Political Gain\n",
      "Flint aid at center of funding standoff in Congress\n",
      "A government shutdown is looming because of a clash over aid for Flint, Michigan\n",
      "Senate Dems block gov't funding bill over Flint aid\n",
      "Senate passes stopgap spending bill, $1.1B to fight Zika\n",
      "Senate advances bill to avert government shutdown after Flint deal struck\n",
      "Congress set to avert government shutdown, offer Zika relief\n",
      "Deal reached to keep U.S. government running, help Flint\n",
      "Democrats poised to block stopgap funding bill over Flint\n",
      "FOUR DAYS UNTIL NEXT REPUBLICAN GOVERNMENT SHUTDOWN\n",
      "Congress nears deal to keep government open\n",
      "Senate Democrats Block Republican Stopgap From Advancing\n",
      "Senate passes bill to avoid government shutdown\n",
      "Congress weighs plan to dodge shutdown\n",
      "\n",
      "\n",
      "No. of words in intital list = 475\n",
      "No. of unique words = 203\n",
      "\n",
      "\n",
      "Unique words are :\n",
      "['$1.1B', '$500', ':', 'A', 'ALEXANDER', 'Advancing', 'Afford', 'Again', 'Any', 'Are', 'Babies', 'Bill', 'Block', 'Blocks', 'Cannot', 'Congress', 'Congressional', 'Cornyn:', 'Country', 'Critical', \"Cruz'\", 'DAYS', 'De...', 'Deal', 'Defeat', 'Democrats', 'Democrats:', 'Democrats’', 'Dems', 'Election', 'FOUR', 'Flint', 'Flint,', 'From', 'Funding', 'GOVERNMENT', 'Gain', 'Government', 'House', 'Includes', 'Internet', 'Keep', 'Lawmakers', 'Leaders', 'Let’s', 'Longer', 'Louisiana', 'McConnell:', 'Measure', 'Michigan', 'NEXT', 'Pass', 'Passes', 'Pelosi', 'Political', 'Politics', 'Providing', 'Pushing', 'Putting', 'REPUBLICAN', 'Republican', 'Republicans', 'Republicans’', 'Resources', 'Risk', 'Ryan', 'SHUTDOWN', 'Senate', 'Short-Term', 'Shutdown', 'Speaker', 'Spending', 'Stopgap', 'That', 'Together', 'Towards', 'U.S.', 'UNTIL', 'US', 'Wait', 'We', 'Week', 'Will', 'Working', 'Zika', 'Zika:', 'a', 'about', 'accept', 'advances', 'after', 'ahead:', 'aid', 'aid,', 'aide', 'aides:', 'aims', 'and', 'approves', 'as', 'at', 'avert', 'averting', 'averts', 'avoid', 'because', 'bid', 'bill', \"bill's\", 'bill,', 'block', 'blocks', 'brings', 'budget', 'center', 'clash', 'closer', 'combat', 'coming', 'covers', 'deal', 'democrats', 'dodge', 'dollars', 'dollars,', 'due', 'express', 'federal', 'fight', 'flood', 'for', 'force', 'from', 'funding', 'funds?', 'giveaway', \"gov't\", 'government', 'help', 'ignores', 'in', 'internet', 'is', 'keep', 'leaders', 'looming', 'looms', 'million,', 'nears', 'new', 'of', 'offer', 'on', 'open', 'open,', 'optimism', 'over', 'partisan', 'passes', 'plan', 'play', 'point', 'poised', 'potentially', 'press', 'prevent', 'pushing', 'reach', 'reached', 'ready', 'rejected', 'relief', 'renewed', 'running,', 'says', 'separate', 'set', 'shifts', 'showdown', 'shutdown', 'shutdown,', 'shutdown?', 'spending', 'standoff', 'sticking', 'stop-gap', 'stopgap', 'strike', 'struck', 'survives', 'talks', 'the', 'this', 'threaten', 'to', 'toward', 'vote', 'water', 'week', 'weekend', 'weighs', 'will', 'with']\n"
     ]
    }
   ],
   "source": [
    "'''\n",
    "Calculate:\n",
    "    No. of words in the list\n",
    "    No. of unique words\n",
    "'''\n",
    "\n",
    "import json\n",
    "import re, string\n",
    "\n",
    "with open('myJson.json', 'r') as f:\n",
    "    doc = json.load(f) # Convert the JSON into a dict\n",
    "\n",
    "my_list = []\n",
    "my_list1 = []\n",
    "unique_words = () \n",
    "\n",
    "for i in doc.keys():\n",
    "    #my_str_nws += doc[i]['content']['title']\n",
    "    my_str_nws = re.sub(' +', ' ', doc[i]['content']['title'])\n",
    "    print(my_str_nws)\n",
    "    my_list += my_str_nws.split()\n",
    "\n",
    "unique_words = list(set(my_list))\n",
    "\n",
    "print(\"\\n\")\n",
    "print(\"No. of words in intital list =\", len(my_list))\n",
    "print(\"No. of unique words =\", len(unique_words))\n",
    "print(\"\\n\")\n",
    "print(\"Unique words are :\")\n",
    "print(sorted(unique_words))\n"
   ]
  },
  {
   "cell_type": "code",
   "execution_count": 54,
   "metadata": {},
   "outputs": [
    {
     "name": "stdout",
     "output_type": "stream",
     "text": [
      "Counter({'to': 25, 'shutdown': 21, 'Flint': 18, 'Senate': 17, 'government': 15, 'bill': 11, 'Zika': 10, 'over': 9, 'Democrats': 9, 'fight': 8, 'aid': 8, 'deal': 8, 'as': 7, 'a': 7, 'stopgap': 6, 'spending': 6, 'keep': 6, 'looms': 5, 'relief': 5, 'Congress': 5, 'passes': 5, 'Deal': 5, 'federal': 5, 'funding': 5, 'in': 4, 'avoid': 4, 'on': 4, 'reached': 4, 'US': 4, 'help': 4, 'Internet': 3, 'play': 3, 'bill,': 3, '$1.1B': 3, 'avert': 3, 'aid,': 3, 'of': 3, 'force': 3, 'funds?': 3, 'block': 3, 'Funding': 3, 'Flint,': 3, \"gov't\": 3, 'open': 3, 'dollars': 2, 'and': 2, 'flood': 2, 'blocks': 2, 'Dems': 2, 'House': 2, 'potentially': 2, 'averting': 2, 'running,': 2, 'Will': 2, 'Are': 2, 'at': 2, 'poised': 2, 'this': 2, 'Government': 2, 'clash': 2, 'nears': 2, 'showdown': 2, 'McConnell:': 2, 'Critical': 2, 'Resources': 2, 'shutdown,': 2, 'after': 2, 'for': 2, 'Leaders': 1, 'express': 1, 'renewed': 1, 'optimism': 1, 'about': 1, 'aims': 1, 'De...': 1, 'threaten': 1, 'dollars,': 1, 'internet': 1, 'leaders': 1, 'reach': 1, 'Defeat': 1, 'Republicans’': 1, 'stop-gap': 1, 'brings': 1, 'closer': 1, 'Lawmakers': 1, 'strike': 1, 'Louisiana': 1, '$500': 1, 'million,': 1, 'survives': 1, 'budget': 1, 'Pelosi': 1, 'aide': 1, 'says': 1, 'with': 1, 'Speaker': 1, 'Ryan': 1, 'covers': 1, 'pushing': 1, 'the': 1, 'toward': 1, 'shutdown?': 1, 'will': 1, 'democrats': 1, 'accept': 1, 'ALEXANDER': 1, ':': 1, 'Democrats’': 1, 'Election': 1, 'Politics': 1, 'Putting': 1, 'Babies': 1, 'Risk': 1, 'prevent': 1, 'weekend': 1, 'Passes': 1, 'Short-Term': 1, 'Measure': 1, 'aides:': 1, 'Week': 1, 'ahead:': 1, 'Spending': 1, 'shifts': 1, 'from': 1, 'water': 1, \"bill's\": 1, 'sticking': 1, 'point': 1, 'due': 1, 'partisan': 1, 'rejected': 1, 'approves': 1, 'open,': 1, 'combat': 1, 'press': 1, 'talks': 1, 'vote': 1, 'Republicans': 1, 'ready': 1, 'new': 1, 'bid': 1, 'Zika:': 1, 'Congressional': 1, 'coming': 1, 'week': 1, 'Let’s': 1, 'Keep': 1, 'Working': 1, 'Together': 1, 'Pass': 1, 'We': 1, 'Cannot': 1, 'Afford': 1, 'Wait': 1, 'Any': 1, 'Longer': 1, 'Providing': 1, 'averts': 1, 'ignores': 1, \"Cruz'\": 1, 'giveaway': 1, 'separate': 1, 'Democrats:': 1, 'Again': 1, 'Blocks': 1, 'Bill': 1, 'That': 1, 'Includes': 1, 'Cornyn:': 1, 'Pushing': 1, 'Country': 1, 'Towards': 1, 'Shutdown': 1, 'Political': 1, 'Gain': 1, 'center': 1, 'standoff': 1, 'A': 1, 'is': 1, 'looming': 1, 'because': 1, 'Michigan': 1, 'advances': 1, 'struck': 1, 'set': 1, 'offer': 1, 'U.S.': 1, 'FOUR': 1, 'DAYS': 1, 'UNTIL': 1, 'NEXT': 1, 'REPUBLICAN': 1, 'GOVERNMENT': 1, 'SHUTDOWN': 1, 'Block': 1, 'Republican': 1, 'Stopgap': 1, 'From': 1, 'Advancing': 1, 'weighs': 1, 'plan': 1, 'dodge': 1})\n"
     ]
    }
   ],
   "source": [
    "from collections import Counter\n",
    "\n",
    "word_count = Counter(my_list)\n",
    "print(word_count)"
   ]
  },
  {
   "cell_type": "code",
   "execution_count": 57,
   "metadata": {},
   "outputs": [
    {
     "name": "stdout",
     "output_type": "stream",
     "text": [
      "[('to', 25), ('shutdown', 21), ('Flint', 18), ('Senate', 17), ('government', 15), ('bill', 11), ('Zika', 10), ('over', 9), ('Democrats', 9), ('fight', 8)]\n"
     ]
    }
   ],
   "source": [
    "print(Counter(word_count).most_common(10))"
   ]
  },
  {
   "cell_type": "code",
   "execution_count": 84,
   "metadata": {},
   "outputs": [
    {
     "name": "stdout",
     "output_type": "stream",
     "text": [
      "Top word: to\n",
      "Number of occurences: 25\n"
     ]
    }
   ],
   "source": [
    "top_word = Counter(word_count).most_common(1)\n",
    "print(\"Top word: {}\\nNumber of occurences: {}\".format(top_word[0][0], top_word[0][1]))"
   ]
  },
  {
   "cell_type": "code",
   "execution_count": null,
   "metadata": {},
   "outputs": [],
   "source": []
  }
 ],
 "metadata": {
  "kernelspec": {
   "display_name": "Python 3",
   "language": "python",
   "name": "python3"
  },
  "language_info": {
   "codemirror_mode": {
    "name": "ipython",
    "version": 3
   },
   "file_extension": ".py",
   "mimetype": "text/x-python",
   "name": "python",
   "nbconvert_exporter": "python",
   "pygments_lexer": "ipython3",
   "version": "3.7.4"
  }
 },
 "nbformat": 4,
 "nbformat_minor": 2
}
