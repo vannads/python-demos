{
 "cells": [
  {
   "cell_type": "code",
   "execution_count": null,
   "metadata": {},
   "outputs": [],
   "source": [
    "\"\"\"\n",
    "Calculate average length of the strings\n",
    "---------------------------------------\n",
    "assert avg_word_length('') == None\n",
    "assert avg_word_length('ibm') == 3\n",
    "assert avg_word_length('ibm  microsoft') == 6\n",
    "assert avg_word_length(' Hello    World ') == 5\n",
    "assert avg_word_length(' The movie ends with The-end') == 4.6\n",
    "print('passed')\n",
    "\n",
    "\"\"\""
   ]
  },
  {
   "cell_type": "code",
   "execution_count": 3,
   "metadata": {},
   "outputs": [
    {
     "name": "stdout",
     "output_type": "stream",
     "text": [
      "passed\n"
     ]
    }
   ],
   "source": [
    "def avg_word_length(my_str):\n",
    "    '''\n",
    "    avg_word_length -- len(my_str without whitespaces)/count(words in mystr)\n",
    "    my_str_nows    -- given string after removing whitespaces\n",
    "    my_str_list    -- given string in list form\n",
    "    len_my_str     -- length of  my_str_nows\n",
    "    n_words        -- number of words in my_str_list\n",
    "    '''\n",
    "    \n",
    "    import re\n",
    "    \n",
    "    if len(my_str) == 0:\n",
    "        return None\n",
    "    else:\n",
    "        my_str_no_ws = re.sub(' +', ' ', my_str).strip()\n",
    "        my_str_list = my_str_no_ws.split()\n",
    "        \n",
    "        len_my_str = len(re.sub(' ', '', my_str_no_ws))\n",
    "        n_words = len(my_str_list)\n",
    "        \n",
    "        return len_my_str/n_words\n",
    "    \n",
    "assert avg_word_length('') == None\n",
    "assert avg_word_length('ibm') == 3\n",
    "assert avg_word_length('ibm  microsoft') == 6\n",
    "assert avg_word_length(' Hello    World ') == 5\n",
    "assert avg_word_length(' The movie ends with The-end') == 4.6\n",
    "print('passed')"
   ]
  },
  {
   "cell_type": "code",
   "execution_count": null,
   "metadata": {},
   "outputs": [],
   "source": []
  }
 ],
 "metadata": {
  "kernelspec": {
   "display_name": "Python 3",
   "language": "python",
   "name": "python3"
  },
  "language_info": {
   "codemirror_mode": {
    "name": "ipython",
    "version": 3
   },
   "file_extension": ".py",
   "mimetype": "text/x-python",
   "name": "python",
   "nbconvert_exporter": "python",
   "pygments_lexer": "ipython3",
   "version": "3.7.4"
  }
 },
 "nbformat": 4,
 "nbformat_minor": 2
}
