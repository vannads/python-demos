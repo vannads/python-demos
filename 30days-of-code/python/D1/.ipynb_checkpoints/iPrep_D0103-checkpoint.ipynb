{
 "cells": [
  {
   "cell_type": "markdown",
   "metadata": {},
   "source": [
    "- Example:1"
   ]
  },
  {
   "cell_type": "raw",
   "metadata": {},
   "source": [
    "\"\"\"\n",
    "Calculate average length of the strings\n",
    "---------------------------------------\n",
    "assert avg_word_length('') == None\n",
    "assert avg_word_length('ibm') == 3\n",
    "assert avg_word_length('ibm  microsoft') == 6\n",
    "assert avg_word_length(' Hello    World ') == 5\n",
    "assert avg_word_length(' The movie ends with The-end') == 4.6\n",
    "print('passed')\n",
    "\n",
    "\"\"\""
   ]
  },
  {
   "cell_type": "code",
   "execution_count": 2,
   "metadata": {},
   "outputs": [
    {
     "name": "stdout",
     "output_type": "stream",
     "text": [
      "passed\n"
     ]
    }
   ],
   "source": [
    "def avg_word_length(my_str):\n",
    "    '''\n",
    "    avg_word_length -- len(my_str without whitespaces)/count(words in mystr)\n",
    "    my_str_nows     -- given string after removing whitespaces\n",
    "    my_str_list     -- given string in list form\n",
    "    len_my_str      -- length of  my_str_nows\n",
    "    n_words         -- number of words in my_str_list\n",
    "    \n",
    "    '''\n",
    "    import re\n",
    "    \n",
    "    if len(my_str) == 0:\n",
    "        return None\n",
    "    else:\n",
    "        my_str_no_ws = re.sub(' +', ' ', my_str).strip()\n",
    "        my_str_list = my_str_no_ws.split()\n",
    "        \n",
    "        len_my_str = len(re.sub(' ', '', my_str_no_ws))\n",
    "        n_words = len(my_str_list)\n",
    "        \n",
    "        return len_my_str/n_words\n",
    "    \n",
    "assert avg_word_length('') == None\n",
    "assert avg_word_length('ibm') == 3\n",
    "assert avg_word_length('ibm  microsoft') == 6\n",
    "assert avg_word_length(' Hello    World ') == 5\n",
    "assert avg_word_length(' The movie ends with The-end') == 4.6\n",
    "print('passed')"
   ]
  },
  {
   "cell_type": "markdown",
   "metadata": {},
   "source": [
    "- Example:2"
   ]
  },
  {
   "cell_type": "code",
   "execution_count": 4,
   "metadata": {},
   "outputs": [
    {
     "name": "stdout",
     "output_type": "stream",
     "text": [
      "*******************************************\n",
      "No. of words in intital list = 477\n",
      "No. of unique words = 204\n",
      "\n",
      "\n",
      "Unique words are :\n",
      "*******************************************\n",
      "{'', 'Speaker', 'Blocks', 'running,', 'Louisiana', 'Ryan', ':', 'toward', 'Short-Term', 'FOUR', 'US', 'over', 'from', 'new', 'Week', 'million,', 'averting', 'federal', 'Funding', 'combat', 'Democrats', 'Cannot', 'giveaway', '$500', 'Zika:', 'internet', 'blocks', 'That', 'leaders', 'pushing', 'center', 'Zika', 'aides:', 'approves', 'and', 'Any', 'Working', 'Towards', 'poised', 'press', 'Are', 'after', 'REPUBLICAN', 'funds?', 'offer', 'bill,', 'standoff', 'SHUTDOWN', 'House', 'Flint', 'water', 'Critical', 'democrats', 'aide', 'this', 'Bill', 'shutdown', 'block', 'coming', 'weekend', 'Deal', 'ignores', 'averts', 'stop-gap', 'open', 'Michigan', 'shifts', 'Block', 'threaten', 'dollars', 'Cornyn:', 'looming', 'in', 'McConnell:', \"Cruz'\", 'force', 'due', 'ALEXANDER', 'Senate', 'aims', 'We', 'accept', 'dollars,', 'Again', 'Includes', 'looms', 'Lawmakers', 'aid,', 'Pushing', 'bill', 'De...', 'Passes', 'shutdown,', 'the', 'Afford', 'Government', 'help', 'government', 'ready', 'Gain', 'because', 'with', 'survives', 'Will', 'avert', 'sticking', 'about', 'renewed', 'Stopgap', 'Republicans’', 'says', 'rejected', 'optimism', '$1.1B', 'play', 'as', 'Advancing', 'plan', 'budget', 'dodge', 'to', 'Babies', 'weighs', 'Election', 'vote', 'spending', \"bill's\", 'Republican', 'Measure', 'Republicans', 'Longer', 'avoid', 'aid', 'potentially', 'From', 'set', 'open,', 'Defeat', 'Leaders', 'bid', 'covers', 'Flint,', 'Democrats:', 'Providing', 'Spending', 'express', 'of', 'closer', 'point', 'Country', 'Congress', 'keep', 'Keep', 'for', 'partisan', 'nears', 'Shutdown', 'is', 'showdown', 'fight', 'reached', 'Politics', 'prevent', 'clash', 'A', 'a', 'Pass', 'at', 'flood', 'U.S.', 'week', 'will', 'UNTIL', 'Dems', 'NEXT', 'GOVERNMENT', 'Putting', 'relief', \"gov't\", 'Democrats’', 'deal', 'Wait', 'struck', 'Let’s', 'shutdown?', 'Political', 'advances', 'reach', 'Internet', 'Risk', 'separate', 'Together', 'on', 'Pelosi', 'ahead:', 'passes', 'brings', 'Congressional', 'funding', 'strike', 'talks', 'Resources', 'stopgap', 'DAYS'}\n",
      "*******************************************\n"
     ]
    }
   ],
   "source": [
    "'''\n",
    "Calculate:\n",
    "    No. of words in the list\n",
    "    No. of unique words\n",
    "'''\n",
    "\n",
    "import json\n",
    "\n",
    "with open('myJson.json', 'r') as f:\n",
    "    docid_to_title_new = json.load(f) # Convert the JSON into a dict\n",
    "\n",
    "myList = []\n",
    "unique_words = () \n",
    "for i in docid_to_title_new.keys():\n",
    "    myList += docid_to_title_new[i]['content']['title'].split(' ') \n",
    "\n",
    "unique_words = set(myList)\n",
    "\n",
    "print(\"*******************************************\")\n",
    "print(\"No. of words in intital list =\", len(myList))\n",
    "print(\"No. of unique words =\", len(unique_words))\n",
    "print(\"\\n\")\n",
    "print(\"Unique words are :\")\n",
    "print(\"*******************************************\")\n",
    "print(unique_words)\n",
    "print(\"*******************************************\")"
   ]
  },
  {
   "cell_type": "code",
   "execution_count": null,
   "metadata": {},
   "outputs": [],
   "source": []
  },
  {
   "cell_type": "code",
   "execution_count": 39,
   "metadata": {},
   "outputs": [
    {
     "name": "stdout",
     "output_type": "stream",
     "text": [
      "Zika dollars and Internet fight in play as government shutdown looms\n",
      "Leaders express renewed optimism about flood relief as Congress aims to avoid a government shutdown\n",
      "Senate passes stopgap spending bill, $1.1B to fight Zika\n",
      "Senate blocks bill to avert shutdown as De...\n",
      "Senate Dems threaten shutdown over Flint aid\n",
      "Zika dollars, internet fight in play as government shutdown looms\n",
      "House leaders reach deal on Flint aid, potentially averting shutdown\n",
      "Deal reached to keep US government running, help Flint\n",
      "Defeat of Republicans’ stop-gap spending bill brings federal government closer to a shutdown\n",
      "Will Democrats force a government shutdown over Flint relief funds?\n",
      "Lawmakers strike deal to avoid shutdown\n",
      "Louisiana flood aid, $500 million, survives Senate budget fight\n",
      "Pelosi aide says deal with Speaker Ryan covers Flint aid\n",
      "Zika dollars and Internet fight in play as government shutdown looms\n",
      "Are Democrats pushing the federal government toward a shutdown?\n",
      "Senate passes stopgap spending bill, $1.1B to fight Zika\n",
      "will democrats force a federal shutdown over Flint relief funds?\n",
      "Senate Democrats accept deal on Flint aid, potentially averting shutdown\n",
      "ALEXANDER : Senate Democrats’ Election Politics Are Putting Babies at Risk\n",
      "Democrats poised to block stopgap funding bill over Flint\n",
      "Senate blocks stopgap bill to prevent shutdown this weekend\n",
      "Senate Passes Short-Term Government Funding Measure\n",
      "House aides: Deal reached to help Flint, keep US gov't open\n",
      "Week ahead: Spending fight shifts from Zika to Flint\n",
      "Flint water aid spending bill's sticking point\n",
      "Government shutdown looms due to partisan clash over Flint aid\n",
      "Funding bill rejected as shutdown nears\n",
      "Senate approves deal to keep government open, combat Zika\n",
      "Democrats press talks as showdown vote looms on funding bill\n",
      "Republicans ready new bid to avoid shutdown\n",
      "Zika: Congressional showdown coming this week\n",
      "McConnell: Let’s Keep Working Together to Pass Critical Resources\n",
      "McConnell: We Cannot Afford to Wait Any Longer on Providing Critical Resources\n",
      "Deal averts federal shutdown, ignores Cruz' Internet giveaway\n",
      "Senate passes spending bill after separate Flint aid deal\n",
      "Democrats: Deal reached to help Flint, keep US gov't open\n",
      "Will Democrats force a federal shutdown over Flint relief funds?\n",
      "US Senate Again Blocks Bill That Includes Zika Funding\n",
      "Cornyn: Democrats Pushing Country Towards Shutdown for Political Gain\n",
      "Flint aid at center of funding standoff in Congress\n",
      "A government shutdown is looming because of a clash over aid for Flint, Michigan\n",
      "Senate Dems block gov't funding bill over Flint aid\n",
      "Senate passes stopgap spending bill, $1.1B to fight Zika\n",
      "Senate advances bill to avert government shutdown after Flint deal struck\n",
      "Congress set to avert government shutdown, offer Zika relief\n",
      "Deal reached to keep U.S. government running, help Flint\n",
      "Democrats poised to block stopgap funding bill over Flint\n",
      "FOUR DAYS UNTIL NEXT REPUBLICAN GOVERNMENT SHUTDOWN\n",
      "Congress nears deal to keep government open\n",
      "Senate Democrats Block Republican Stopgap From Advancing\n",
      "Senate passes bill to avoid government shutdown\n",
      "Congress weighs plan to dodge shutdown\n",
      "['Zika', 'dollars', 'and', 'Internet', 'fight', 'in', 'play', 'as', 'government', 'shutdown', 'looms', 'Leaders', 'express', 'renewed', 'optimism', 'about', 'flood', 'relief', 'as', 'Congress', 'aims', 'to', 'avoid', 'a', 'government', 'shutdown', 'Senate', 'passes', 'stopgap', 'spending', 'bill,', '$1.1B', 'to', 'fight', 'Zika', 'Senate', 'blocks', 'bill', 'to', 'avert', 'shutdown', 'as', 'De...', 'Senate', 'Dems', 'threaten', 'shutdown', 'over', 'Flint', 'aid', 'Zika', 'dollars,', 'internet', 'fight', 'in', 'play', 'as', 'government', 'shutdown', 'looms', 'House', 'leaders', 'reach', 'deal', 'on', 'Flint', 'aid,', 'potentially', 'averting', 'shutdown', 'Deal', 'reached', 'to', 'keep', 'US', 'government', 'running,', 'help', 'Flint', 'Defeat', 'of', 'Republicans’', 'stop-gap', 'spending', 'bill', 'brings', 'federal', 'government', 'closer', 'to', 'a', 'shutdown', 'Will', 'Democrats', 'force', 'a', 'government', 'shutdown', 'over', 'Flint', 'relief', 'funds?', 'Lawmakers', 'strike', 'deal', 'to', 'avoid', 'shutdown', 'Louisiana', 'flood', 'aid,', '$500', 'million,', 'survives', 'Senate', 'budget', 'fight', 'Pelosi', 'aide', 'says', 'deal', 'with', 'Speaker', 'Ryan', 'covers', 'Flint', 'aid', 'Zika', 'dollars', 'and', 'Internet', 'fight', 'in', 'play', 'as', 'government', 'shutdown', 'looms', 'Are', 'Democrats', 'pushing', 'the', 'federal', 'government', 'toward', 'a', 'shutdown?', 'Senate', 'passes', 'stopgap', 'spending', 'bill,', '$1.1B', 'to', 'fight', 'Zika', 'will', 'democrats', 'force', 'a', 'federal', 'shutdown', 'over', 'Flint', 'relief', 'funds?', 'Senate', 'Democrats', 'accept', 'deal', 'on', 'Flint', 'aid,', 'potentially', 'averting', 'shutdown', 'ALEXANDER', ':', 'Senate', 'Democrats’', 'Election', 'Politics', 'Are', 'Putting', 'Babies', 'at', 'Risk', 'Democrats', 'poised', 'to', 'block', 'stopgap', 'funding', 'bill', 'over', 'Flint', 'Senate', 'blocks', 'stopgap', 'bill', 'to', 'prevent', 'shutdown', 'this', 'weekend', 'Senate', 'Passes', 'Short-Term', 'Government', 'Funding', 'Measure', 'House', 'aides:', 'Deal', 'reached', 'to', 'help', 'Flint,', 'keep', 'US', \"gov't\", 'open', 'Week', 'ahead:', 'Spending', 'fight', 'shifts', 'from', 'Zika', 'to', 'Flint', 'Flint', 'water', 'aid', 'spending', \"bill's\", 'sticking', 'point', 'Government', 'shutdown', 'looms', 'due', 'to', 'partisan', 'clash', 'over', 'Flint', 'aid', 'Funding', 'bill', 'rejected', 'as', 'shutdown', 'nears', 'Senate', 'approves', 'deal', 'to', 'keep', 'government', 'open,', 'combat', 'Zika', 'Democrats', 'press', 'talks', 'as', 'showdown', 'vote', 'looms', 'on', 'funding', 'bill', 'Republicans', 'ready', 'new', 'bid', 'to', 'avoid', 'shutdown', 'Zika:', 'Congressional', 'showdown', 'coming', 'this', 'week', 'McConnell:', 'Let’s', 'Keep', 'Working', 'Together', 'to', 'Pass', 'Critical', 'Resources', 'McConnell:', 'We', 'Cannot', 'Afford', 'to', 'Wait', 'Any', 'Longer', 'on', 'Providing', 'Critical', 'Resources', 'Deal', 'averts', 'federal', 'shutdown,', 'ignores', \"Cruz'\", 'Internet', 'giveaway', 'Senate', 'passes', 'spending', 'bill', 'after', 'separate', 'Flint', 'aid', 'deal', 'Democrats:', 'Deal', 'reached', 'to', 'help', 'Flint,', 'keep', 'US', \"gov't\", 'open', 'Will', 'Democrats', 'force', 'a', 'federal', 'shutdown', 'over', 'Flint', 'relief', 'funds?', 'US', 'Senate', 'Again', 'Blocks', 'Bill', 'That', 'Includes', 'Zika', 'Funding', 'Cornyn:', 'Democrats', 'Pushing', 'Country', 'Towards', 'Shutdown', 'for', 'Political', 'Gain', 'Flint', 'aid', 'at', 'center', 'of', 'funding', 'standoff', 'in', 'Congress', 'A', 'government', 'shutdown', 'is', 'looming', 'because', 'of', 'a', 'clash', 'over', 'aid', 'for', 'Flint,', 'Michigan', 'Senate', 'Dems', 'block', \"gov't\", 'funding', 'bill', 'over', 'Flint', 'aid', 'Senate', 'passes', 'stopgap', 'spending', 'bill,', '$1.1B', 'to', 'fight', 'Zika', 'Senate', 'advances', 'bill', 'to', 'avert', 'government', 'shutdown', 'after', 'Flint', 'deal', 'struck', 'Congress', 'set', 'to', 'avert', 'government', 'shutdown,', 'offer', 'Zika', 'relief', 'Deal', 'reached', 'to', 'keep', 'U.S.', 'government', 'running,', 'help', 'Flint', 'Democrats', 'poised', 'to', 'block', 'stopgap', 'funding', 'bill', 'over', 'Flint', 'FOUR', 'DAYS', 'UNTIL', 'NEXT', 'REPUBLICAN', 'GOVERNMENT', 'SHUTDOWN', 'Congress', 'nears', 'deal', 'to', 'keep', 'government', 'open', 'Senate', 'Democrats', 'Block', 'Republican', 'Stopgap', 'From', 'Advancing', 'Senate', 'passes', 'bill', 'to', 'avoid', 'government', 'shutdown', 'Congress', 'weighs', 'plan', 'to', 'dodge', 'shutdown']\n",
      "\n",
      "\n",
      "No. of words in intital list = 2597\n",
      "No. of unique words = 53\n",
      "\n",
      "\n",
      "Unique words are :\n",
      "['0', '1', '5', 'A', 'B', 'C', 'D', 'E', 'F', 'G', 'H', 'I', 'K', 'L', 'M', 'N', 'O', 'P', 'R', 'S', 'T', 'U', 'V', 'W', 'X', 'Y', 'Z', 'a', 'b', 'c', 'd', 'e', 'f', 'g', 'h', 'i', 'j', 'k', 'l', 'm', 'n', 'o', 'p', 'r', 's', 't', 'u', 'v', 'w', 'x', 'y', 'z', '’']\n"
     ]
    }
   ],
   "source": [
    "'''\n",
    "Calculate:\n",
    "    No. of words in the list\n",
    "    No. of unique words\n",
    "'''\n",
    "\n",
    "import json\n",
    "import re, string\n",
    "\n",
    "with open('myJson.json', 'r') as f:\n",
    "    docid_to_title_new = json.load(f) # Convert the JSON into a dict\n",
    "\n",
    "my_list = []\n",
    "my_list1 = []\n",
    "unique_words = () \n",
    "\n",
    "for i in docid_to_title_new.keys():\n",
    "#     myList += docid_to_title_new[i]['content']['title'].split(' ') \n",
    "    \n",
    "    my_str_nws = re.sub(' +', ' ', docid_to_title_new[i]['content']['title']).strip()\n",
    "    print(my_str_nws)\n",
    "    my_list += my_str_nws.split()\n",
    "\n",
    "print(my_list)\n",
    "# for word in my_list:\n",
    "#     my_list1 += word.translate(word.maketrans('', '', string.punctuation))\n",
    "\n",
    "unique_words = list(set(my_list))\n",
    "\n",
    "print(\"\\n\")\n",
    "print(\"No. of words in intital list =\", len(my_list))\n",
    "print(\"No. of unique words =\", len(unique_words))\n",
    "print(\"\\n\")\n",
    "print(\"Unique words are :\")\n",
    "print(sorted(unique_words))\n"
   ]
  },
  {
   "cell_type": "code",
   "execution_count": null,
   "metadata": {},
   "outputs": [],
   "source": []
  }
 ],
 "metadata": {
  "kernelspec": {
   "display_name": "Python 3",
   "language": "python",
   "name": "python3"
  },
  "language_info": {
   "codemirror_mode": {
    "name": "ipython",
    "version": 3
   },
   "file_extension": ".py",
   "mimetype": "text/x-python",
   "name": "python",
   "nbconvert_exporter": "python",
   "pygments_lexer": "ipython3",
   "version": "3.7.4"
  }
 },
 "nbformat": 4,
 "nbformat_minor": 2
}
