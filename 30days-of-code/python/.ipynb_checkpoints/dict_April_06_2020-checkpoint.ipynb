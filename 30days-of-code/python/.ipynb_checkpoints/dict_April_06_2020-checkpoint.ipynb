{
 "cells": [
  {
   "cell_type": "code",
   "execution_count": 1,
   "metadata": {},
   "outputs": [],
   "source": [
    "from collections import defaultdict, namedtuple, Counter, deque\n",
    "import csv\n",
    "import random\n",
    "from urllib.request import urlretrieve"
   ]
  },
  {
   "cell_type": "code",
   "execution_count": 2,
   "metadata": {},
   "outputs": [
    {
     "name": "stdout",
     "output_type": "stream",
     "text": [
      "{'Peter': 4, 'Piper': 4, 'picked': 4, 'a': 2, 'peck': 4, 'of': 4, 'pickled': 4, 'peppers': 4, 'A': 1, 'If': 1, 'Wheres': 1, 'the': 1}\n"
     ]
    }
   ],
   "source": [
    "# 1. Load a variable with sentence\n",
    "sentence = \"Peter Piper picked a peck of pickled peppers A peck of pickled \\\n",
    "peppers Peter Piper picked If Peter Piper picked a peck of pickled \\\n",
    "peppers Wheres the peck of pickled peppers Peter Piper picked\"\n",
    "\n",
    "# 2. Initialize the dictionary object\n",
    "word_dict = {}\n",
    "\n",
    "# 3. Perform the word count\n",
    "for word in sentence.split():\n",
    "    if word not in word_dict:\n",
    "        word_dict[word] = 1\n",
    "    else:\n",
    "        word_dict[word] += 1\n",
    "        \n",
    "print(word_dict)        "
   ]
  },
  {
   "cell_type": "code",
   "execution_count": 23,
   "metadata": {},
   "outputs": [
    {
     "name": "stdout",
     "output_type": "stream",
     "text": [
      "A 1\n",
      "If 1\n",
      "Peter 4\n",
      "Piper 4\n",
      "Wheres 1\n",
      "a 2\n",
      "of 4\n",
      "peck 4\n",
      "peppers 4\n",
      "picked 4\n",
      "pickled 4\n",
      "the 1\n"
     ]
    }
   ],
   "source": [
    "for k, v in sorted(word_dict.items(), reverse=False):\n",
    "    print(k, v)"
   ]
  },
  {
   "cell_type": "markdown",
   "metadata": {},
   "source": [
    "### Dictionary Objects"
   ]
  },
  {
   "cell_type": "markdown",
   "metadata": {},
   "source": [
    "- defaultdict()"
   ]
  },
  {
   "cell_type": "code",
   "execution_count": 3,
   "metadata": {},
   "outputs": [
    {
     "name": "stdout",
     "output_type": "stream",
     "text": [
      "defaultdict(<class 'int'>, {'Peter': 4, 'Piper': 4, 'picked': 4, 'a': 2, 'peck': 4, 'of': 4, 'pickled': 4, 'peppers': 4, 'A': 1, 'If': 1, 'Wheres': 1, 'the': 1})\n"
     ]
    }
   ],
   "source": [
    "from collections import defaultdict\n",
    "\n",
    "word_dict2 =defaultdict(int)\n",
    "\n",
    "for word in sentence.split():\n",
    "        word_dict2[word] += 1\n",
    "        \n",
    "print(word_dict2)"
   ]
  },
  {
   "cell_type": "code",
   "execution_count": 4,
   "metadata": {},
   "outputs": [],
   "source": [
    "users = {'Bob': 'Admin'}"
   ]
  },
  {
   "cell_type": "code",
   "execution_count": 5,
   "metadata": {},
   "outputs": [
    {
     "data": {
      "text/plain": [
       "'Admin'"
      ]
     },
     "execution_count": 5,
     "metadata": {},
     "output_type": "execute_result"
    }
   ],
   "source": [
    "users['Bob']"
   ]
  },
  {
   "cell_type": "code",
   "execution_count": 6,
   "metadata": {},
   "outputs": [
    {
     "ename": "KeyError",
     "evalue": "'Janet'",
     "output_type": "error",
     "traceback": [
      "\u001b[0;31m---------------------------------------------------------------------------\u001b[0m",
      "\u001b[0;31mKeyError\u001b[0m                                  Traceback (most recent call last)",
      "\u001b[0;32m<ipython-input-6-48fd44b46b20>\u001b[0m in \u001b[0;36m<module>\u001b[0;34m\u001b[0m\n\u001b[0;32m----> 1\u001b[0;31m \u001b[0musers\u001b[0m\u001b[0;34m[\u001b[0m\u001b[0;34m'Janet'\u001b[0m\u001b[0;34m]\u001b[0m\u001b[0;34m\u001b[0m\u001b[0;34m\u001b[0m\u001b[0m\n\u001b[0m",
      "\u001b[0;31mKeyError\u001b[0m: 'Janet'"
     ]
    }
   ],
   "source": [
    "users['Janet'] # Throws a 'KeyError'"
   ]
  },
  {
   "cell_type": "code",
   "execution_count": 7,
   "metadata": {},
   "outputs": [
    {
     "data": {
      "text/plain": [
       "'Admin'"
      ]
     },
     "execution_count": 7,
     "metadata": {},
     "output_type": "execute_result"
    }
   ],
   "source": [
    "# Instead try is always:\n",
    "\n",
    "users.get('Bob')"
   ]
  },
  {
   "cell_type": "code",
   "execution_count": 8,
   "metadata": {},
   "outputs": [],
   "source": [
    "users.get('Janet') # This will return nothing"
   ]
  },
  {
   "cell_type": "code",
   "execution_count": 9,
   "metadata": {},
   "outputs": [
    {
     "data": {
      "text/plain": [
       "True"
      ]
     },
     "execution_count": 9,
     "metadata": {},
     "output_type": "execute_result"
    }
   ],
   "source": [
    "users.get('Janet') is None"
   ]
  },
  {
   "cell_type": "markdown",
   "metadata": {},
   "source": [
    "- Counter : A dictionary subclass to count hashable objects"
   ]
  },
  {
   "cell_type": "code",
   "execution_count": 10,
   "metadata": {},
   "outputs": [
    {
     "name": "stdout",
     "output_type": "stream",
     "text": [
      "Counter({'Peter': 4, 'Piper': 4, 'picked': 4, 'peck': 4, 'of': 4, 'pickled': 4, 'peppers': 4, 'a': 2, 'A': 1, 'If': 1, 'Wheres': 1, 'the': 1})\n"
     ]
    }
   ],
   "source": [
    "from collections import Counter\n",
    "\n",
    "words = sentence.split()\n",
    "word_count = Counter(words)\n",
    "\n",
    "print(word_count)"
   ]
  },
  {
   "cell_type": "code",
   "execution_count": 25,
   "metadata": {},
   "outputs": [
    {
     "data": {
      "text/plain": [
       "[('Peter', 4),\n",
       " ('Piper', 4),\n",
       " ('picked', 4),\n",
       " ('peck', 4),\n",
       " ('of', 4),\n",
       " ('pickled', 4),\n",
       " ('peppers', 4),\n",
       " ('a', 2),\n",
       " ('A', 1),\n",
       " ('If', 1),\n",
       " ('Wheres', 1),\n",
       " ('the', 1)]"
      ]
     },
     "execution_count": 25,
     "metadata": {},
     "output_type": "execute_result"
    }
   ],
   "source": [
    "Counter(words).most_common()"
   ]
  },
  {
   "cell_type": "code",
   "execution_count": 26,
   "metadata": {},
   "outputs": [
    {
     "data": {
      "text/plain": [
       "[('Peter', 4), ('Piper', 4), ('picked', 4), ('peck', 4), ('of', 4)]"
      ]
     },
     "execution_count": 26,
     "metadata": {},
     "output_type": "execute_result"
    }
   ],
   "source": [
    "Counter(words).most_common(5)"
   ]
  },
  {
   "cell_type": "code",
   "execution_count": 11,
   "metadata": {},
   "outputs": [
    {
     "name": "stdout",
     "output_type": "stream",
     "text": [
      "Counter({'Peter': 4, 'Piper': 4, 'picked': 4, 'peck': 4, 'of': 4, 'pickled': 4, 'peppers': 4, 'a': 2, 'A': 1, 'If': 1, 'Wheres': 1, 'the': 1})\n"
     ]
    }
   ],
   "source": [
    "# All in one line\n",
    "from collections import Counter\n",
    "\n",
    "print(Counter(sentence.split()))"
   ]
  },
  {
   "cell_type": "markdown",
   "metadata": {},
   "source": [
    "- Dictionary of dictionaries"
   ]
  },
  {
   "cell_type": "code",
   "execution_count": 12,
   "metadata": {},
   "outputs": [
    {
     "name": "stdout",
     "output_type": "stream",
     "text": [
      "{'Alice': defaultdict(<class 'int'>, {'LOR1': 4, 'LOR2': 5, 'LOR3': 3, 'SW1': 5, 'SW2': 3}), 'Harry': defaultdict(<class 'int'>, {'LOR1': 1, 'LOR2': 2, 'LOR3': 1, 'SW1': 4, 'SW2': 4}), 'Snipe': defaultdict(<class 'int'>, {'LOR1': 3, 'LOR2': 4, 'LOR3': 4, 'SW1': 2, 'SW2': 1})}\n"
     ]
    }
   ],
   "source": [
    "from collections import defaultdict\n",
    "\n",
    "user_movie_rating = defaultdict(lambda: defaultdict(int))\n",
    "\n",
    "# initialize ratings\n",
    "user_movie_rating['Alice']['LOR1']=4\n",
    "user_movie_rating['Alice']['LOR2']=5\n",
    "user_movie_rating['Alice']['LOR3']=3\n",
    "user_movie_rating['Alice']['SW1']=5\n",
    "user_movie_rating['Alice']['SW2']=3\n",
    "\n",
    "user_movie_rating['Harry']['LOR1']=1\n",
    "user_movie_rating['Harry']['LOR2']=2\n",
    "user_movie_rating['Harry']['LOR3']=1\n",
    "user_movie_rating['Harry']['SW1']=4\n",
    "user_movie_rating['Harry']['SW2']=4\n",
    "\n",
    "user_movie_rating['Snipe']['LOR1']=3\n",
    "user_movie_rating['Snipe']['LOR2']=4\n",
    "user_movie_rating['Snipe']['LOR3']=4\n",
    "user_movie_rating['Snipe']['SW1']=2\n",
    "user_movie_rating['Snipe']['SW2']=1\n",
    "\n",
    "print(dict(user_movie_rating))"
   ]
  },
  {
   "cell_type": "markdown",
   "metadata": {},
   "source": [
    "### Tuple"
   ]
  },
  {
   "cell_type": "markdown",
   "metadata": {},
   "source": [
    "- namedtuple"
   ]
  },
  {
   "cell_type": "code",
   "execution_count": 13,
   "metadata": {},
   "outputs": [
    {
     "name": "stdout",
     "output_type": "stream",
     "text": [
      "Manhattan distance between two vector =  1\n"
     ]
    }
   ],
   "source": [
    "# Example:1\n",
    "\n",
    "from collections import namedtuple\n",
    "\n",
    "vector = namedtuple(\"Dimension\", 'x y z')\n",
    "\n",
    "vec1 = vector(1,1,1)\n",
    "vec2 = vector(1,0,1)\n",
    "\n",
    "manhattan_distance = abs(vec1.x - vec2.x) + abs(vec1.y - vec2.y) + abs(vec1.z - vec2.z)\n",
    "\n",
    "print(\"Manhattan distance between two vector = \", manhattan_distance)\n"
   ]
  },
  {
   "cell_type": "code",
   "execution_count": 18,
   "metadata": {},
   "outputs": [
    {
     "name": "stdout",
     "output_type": "stream",
     "text": [
      "Name = Bob, Role = Admin\n"
     ]
    }
   ],
   "source": [
    "# Example:2\n",
    "\n",
    "from collections import namedtuple\n",
    "\n",
    "User = namedtuple(\"Emp\", \"name role\") # Two variables: name, role\n",
    "emp1 = User(name = 'Bob', role='Admin')\n",
    "\n",
    "print(f'Name = {emp1.name}, Role = {emp1.role}')"
   ]
  },
  {
   "cell_type": "code",
   "execution_count": null,
   "metadata": {},
   "outputs": [],
   "source": []
  }
 ],
 "metadata": {
  "kernelspec": {
   "display_name": "Python 3",
   "language": "python",
   "name": "python3"
  },
  "language_info": {
   "codemirror_mode": {
    "name": "ipython",
    "version": 3
   },
   "file_extension": ".py",
   "mimetype": "text/x-python",
   "name": "python",
   "nbconvert_exporter": "python",
   "pygments_lexer": "ipython3",
   "version": "3.7.4"
  }
 },
 "nbformat": 4,
 "nbformat_minor": 2
}
