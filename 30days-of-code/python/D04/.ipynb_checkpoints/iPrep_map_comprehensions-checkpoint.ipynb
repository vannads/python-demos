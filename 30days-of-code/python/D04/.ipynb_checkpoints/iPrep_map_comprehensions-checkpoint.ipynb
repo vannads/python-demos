{
 "cells": [
  {
   "cell_type": "markdown",
   "metadata": {},
   "source": [
    "## Data Structures - Contd..."
   ]
  },
  {
   "cell_type": "code",
   "execution_count": 19,
   "metadata": {},
   "outputs": [
    {
     "name": "stdout",
     "output_type": "stream",
     "text": [
      "<class 'map'>\n"
     ]
    }
   ],
   "source": [
    "# Revision: 6/14, \n",
    "# 1 : map()\n",
    "# You pass in a function an iterable, map() will return an object\n",
    "\n",
    "mlist = [180, 67, 110, 45, 21]\n",
    "tax_rate = [0.10, 0.22] # 22% for income > 25, else 10%\n",
    "\n",
    "def apply_tax(income):\n",
    "    if income > 25:\n",
    "        return income*tax_rate[1]\n",
    "    else:\n",
    "        return income*tax_rate[0]\n",
    "\n",
    "tax_list = map(apply_tax, mlist)\n",
    "\n",
    "# Type:\n",
    "print(type(tax_list))\n"
   ]
  },
  {
   "cell_type": "markdown",
   "metadata": {},
   "source": [
    "- 'map' is an iterable\n",
    "- In the Python world, an 'iterable' is any object that you can iterate over, and 'iterator' is the thing that does the actual iterating.\n",
    "- 'Iter-ators' are the agents that perform the iteration.\n",
    "- Important: Iterables are not always indexable, they don’t always have lengths, and they’re not always finite.\n",
    "- len(tax_list) will throw -- TypeError: object of type 'map' has no len()"
   ]
  },
  {
   "cell_type": "code",
   "execution_count": null,
   "metadata": {},
   "outputs": [],
   "source": []
  },
  {
   "cell_type": "code",
   "execution_count": null,
   "metadata": {},
   "outputs": [],
   "source": []
  },
  {
   "cell_type": "code",
   "execution_count": null,
   "metadata": {},
   "outputs": [],
   "source": [
    "# To unpack the 'map' object, use:\n",
    "\n",
    "# print (*tax_list) or \n",
    "# As a list: print(list(tax_list))"
   ]
  },
  {
   "cell_type": "code",
   "execution_count": 20,
   "metadata": {},
   "outputs": [
    {
     "name": "stdout",
     "output_type": "stream",
     "text": [
      "39.6\n",
      "14.74\n",
      "24.2\n",
      "9.9\n",
      "2.1\n"
     ]
    }
   ],
   "source": [
    "for i in tax_list:\n",
    "    print(i)"
   ]
  },
  {
   "cell_type": "code",
   "execution_count": 21,
   "metadata": {},
   "outputs": [
    {
     "ename": "TypeError",
     "evalue": "object of type 'map' has no len()",
     "output_type": "error",
     "traceback": [
      "\u001b[0;31m---------------------------------------------------------------------------\u001b[0m",
      "\u001b[0;31mTypeError\u001b[0m                                 Traceback (most recent call last)",
      "\u001b[0;32m<ipython-input-21-071d6a1ed822>\u001b[0m in \u001b[0;36m<module>\u001b[0;34m\u001b[0m\n\u001b[0;32m----> 1\u001b[0;31m \u001b[0mlen\u001b[0m\u001b[0;34m(\u001b[0m\u001b[0mtax_list\u001b[0m\u001b[0;34m)\u001b[0m\u001b[0;34m\u001b[0m\u001b[0;34m\u001b[0m\u001b[0m\n\u001b[0m",
      "\u001b[0;31mTypeError\u001b[0m: object of type 'map' has no len()"
     ]
    }
   ],
   "source": [
    "len(tax_list)"
   ]
  },
  {
   "cell_type": "code",
   "execution_count": 17,
   "metadata": {},
   "outputs": [
    {
     "name": "stdout",
     "output_type": "stream",
     "text": [
      "39.6 14.74 24.2 9.9 2.1\n"
     ]
    }
   ],
   "source": [
    "print (*tax_list)"
   ]
  },
  {
   "cell_type": "code",
   "execution_count": 18,
   "metadata": {},
   "outputs": [
    {
     "name": "stdout",
     "output_type": "stream",
     "text": [
      "[]\n"
     ]
    }
   ],
   "source": [
    "print(list(tax_list))"
   ]
  },
  {
   "cell_type": "code",
   "execution_count": 8,
   "metadata": {},
   "outputs": [
    {
     "data": {
      "text/plain": [
       "[]"
      ]
     },
     "execution_count": 8,
     "metadata": {},
     "output_type": "execute_result"
    }
   ],
   "source": [
    "[print(n) for n in tax_list]"
   ]
  },
  {
   "cell_type": "code",
   "execution_count": 18,
   "metadata": {},
   "outputs": [
    {
     "name": "stdout",
     "output_type": "stream",
     "text": [
      "<class 'list'>\n"
     ]
    },
    {
     "data": {
      "text/plain": [
       "[39.6, 14.74, 24.2, 9.9, 0]"
      ]
     },
     "execution_count": 18,
     "metadata": {},
     "output_type": "execute_result"
    }
   ],
   "source": [
    "# 2: List Comprehension\n",
    "# More 'Pythonic'; more declaravive than loops\n",
    "# [exp for x in iterable]\n",
    "\n",
    "tax_list2 = [apply_tax(income) for income in mlist]\n",
    "print(type(tax_list2))\n",
    "tax_list2"
   ]
  },
  {
   "cell_type": "code",
   "execution_count": 20,
   "metadata": {},
   "outputs": [
    {
     "name": "stdout",
     "output_type": "stream",
     "text": [
      "<class 'generator'>\n"
     ]
    },
    {
     "data": {
      "text/plain": [
       "[39.6, 14.74, 24.2, 9.9, 0]"
      ]
     },
     "execution_count": 20,
     "metadata": {},
     "output_type": "execute_result"
    }
   ],
   "source": [
    "tax_list3 = (apply_tax(income) for income in mlist)\n",
    "print(type(tax_list3))\n",
    "list(tax_list3)"
   ]
  },
  {
   "cell_type": "code",
   "execution_count": 29,
   "metadata": {},
   "outputs": [
    {
     "data": {
      "text/plain": [
       "[4, 16, 36, 64]"
      ]
     },
     "execution_count": 29,
     "metadata": {},
     "output_type": "execute_result"
    }
   ],
   "source": [
    "# [exp for x in iterable (if conditional)]\n",
    "new_list = [x**2 for x in range(1, 10) if x%2!=1]\n",
    "new_list"
   ]
  },
  {
   "cell_type": "code",
   "execution_count": 24,
   "metadata": {},
   "outputs": [
    {
     "data": {
      "text/plain": [
       "[39.6, 14.74, 24.2, 9.9, 0]"
      ]
     },
     "execution_count": 24,
     "metadata": {},
     "output_type": "execute_result"
    }
   ],
   "source": [
    "# [exp (if conditional) for x in iterable]\n",
    "\n",
    "mlist = [180, 67, 110, 45, 21]\n",
    "tax_rate = 0.22 # for income > 24\n",
    "\n",
    "tax_list5 = [income*0.22 if income > 24 else 0 for income in mlist]\n",
    "tax_list5"
   ]
  },
  {
   "cell_type": "code",
   "execution_count": 32,
   "metadata": {},
   "outputs": [
    {
     "data": {
      "text/plain": [
       "[39.6, 14.74, 24.2, 9.9, 1.05]"
      ]
     },
     "execution_count": 32,
     "metadata": {},
     "output_type": "execute_result"
    }
   ],
   "source": [
    "# [exp (if conditional) for x in iterable]\n",
    "\n",
    "mlist = [180, 67, 110, 45, 21]\n",
    "tax_rate = 0.22 # for income >= 24\n",
    "tax_rate = 0.05 # for income < 24 \n",
    "\n",
    "tax_list5 = [income*0.22 if income >= 24 else income*0.05 for income in mlist]\n",
    "tax_list5"
   ]
  },
  {
   "cell_type": "markdown",
   "metadata": {},
   "source": [
    "### Profile to Optimize Performance"
   ]
  },
  {
   "cell_type": "code",
   "execution_count": 34,
   "metadata": {},
   "outputs": [],
   "source": [
    "import random\n",
    "import timeit\n",
    "\n",
    "TAX_RATE = 0.0825\n",
    "txns = [random.randrange(100) for _ in range(100000)]\n",
    "\n",
    "def get_price(txn):\n",
    "    return txn*(1+TAX_RATE)\n",
    "\n",
    "def get_prices_with_map():\n",
    "    return list(map(get_price, txns))\n",
    "\n",
    "def get_prices_with_comprehension():\n",
    "    return [get_price(txn) for txn in txns]\n",
    "\n",
    "def get_prices_with_decorator():\n",
    "    return list(get_price(txn) for txn in txns)\n",
    "\n",
    "def get_prices_with_loop():\n",
    "    prices =[]\n",
    "    \n",
    "    for txn in txns:\n",
    "        prices.append(get_price(txn))\n",
    "    return prices\n",
    "\n",
    "\n",
    "# timeit.timeit(get_prices_with_map, number=100)\n",
    "# timeit.timeit(get_prices_with_comprehension, number=100)\n",
    "# timeit.timeit(get_prices_with_decorator, number=100)\n",
    "# timeit.timeit(get_prices_with_loop, number=100)"
   ]
  },
  {
   "cell_type": "code",
   "execution_count": 35,
   "metadata": {},
   "outputs": [
    {
     "data": {
      "text/plain": [
       "1.3301514140002837"
      ]
     },
     "execution_count": 35,
     "metadata": {},
     "output_type": "execute_result"
    }
   ],
   "source": [
    "timeit.timeit(get_prices_with_map, number=100)"
   ]
  },
  {
   "cell_type": "code",
   "execution_count": 36,
   "metadata": {},
   "outputs": [
    {
     "data": {
      "text/plain": [
       "1.6165805400014506"
      ]
     },
     "execution_count": 36,
     "metadata": {},
     "output_type": "execute_result"
    }
   ],
   "source": [
    "timeit.timeit(get_prices_with_comprehension, number=100)"
   ]
  },
  {
   "cell_type": "code",
   "execution_count": 37,
   "metadata": {},
   "outputs": [
    {
     "data": {
      "text/plain": [
       "1.8167125590007345"
      ]
     },
     "execution_count": 37,
     "metadata": {},
     "output_type": "execute_result"
    }
   ],
   "source": [
    "timeit.timeit(get_prices_with_decorator, number=100)"
   ]
  },
  {
   "cell_type": "code",
   "execution_count": 38,
   "metadata": {},
   "outputs": [
    {
     "data": {
      "text/plain": [
       "1.956269965001411"
      ]
     },
     "execution_count": 38,
     "metadata": {},
     "output_type": "execute_result"
    }
   ],
   "source": [
    "timeit.timeit(get_prices_with_loop, number=100)"
   ]
  },
  {
   "cell_type": "markdown",
   "metadata": {},
   "source": [
    "As the code demonstrates, the biggest difference is between the loop-based approach and map().\n",
    "Loop took 50% longer to execute compared to map(). \n",
    "Whether or not this matters depends on the needs of your application."
   ]
  },
  {
   "cell_type": "code",
   "execution_count": null,
   "metadata": {},
   "outputs": [],
   "source": []
  }
 ],
 "metadata": {
  "kernelspec": {
   "display_name": "Python 3",
   "language": "python",
   "name": "python3"
  },
  "language_info": {
   "codemirror_mode": {
    "name": "ipython",
    "version": 3
   },
   "file_extension": ".py",
   "mimetype": "text/x-python",
   "name": "python",
   "nbconvert_exporter": "python",
   "pygments_lexer": "ipython3",
   "version": "3.7.4"
  }
 },
 "nbformat": 4,
 "nbformat_minor": 2
}
