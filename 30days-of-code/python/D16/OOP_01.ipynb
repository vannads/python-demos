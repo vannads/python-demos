{
 "cells": [
  {
   "cell_type": "markdown",
   "metadata": {},
   "source": [
    "### Ex:1 -- Class and Instances"
   ]
  },
  {
   "cell_type": "code",
   "execution_count": 13,
   "metadata": {},
   "outputs": [
    {
     "name": "stdout",
     "output_type": "stream",
     "text": [
      "Blu is 5 years old.\n",
      "Woo is 7 years old.\n",
      "\n",
      "\n",
      "Blu is a Bird\n",
      "Woo is a Bird\n",
      "\n",
      "\n",
      "Blu sings  'Happy World!' \n"
     ]
    }
   ],
   "source": [
    "class Parrot:\n",
    "    '''\n",
    "    Implementing a Class and its two instances\n",
    "    '''\n",
    "    # Class attribute\n",
    "    species = 'Bird'\n",
    "    \n",
    "    # Instance attributes\n",
    "    def __init__(self, name, age):\n",
    "        self.name = name\n",
    "        self.age = age\n",
    "        \n",
    "    # Instance methods\n",
    "    def sing(self, song):\n",
    "        return \"{} sings {}\".format(self.name, song)\n",
    "        \n",
    "blu = Parrot('Blu', 5)\n",
    "woo = Parrot('Woo', 7)\n",
    "\n",
    "# Access the instance attributes\n",
    "print(\"{} is {} years old.\".format(blu.name, blu.age))\n",
    "print(\"{} is {} years old.\".format(woo.name, woo.age))\n",
    "print(\"\\n\")\n",
    "\n",
    "# Access the Class attributes\n",
    "print(\"Blu is a {}\".format(blu.__class__.species))\n",
    "print(\"Woo is a {}\".format(woo.__class__.species))\n",
    "print(\"\\n\")\n",
    "\n",
    "# Call instance methods\n",
    "print(blu.sing(\" 'Happy World!' \"))"
   ]
  },
  {
   "cell_type": "markdown",
   "metadata": {},
   "source": [
    "### Ex-2: Inheritance"
   ]
  },
  {
   "cell_type": "code",
   "execution_count": null,
   "metadata": {},
   "outputs": [],
   "source": [
    "class Dog:\n",
    "    # Class attribute\n",
    "    species = \"mammal\"\n",
    "    \n",
    "    # Initializer/Instance Attributes\n",
    "    def __init__(self, name, age):\n",
    "        self.name = name\n",
    "        self.age = age\n",
    "        \n",
    "    # Instance methods\n",
    "    def description(self):\n",
    "        return \"{} is {} years old\".format(self.name, self.age)\n",
    "    \n",
    "    def speak(self, sound):\n",
    "        return \"{} says {}\".format(self.name, sound)\n",
    "    \n",
    "# Child class\n",
    "class RusselTerrier(Dog):\n",
    "    def run(self, speed):\n",
    "        return \"{} is {} old, and runs at {} speed.\".format(self.name, self.age, speed)\n",
    "    \n",
    "# Child class\n",
    "class Bulldog(Dog):\n",
    "    def run(self, speed):\n",
    "        return \"{} is {} old, and runs at {} mph speed.\".format(self.name, self.age, speed)    \n",
    "        "
   ]
  },
  {
   "cell_type": "code",
   "execution_count": null,
   "metadata": {},
   "outputs": [],
   "source": [
    "jim = Bulldog('Jim', 10)\n",
    "\n",
    "print(jim.description())\n",
    "print(jim.run(12))\n",
    "print(jim.speak(\"Bow..bow..bow!\"))"
   ]
  },
  {
   "cell_type": "code",
   "execution_count": null,
   "metadata": {},
   "outputs": [],
   "source": [
    "class Dog:\n",
    "    # Class attribute\n",
    "    species = \"mammal\"\n",
    "    \n",
    "    # Initializer/Instance Attributes\n",
    "    def __init__(self, name, age):\n",
    "        self.name = name\n",
    "        self.age = age\n",
    "        print(\"<Parent Class>\")\n",
    "        \n",
    "    # Instance methods\n",
    "    def description(self):\n",
    "        return \"{} is {} years old\".format(self.name, self.age)\n",
    "    \n",
    "    def speak(self, sound):\n",
    "        return \"{} says {}\".format(self.name, sound)\n",
    "    \n",
    "# Child class\n",
    "class RusselTerrier(Dog):\n",
    "    \n",
    "    def run(self, speed):\n",
    "        return \"{} is {} old, and runs at {} speed.\".format(self.name, self.age, speed)\n",
    "    \n",
    "# Child class\n",
    "class Bulldog(Dog):\n",
    "        \n",
    "    def run(self, speed):\n",
    "        return \"{} is {} old, and runs at {} mph speed.\".format(self.name, self.age, speed)  "
   ]
  },
  {
   "cell_type": "code",
   "execution_count": null,
   "metadata": {},
   "outputs": [],
   "source": [
    "tiger = Bulldog('Tiger', 7)\n",
    "\n",
    "print(tiger.description())\n",
    "print(tiger.run(12))\n",
    "print(tiger.speak(\"Bow..bow..bow!\"))"
   ]
  },
  {
   "cell_type": "markdown",
   "metadata": {},
   "source": [
    "### Ex:3"
   ]
  },
  {
   "cell_type": "code",
   "execution_count": 1,
   "metadata": {},
   "outputs": [],
   "source": [
    "class SchoolMember():\n",
    "    '''\n",
    "    - Base Class (a.k.a. Super Class)\n",
    "    - Represent any SchoolMember\n",
    "    '''\n",
    "    \n",
    "    def __init__(self, name, age):\n",
    "        self.name = name\n",
    "        self.age = age\n",
    "        print(\"<Initialized SchoolMember: {}>\".format(self.name))\n",
    "        \n",
    "    def tell(self):\n",
    "        print(\"Name: {}, Age: {}\".format(self.name, self.age))\n"
   ]
  },
  {
   "cell_type": "code",
   "execution_count": 2,
   "metadata": {},
   "outputs": [],
   "source": [
    "class Teacher(SchoolMember):\n",
    "    '''\n",
    "    Represents a Teacher\n",
    "    '''\n",
    "    \n",
    "    def __init__(self, name, age, salary):\n",
    "        SchoolMember.__init__(self, name, age)\n",
    "        self.salary = salary\n",
    "        print(\"<Initialized Teacher: {}>\".format(self.name))\n",
    "        \n",
    "    def tell(self):\n",
    "        print(\"Name: {}, Salary: {:d}\".format(self.name, self.salary))       "
   ]
  },
  {
   "cell_type": "code",
   "execution_count": 3,
   "metadata": {},
   "outputs": [],
   "source": [
    "class Student(SchoolMember):\n",
    "    '''\n",
    "    Represents a Student\n",
    "    '''\n",
    "    \n",
    "    def __init__(self, name, age, marks):\n",
    "        SchoolMember.__init__(self, name, age)\n",
    "        self.marks = marks\n",
    "        print(\"<Initialized Student: {}>\".format(self.name))\n",
    "        \n",
    "    def tell(self):\n",
    "        print(\"Name: {}, Marks: {:d}\".format(self.name, self.marks))"
   ]
  },
  {
   "cell_type": "code",
   "execution_count": 4,
   "metadata": {},
   "outputs": [
    {
     "name": "stdout",
     "output_type": "stream",
     "text": [
      "<Initialized SchoolMember: June>\n",
      "<Initialized Teacher: June>\n",
      "<Initialized SchoolMember: John>\n",
      "<Initialized Student: John>\n"
     ]
    }
   ],
   "source": [
    "t = Teacher('June', 28, 5000)\n",
    "s = Student('John', 15, 80)"
   ]
  },
  {
   "cell_type": "code",
   "execution_count": 5,
   "metadata": {},
   "outputs": [
    {
     "name": "stdout",
     "output_type": "stream",
     "text": [
      "Name: June, Salary: 5000\n",
      "Name: John, Marks: 80\n"
     ]
    }
   ],
   "source": [
    "members = [t, s]\n",
    "\n",
    "for member in members:\n",
    "    member.tell()"
   ]
  },
  {
   "cell_type": "markdown",
   "metadata": {},
   "source": [
    "### Ex: 4"
   ]
  },
  {
   "cell_type": "code",
   "execution_count": 30,
   "metadata": {},
   "outputs": [],
   "source": [
    "class Robot():\n",
    "    \"\"\"Represents a robot, with a name.\"\"\"\n",
    "    # Class attribute\n",
    "    population = 0\n",
    "    \n",
    "    def __init__(self, name):\n",
    "        self.name = name        \n",
    "        print(\"...Initializing {}.\".format(self.name))\n",
    "        Robot.population += 1\n",
    "        \n",
    "    def terminate(self):\n",
    "        # Terminate when robot is no longer needed.\n",
    "        print(\"...terminating {}.\".format(self.name))\n",
    "        Robot.population -= 1\n",
    "        \n",
    "        if Robot.population == 0:\n",
    "            print(\"{} was the last one.\".format(self.name))\n",
    "        else:\n",
    "            print(\"There are still {:d} robots working.\".format(Robot.population))\n",
    "        \n",
    "    def greet(self):\n",
    "        print(\"Greetings! I am {}.\".format(self.name))\n",
    "        \n",
    "    @classmethod\n",
    "    def how_many(cls):\n",
    "        # Prints the current active robots\n",
    "        print(\"We have {:d} robot(s).\".format(cls.population))"
   ]
  },
  {
   "cell_type": "code",
   "execution_count": 31,
   "metadata": {},
   "outputs": [
    {
     "name": "stdout",
     "output_type": "stream",
     "text": [
      "...Initializing R2-D2.\n",
      "Greetings! I am R2-D2.\n",
      "We have 1 robot(s).\n",
      "\n",
      "\n",
      "...Initializing C-3P0.\n",
      "Greetings! I am C-3P0.\n",
      "We have 2 robot(s).\n",
      "\n",
      " ...Robots are finishing their tasks.\n",
      "\n",
      " ...Robots have finished their tasks. Terminating now...\n",
      "\n",
      "...terminating R2-D2.\n",
      "There are still 1 robots working.\n",
      "...terminating C-3P0.\n",
      "C-3P0 was the last one.\n"
     ]
    }
   ],
   "source": [
    "droid1 = Robot(\"R2-D2\")\n",
    "droid1.greet()\n",
    "Robot.how_many()\n",
    "print(\"\\n\")\n",
    "droid2 = Robot(\"C-3P0\")\n",
    "droid2.greet()\n",
    "Robot.how_many()\n",
    "print(\"\\n ...Robots are finishing their tasks.\")\n",
    "print(\"\\n ...Robots have finished their tasks. Terminating now...\\n\")\n",
    "droid1.terminate()\n",
    "droid2.terminate()"
   ]
  },
  {
   "cell_type": "code",
   "execution_count": null,
   "metadata": {},
   "outputs": [],
   "source": []
  }
 ],
 "metadata": {
  "kernelspec": {
   "display_name": "Python 3",
   "language": "python",
   "name": "python3"
  },
  "language_info": {
   "codemirror_mode": {
    "name": "ipython",
    "version": 3
   },
   "file_extension": ".py",
   "mimetype": "text/x-python",
   "name": "python",
   "nbconvert_exporter": "python",
   "pygments_lexer": "ipython3",
   "version": "3.7.4"
  }
 },
 "nbformat": 4,
 "nbformat_minor": 2
}
