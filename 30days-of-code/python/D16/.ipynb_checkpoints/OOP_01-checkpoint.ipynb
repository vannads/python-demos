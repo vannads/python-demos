{
 "cells": [
  {
   "cell_type": "markdown",
   "metadata": {},
   "source": [
    "### Ex:1 -- Class and Instances"
   ]
  },
  {
   "cell_type": "code",
   "execution_count": 1,
   "metadata": {},
   "outputs": [
    {
     "name": "stdout",
     "output_type": "stream",
     "text": [
      "Blu is 5 years old.\n",
      "Woo is 7 years old.\n",
      "\n",
      "\n",
      "Blu is a Bird\n",
      "Woo is a Bird\n"
     ]
    }
   ],
   "source": [
    "class Parrot:\n",
    "    '''\n",
    "    Implementing a Class and its two instances\n",
    "    '''\n",
    "    # Class attribute\n",
    "    species = 'Bird'\n",
    "    \n",
    "    # Instance attribute\n",
    "    def __init__(self, name, age):\n",
    "        self.name = name\n",
    "        self.age = age\n",
    "        \n",
    "blu = Parrot('Blu', 5)\n",
    "woo = Parrot('Woo', 7)\n",
    "\n",
    "# Access the instance attributes\n",
    "print(\"{} is {} years old.\".format(blu.name, blu.age))\n",
    "print(\"{} is {} years old.\".format(woo.name, woo.age))\n",
    "print(\"\\n\")\n",
    "\n",
    "# Access the Class attributes\n",
    "print(\"Blu is a {}\".format(blu.__class__.species))\n",
    "print(\"Woo is a {}\".format(woo.__class__.species))"
   ]
  },
  {
   "cell_type": "code",
   "execution_count": null,
   "metadata": {},
   "outputs": [],
   "source": []
  }
 ],
 "metadata": {
  "kernelspec": {
   "display_name": "Python 3",
   "language": "python",
   "name": "python3"
  },
  "language_info": {
   "codemirror_mode": {
    "name": "ipython",
    "version": 3
   },
   "file_extension": ".py",
   "mimetype": "text/x-python",
   "name": "python",
   "nbconvert_exporter": "python",
   "pygments_lexer": "ipython3",
   "version": "3.7.4"
  }
 },
 "nbformat": 4,
 "nbformat_minor": 2
}
