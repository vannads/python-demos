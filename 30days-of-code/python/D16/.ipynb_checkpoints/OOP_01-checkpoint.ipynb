{
 "cells": [
  {
   "cell_type": "markdown",
   "metadata": {},
   "source": [
    "### Ex:1 -- Class and Instances"
   ]
  },
  {
   "cell_type": "code",
   "execution_count": 4,
   "metadata": {},
   "outputs": [
    {
     "name": "stdout",
     "output_type": "stream",
     "text": [
      "Blu is 5 years old.\n",
      "Woo is 7 years old.\n",
      "\n",
      "\n",
      "Blu is a Bird\n",
      "Woo is a Bird\n",
      "\n",
      "\n",
      "Blu sings  'Happy World!' \n"
     ]
    }
   ],
   "source": [
    "class Parrot:\n",
    "    '''\n",
    "    Implementing a Class and its two instances\n",
    "    '''\n",
    "    # Class attribute\n",
    "    species = 'Bird'\n",
    "    \n",
    "    # Instance attributes\n",
    "    def __init__(self, name, age):\n",
    "        self.name = name\n",
    "        self.age = age\n",
    "        \n",
    "    # Instance methods\n",
    "    def sing(self, song):\n",
    "        return \"{} sings {}\".format(self.name, song)\n",
    "        \n",
    "blu = Parrot('Blu', 5)\n",
    "woo = Parrot('Woo', 7)\n",
    "\n",
    "# Access the instance attributes\n",
    "print(\"{} is {} years old.\".format(blu.name, blu.age))\n",
    "print(\"{} is {} years old.\".format(woo.name, woo.age))\n",
    "print(\"\\n\")\n",
    "\n",
    "# Access the Class attributes\n",
    "print(\"Blu is a {}\".format(blu.__class__.species))\n",
    "print(\"Woo is a {}\".format(woo.__class__.species))\n",
    "print(\"\\n\")\n",
    "\n",
    "# Call instance methods\n",
    "print(blu.sing(\" 'Happy World!' \"))"
   ]
  },
  {
   "cell_type": "markdown",
   "metadata": {},
   "source": [
    "### Ex-2: Inheritance"
   ]
  },
  {
   "cell_type": "code",
   "execution_count": 16,
   "metadata": {},
   "outputs": [],
   "source": [
    "class Dog:\n",
    "    # Class attribute\n",
    "    species = \"mammal\"\n",
    "    \n",
    "    # Initializer/Instance Attributes\n",
    "    def __init__(self, name, age):\n",
    "        self.name = name\n",
    "        self.age = age\n",
    "        \n",
    "    # Instance methods\n",
    "    def description(self):\n",
    "        return \"{} is {} years old\".format(self.name, self.age)\n",
    "    \n",
    "    def speak(self, sound):\n",
    "        return \"{} says {}\".format(self.name, sound)\n",
    "    \n",
    "# Child class\n",
    "class RusselTerrier(Dog):\n",
    "    def run(self, speed):\n",
    "        return \"{} is {} old, and runs at {} speed.\".format(self.name, self.age, speed)\n",
    "    \n",
    "# Child class\n",
    "class Bulldog(Dog):\n",
    "    def run(self, speed):\n",
    "        return \"{} is {} old, and runs at {} mph speed.\".format(self.name, self.age, speed)    \n",
    "        "
   ]
  },
  {
   "cell_type": "code",
   "execution_count": 18,
   "metadata": {},
   "outputs": [
    {
     "name": "stdout",
     "output_type": "stream",
     "text": [
      "Jim is 10 years old\n",
      "Jim is 10 old, and runs at 12 mph speed.\n",
      "Jim says Bow..bow..bow!\n"
     ]
    }
   ],
   "source": [
    "jim = Bulldog('Jim', 10)\n",
    "\n",
    "print(jim.description())\n",
    "print(jim.run(12))\n",
    "print(jim.speak(\"Bow..bow..bow!\"))"
   ]
  },
  {
   "cell_type": "code",
   "execution_count": 30,
   "metadata": {},
   "outputs": [],
   "source": [
    "class Dog:\n",
    "    # Class attribute\n",
    "    species = \"mammal\"\n",
    "    \n",
    "    # Initializer/Instance Attributes\n",
    "    def __init__(self, name, age):\n",
    "        self.name = name\n",
    "        self.age = age\n",
    "        print(\"<Parent Class>\")\n",
    "        \n",
    "    # Instance methods\n",
    "    def description(self):\n",
    "        return \"{} is {} years old\".format(self.name, self.age)\n",
    "    \n",
    "    def speak(self, sound):\n",
    "        return \"{} says {}\".format(self.name, sound)\n",
    "    \n",
    "# Child class\n",
    "class RusselTerrier(Dog):\n",
    "    \n",
    "    def run(self, speed):\n",
    "        return \"{} is {} old, and runs at {} speed.\".format(self.name, self.age, speed)\n",
    "    \n",
    "# Child class\n",
    "class Bulldog(Dog):\n",
    "        \n",
    "    def run(self, speed):\n",
    "        return \"{} is {} old, and runs at {} mph speed.\".format(self.name, self.age, speed)  "
   ]
  },
  {
   "cell_type": "code",
   "execution_count": 31,
   "metadata": {},
   "outputs": [
    {
     "name": "stdout",
     "output_type": "stream",
     "text": [
      "<Parent Class>\n",
      "Tiger is 7 years old\n",
      "Tiger is 7 old, and runs at 12 mph speed.\n",
      "Tiger says Bow..bow..bow!\n"
     ]
    }
   ],
   "source": [
    "tiger = Bulldog('Tiger', 7)\n",
    "\n",
    "print(tiger.description())\n",
    "print(tiger.run(12))\n",
    "print(tiger.speak(\"Bow..bow..bow!\"))"
   ]
  },
  {
   "cell_type": "code",
   "execution_count": null,
   "metadata": {},
   "outputs": [],
   "source": []
  }
 ],
 "metadata": {
  "kernelspec": {
   "display_name": "Python 3",
   "language": "python",
   "name": "python3"
  },
  "language_info": {
   "codemirror_mode": {
    "name": "ipython",
    "version": 3
   },
   "file_extension": ".py",
   "mimetype": "text/x-python",
   "name": "python",
   "nbconvert_exporter": "python",
   "pygments_lexer": "ipython3",
   "version": "3.7.4"
  }
 },
 "nbformat": 4,
 "nbformat_minor": 2
}
