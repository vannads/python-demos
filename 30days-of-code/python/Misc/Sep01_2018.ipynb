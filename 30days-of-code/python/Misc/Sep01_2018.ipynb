{
 "cells": [
  {
   "cell_type": "markdown",
   "metadata": {},
   "source": [
    "### Udacity Python Lessons"
   ]
  },
  {
   "cell_type": "code",
   "execution_count": 3,
   "metadata": {},
   "outputs": [],
   "source": [
    "import time\n",
    "import webbrowser\n",
    "\n",
    "\n",
    "total_breaks = 3\n",
    "break_count = 1\n",
    "\n",
    "while break_count < total_breaks:\n",
    "    time.sleep(10)\n",
    "    webbrowser.open(\"https://www.youtube.com/watch?v=VuNIsY6JdUw\")\n",
    "    break_count += 1\n",
    "    "
   ]
  },
  {
   "cell_type": "code",
   "execution_count": 4,
   "metadata": {},
   "outputs": [
    {
     "name": "stdout",
     "output_type": "stream",
     "text": [
      "/Users/sathisanvannadil/Desktop/Python/LLL\r\n"
     ]
    }
   ],
   "source": [
    "!pwd"
   ]
  },
  {
   "cell_type": "code",
   "execution_count": 16,
   "metadata": {},
   "outputs": [
    {
     "name": "stdout",
     "output_type": "stream",
     "text": [
      "['.DS_Store', '.ipynb_checkpoints', 'debug_082418.py', 'jason_primerai', 'Json_raw.json', 'myJson.json', 'Sep01_2018.ipynb', 'test.py', 'Untitled.ipynb']\n"
     ]
    }
   ],
   "source": [
    "import os\n",
    "\n",
    "\n",
    "file_list = os.listdir(r\"/Users/sathisanvannadil/Desktop/Python/LLL\")\n",
    "print(file_list)"
   ]
  },
  {
   "cell_type": "code",
   "execution_count": 13,
   "metadata": {},
   "outputs": [],
   "source": [
    "import re\n",
    "\n",
    "new_file_list = []\n",
    "for file_name in file_list:\n",
    "    #os.rename(file_name, file_name.translate(None, \"1234567890\"))\n",
    "    new_file_list.append(re.sub('[0-9]', '', file_name))"
   ]
  },
  {
   "cell_type": "code",
   "execution_count": 15,
   "metadata": {},
   "outputs": [
    {
     "name": "stdout",
     "output_type": "stream",
     "text": [
      "['.DS_Store', '.ipynb_checkpoints', 'debug_.py', 'jason_primerai', 'Json_raw.json', 'myJson.json', 'Sep_.ipynb', 'test.py', 'Untitled.ipynb']\n"
     ]
    }
   ],
   "source": [
    "print(new_file_list)"
   ]
  },
  {
   "cell_type": "code",
   "execution_count": null,
   "metadata": {},
   "outputs": [],
   "source": []
  }
 ],
 "metadata": {
  "kernelspec": {
   "display_name": "Python 3",
   "language": "python",
   "name": "python3"
  },
  "language_info": {
   "codemirror_mode": {
    "name": "ipython",
    "version": 3
   },
   "file_extension": ".py",
   "mimetype": "text/x-python",
   "name": "python",
   "nbconvert_exporter": "python",
   "pygments_lexer": "ipython3",
   "version": "3.6.5"
  }
 },
 "nbformat": 4,
 "nbformat_minor": 2
}
