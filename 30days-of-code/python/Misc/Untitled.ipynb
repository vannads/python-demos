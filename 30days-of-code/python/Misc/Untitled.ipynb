{
 "cells": [
  {
   "cell_type": "code",
   "execution_count": 2,
   "metadata": {},
   "outputs": [
    {
     "name": "stdout",
     "output_type": "stream",
     "text": [
      "*******************************************\n",
      "No. of words in intital list = 477\n",
      "No. of unique words = 204\n",
      "\n",
      "\n",
      "Unique words are :\n",
      "*******************************************\n",
      "{'', 'water', 'Government', 'ignores', 'from', 'will', 'after', 'Afford', 'shifts', 'UNTIL', 'Pass', 'a', 'passes', 'struck', 'Babies', 'weighs', 'the', 'Deal', 'Providing', 'Spending', 'Will', 'averting', 'From', 'weekend', 'nears', 'Shutdown', 'Critical', 'Week', 'Lawmakers', 'House', 'spending', 'million,', 'on', 'threaten', 'Includes', 'help', 'Let’s', 'separate', 'Longer', 'Working', 'ahead:', 'Again', 'because', \"Cruz'\", 'Senate', 'Block', 'covers', 'SHUTDOWN', 'dollars', 'fight', 'Speaker', 'rejected', 'offer', 'brings', 'democrats', 'federal', 'bill,', \"bill's\", 'is', 'Together', 'Internet', 'avert', 'Wait', 'avoid', 'ALEXANDER', 'looms', 'aims', 'toward', 'running,', 'aid,', 'Short-Term', 'Measure', 'open', 'combat', 'set', 'Congressional', 'GOVERNMENT', 'ready', 'new', 'A', 'Flint', 'stop-gap', 'leaders', 'Democrats:', 'keep', 'Cannot', 'reach', 'internet', 'Dems', 'funds?', 'funding', 'Democrats’', 'shutdown', 'sticking', 'deal', 'week', 'bill', 'pushing', 'blocks', 'FOUR', 'potentially', 'Leaders', 'Pelosi', '$1.1B', 'Are', 'relief', 'bid', 'De...', 'for', 'looming', 'survives', 'budget', 'government', 'U.S.', 'NEXT', 'shutdown,', 'Putting', 'open,', 'Republican', 'US', 'Ryan', 'closer', 'Risk', 'Passes', 'Any', 'and', 'over', 'Cornyn:', 'Gain', 'vote', 'reached', \"gov't\", 'REPUBLICAN', 'Congress', 'express', 'accept', 'Republicans', 'point', 'giveaway', 'Blocks', 'Political', ':', 'Advancing', 'DAYS', 'center', 'standoff', 'Louisiana', 'as', 'to', 'force', 'advances', 'approves', 'poised', 'press', 'talks', 'Bill', 'Towards', 'aides:', 'dollars,', 'Michigan', 'Keep', 'Pushing', 'Politics', 'says', 'averts', 'Country', 'partisan', 'optimism', 'stopgap', 'showdown', 'clash', 'Funding', 'aide', 'play', 'of', 'Defeat', 'shutdown?', 'Election', 'plan', 'Zika:', 'at', 'We', 'flood', 'coming', 'due', 'dodge', 'renewed', 'Republicans’', 'Democrats', 'McConnell:', 'Stopgap', 'prevent', 'Resources', '$500', 'block', 'Zika', 'aid', 'Flint,', 'with', 'this', 'That', 'in', 'about', 'strike'}\n",
      "*******************************************\n"
     ]
    }
   ],
   "source": [
    "\n",
    "import json\n",
    "\n",
    "with open('myJson.json', 'r') as f:\n",
    "    docid_to_title_new = json.load(f) # Convert the JSON into a dict\n",
    "\n",
    "myList = []\n",
    "unique_words = () \n",
    "for i in docid_to_title_new.keys():\n",
    "    myList += docid_to_title_new[i]['content']['title'].split(' ') \n",
    "\n",
    "unique_words = set(myList)\n",
    "\n",
    "print(\"*******************************************\")\n",
    "print(\"No. of words in intital list =\", len(myList))\n",
    "print(\"No. of unique words =\", len(unique_words))\n",
    "print(\"\\n\")\n",
    "print(\"Unique words are :\")\n",
    "print(\"*******************************************\")\n",
    "print(unique_words)\n",
    "print(\"*******************************************\")"
   ]
  },
  {
   "cell_type": "code",
   "execution_count": null,
   "metadata": {},
   "outputs": [],
   "source": []
  }
 ],
 "metadata": {
  "kernelspec": {
   "display_name": "Python 3",
   "language": "python",
   "name": "python3"
  },
  "language_info": {
   "codemirror_mode": {
    "name": "ipython",
    "version": 3
   },
   "file_extension": ".py",
   "mimetype": "text/x-python",
   "name": "python",
   "nbconvert_exporter": "python",
   "pygments_lexer": "ipython3",
   "version": "3.7.4"
  }
 },
 "nbformat": 4,
 "nbformat_minor": 2
}
