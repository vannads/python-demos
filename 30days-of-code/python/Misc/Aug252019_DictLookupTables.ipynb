{
 "cells": [
  {
   "cell_type": "code",
   "execution_count": 4,
   "metadata": {},
   "outputs": [],
   "source": [
    "def dispatch_dict1(operator, x, y):\n",
    "    return {\n",
    "        'add': lambda: x+y,\n",
    "        'sub': lambda: x-y,\n",
    "        'mul': lambda: x*y,\n",
    "        'div': lambda: x/y,\n",
    "    }.get(operator, lambda: None)() #---None is the defalut value; so output will be blank or none"
   ]
  },
  {
   "cell_type": "code",
   "execution_count": 5,
   "metadata": {},
   "outputs": [
    {
     "data": {
      "text/plain": [
       "11"
      ]
     },
     "execution_count": 5,
     "metadata": {},
     "output_type": "execute_result"
    }
   ],
   "source": [
    "dispatch_dict1('add', 5, 6)"
   ]
  },
  {
   "cell_type": "code",
   "execution_count": 7,
   "metadata": {},
   "outputs": [
    {
     "data": {
      "text/plain": [
       "'Error'"
      ]
     },
     "execution_count": 7,
     "metadata": {},
     "output_type": "execute_result"
    }
   ],
   "source": [
    "def dispatch_dict2(operator, x, y):\n",
    "    return {\n",
    "        'add': lambda: x+y,\n",
    "        'sub': lambda: x-y,\n",
    "        'mul': lambda: x*y,\n",
    "        'div': lambda: x/y,\n",
    "    }.get(operator, lambda: 'Error')() #---'Error' is the defalut value\n",
    "\n",
    "dispatch_dict2('doo', 4, 5)"
   ]
  },
  {
   "cell_type": "code",
   "execution_count": 8,
   "metadata": {},
   "outputs": [],
   "source": [
    "def dispatch_dict3(operator, x, y):\n",
    "    if y > 0:\n",
    "        return {\n",
    "            'add': lambda: x+y,\n",
    "            'sub': lambda: x-y,\n",
    "            'mul': lambda: x*y,\n",
    "            'div': lambda: x/y,\n",
    "        }.get(operator, lambda: None)() #---None is the defalut value; so output will be blank or none\n",
    "    else:\n",
    "        return \"y should be greater than 0\""
   ]
  },
  {
   "cell_type": "code",
   "execution_count": 10,
   "metadata": {},
   "outputs": [
    {
     "data": {
      "text/plain": [
       "11"
      ]
     },
     "execution_count": 10,
     "metadata": {},
     "output_type": "execute_result"
    }
   ],
   "source": [
    "dispatch_dict3('add', 5, 6)"
   ]
  },
  {
   "cell_type": "code",
   "execution_count": 11,
   "metadata": {},
   "outputs": [
    {
     "data": {
      "text/plain": [
       "'y should be greater than 0'"
      ]
     },
     "execution_count": 11,
     "metadata": {},
     "output_type": "execute_result"
    }
   ],
   "source": [
    "dispatch_dict3('add', 5, 0)"
   ]
  },
  {
   "cell_type": "code",
   "execution_count": null,
   "metadata": {},
   "outputs": [],
   "source": []
  }
 ],
 "metadata": {
  "kernelspec": {
   "display_name": "Python 3",
   "language": "python",
   "name": "python3"
  },
  "language_info": {
   "codemirror_mode": {
    "name": "ipython",
    "version": 3
   },
   "file_extension": ".py",
   "mimetype": "text/x-python",
   "name": "python",
   "nbconvert_exporter": "python",
   "pygments_lexer": "ipython3",
   "version": "3.6.5"
  }
 },
 "nbformat": 4,
 "nbformat_minor": 2
}
