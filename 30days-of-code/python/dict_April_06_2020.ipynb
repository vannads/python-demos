{
 "cells": [
  {
   "cell_type": "markdown",
   "metadata": {},
   "source": [
    "### Dictionary Objects"
   ]
  },
  {
   "cell_type": "code",
   "execution_count": 1,
   "metadata": {},
   "outputs": [],
   "source": [
    "# 1. Load a variable with sentence\n",
    "sentence = \"Peter Piper picked a peck of pickled peppers A peck of pickled \\\n",
    "peppers Peter Piper picked If Peter Piper picked a peck of pickled \\\n",
    "peppers Wheres the peck of pickled peppers Peter Piper picked\"\n",
    "\n",
    "# 2. Initialize the dictionary object\n",
    "word_dict = {}\n",
    "\n",
    "# 3. Perform the word count\n",
    "for word in sentence.split():\n",
    "    if word not in word_dict:\n",
    "        word_dict[word] = 1\n",
    "    else:\n",
    "        word_dict[word] += 1\n",
    "        \n",
    "print(word_dict)        "
   ]
  },
  {
   "cell_type": "markdown",
   "metadata": {},
   "source": [
    "- defaultdict()"
   ]
  },
  {
   "cell_type": "code",
   "execution_count": 2,
   "metadata": {},
   "outputs": [],
   "source": [
    "from collections import defaultdict\n",
    "\n",
    "word_dict2 =defaultdict(int)\n",
    "\n",
    "for word in sentence.split():\n",
    "        word_dict2[word] += 1\n",
    "        \n",
    "print(word_dict2)"
   ]
  },
  {
   "cell_type": "markdown",
   "metadata": {},
   "source": [
    "- Counter : A dictionary subclass to count hashable objects"
   ]
  },
  {
   "cell_type": "code",
   "execution_count": 3,
   "metadata": {},
   "outputs": [
    {
     "name": "stdout",
     "output_type": "stream",
     "text": [
      "Counter({'Peter': 4, 'Piper': 4, 'picked': 4, 'peck': 4, 'of': 4, 'pickled': 4, 'peppers': 4, 'a': 2, 'A': 1, 'If': 1, 'Wheres': 1, 'the': 1})\n"
     ]
    }
   ],
   "source": [
    "from collections import Counter\n",
    "\n",
    "words = sentence.split()\n",
    "word_count = Counter(words)\n",
    "\n",
    "print(word_count)"
   ]
  },
  {
   "cell_type": "code",
   "execution_count": 4,
   "metadata": {},
   "outputs": [
    {
     "name": "stdout",
     "output_type": "stream",
     "text": [
      "Counter({'Peter': 4, 'Piper': 4, 'picked': 4, 'peck': 4, 'of': 4, 'pickled': 4, 'peppers': 4, 'a': 2, 'A': 1, 'If': 1, 'Wheres': 1, 'the': 1})\n"
     ]
    }
   ],
   "source": [
    "# All in one line\n",
    "from collections import Counter\n",
    "\n",
    "print(Counter(sentence.split()))"
   ]
  },
  {
   "cell_type": "markdown",
   "metadata": {},
   "source": [
    "- Dictionary of dictionaries"
   ]
  },
  {
   "cell_type": "code",
   "execution_count": 5,
   "metadata": {},
   "outputs": [
    {
     "name": "stdout",
     "output_type": "stream",
     "text": [
      "{'Alice': defaultdict(<class 'int'>, {'LOR1': 4, 'LOR2': 5, 'LOR3': 3, 'SW1': 5, 'SW2': 3}), 'Harry': defaultdict(<class 'int'>, {'LOR1': 1, 'LOR2': 2, 'LOR3': 1, 'SW1': 4, 'SW2': 4}), 'Snipe': defaultdict(<class 'int'>, {'LOR1': 3, 'LOR2': 4, 'LOR3': 4, 'SW1': 2, 'SW2': 1})}\n"
     ]
    }
   ],
   "source": [
    "from collections import defaultdict\n",
    "\n",
    "user_movie_rating = defaultdict(lambda: defaultdict(int))\n",
    "\n",
    "# initialize ratings\n",
    "user_movie_rating['Alice']['LOR1']=4\n",
    "user_movie_rating['Alice']['LOR2']=5\n",
    "user_movie_rating['Alice']['LOR3']=3\n",
    "user_movie_rating['Alice']['SW1']=5\n",
    "user_movie_rating['Alice']['SW2']=3\n",
    "\n",
    "user_movie_rating['Harry']['LOR1']=1\n",
    "user_movie_rating['Harry']['LOR2']=2\n",
    "user_movie_rating['Harry']['LOR3']=1\n",
    "user_movie_rating['Harry']['SW1']=4\n",
    "user_movie_rating['Harry']['SW2']=4\n",
    "\n",
    "user_movie_rating['Snipe']['LOR1']=3\n",
    "user_movie_rating['Snipe']['LOR2']=4\n",
    "user_movie_rating['Snipe']['LOR3']=4\n",
    "user_movie_rating['Snipe']['SW1']=2\n",
    "user_movie_rating['Snipe']['SW2']=1\n",
    "\n",
    "print(dict(user_movie_rating))"
   ]
  },
  {
   "cell_type": "markdown",
   "metadata": {},
   "source": [
    "### Tuple"
   ]
  },
  {
   "cell_type": "markdown",
   "metadata": {},
   "source": [
    "- namedtuple"
   ]
  },
  {
   "cell_type": "code",
   "execution_count": 6,
   "metadata": {},
   "outputs": [
    {
     "name": "stdout",
     "output_type": "stream",
     "text": [
      "Manhattan distance between two vector =  1\n"
     ]
    }
   ],
   "source": [
    "from collections import namedtuple\n",
    "\n",
    "vector = namedtuple(\"Dimension\", 'x y z')\n",
    "\n",
    "vec1 = vector(1,1,1)\n",
    "vec2 = vector(1,0,1)\n",
    "\n",
    "manhattan_distance = abs(vec1.x - vec2.x) + abs(vec1.y - vec2.y) + abs(vec1.z - vec2.z)\n",
    "\n",
    "print(\"Manhattan distance between two vector = \", manhattan_distance)\n"
   ]
  },
  {
   "cell_type": "code",
   "execution_count": null,
   "metadata": {},
   "outputs": [],
   "source": []
  }
 ],
 "metadata": {
  "kernelspec": {
   "display_name": "Python 3",
   "language": "python",
   "name": "python3"
  },
  "language_info": {
   "codemirror_mode": {
    "name": "ipython",
    "version": 3
   },
   "file_extension": ".py",
   "mimetype": "text/x-python",
   "name": "python",
   "nbconvert_exporter": "python",
   "pygments_lexer": "ipython3",
   "version": "3.7.4"
  }
 },
 "nbformat": 4,
 "nbformat_minor": 2
}
