{
 "cells": [
  {
   "cell_type": "markdown",
   "metadata": {},
   "source": [
    "### Dictionary Objects"
   ]
  },
  {
   "cell_type": "code",
   "execution_count": 2,
   "metadata": {},
   "outputs": [],
   "source": [
    "# 1. Load a vaible with sentence\n",
    "\n",
    "sentence = \"Peter Piper picked a peck of pickled peppers A peck of pickled \\\n",
    "peppers Peter Piper picked If Peter Piper picked a peck of pickled \\\n",
    "peppers Wheres the peck of pickled peppers Peter Piper picked\"\n"
   ]
  },
  {
   "cell_type": "code",
   "execution_count": 3,
   "metadata": {},
   "outputs": [],
   "source": [
    "# 2. Initialize the dictionary object\n",
    "\n",
    "word_dict = {}"
   ]
  },
  {
   "cell_type": "code",
   "execution_count": 4,
   "metadata": {},
   "outputs": [],
   "source": [
    "# 3. Perform the word count\n",
    "\n",
    "for word in sentence.split():\n",
    "    if word not in word_dict:\n",
    "        word_dict[word] = 1\n",
    "    else:\n",
    "        word_dict[word] += 1"
   ]
  },
  {
   "cell_type": "code",
   "execution_count": 5,
   "metadata": {},
   "outputs": [
    {
     "name": "stdout",
     "output_type": "stream",
     "text": [
      "{'Peter': 4, 'Piper': 4, 'picked': 4, 'a': 2, 'peck': 4, 'of': 4, 'pickled': 4, 'peppers': 4, 'A': 1, 'If': 1, 'Wheres': 1, 'the': 1}\n"
     ]
    }
   ],
   "source": [
    "print(word_dict)"
   ]
  },
  {
   "cell_type": "markdown",
   "metadata": {},
   "source": [
    "- defaultdict()"
   ]
  },
  {
   "cell_type": "code",
   "execution_count": 9,
   "metadata": {},
   "outputs": [],
   "source": [
    "from collections import defaultdict\n",
    "\n",
    "word_dict2 =defaultdict(int)\n",
    "\n",
    "for word in sentence.split():\n",
    "        word_dict2[word] += 1"
   ]
  },
  {
   "cell_type": "code",
   "execution_count": 10,
   "metadata": {},
   "outputs": [
    {
     "name": "stdout",
     "output_type": "stream",
     "text": [
      "defaultdict(<class 'int'>, {'Peter': 4, 'Piper': 4, 'picked': 4, 'a': 2, 'peck': 4, 'of': 4, 'pickled': 4, 'peppers': 4, 'A': 1, 'If': 1, 'Wheres': 1, 'the': 1})\n"
     ]
    }
   ],
   "source": [
    "print(word_dict2)"
   ]
  },
  {
   "cell_type": "markdown",
   "metadata": {},
   "source": [
    "- Counter : A dictionary subclass to count hashable objects"
   ]
  },
  {
   "cell_type": "code",
   "execution_count": 11,
   "metadata": {},
   "outputs": [
    {
     "name": "stdout",
     "output_type": "stream",
     "text": [
      "Counter({'Peter': 4, 'Piper': 4, 'picked': 4, 'peck': 4, 'of': 4, 'pickled': 4, 'peppers': 4, 'a': 2, 'A': 1, 'If': 1, 'Wheres': 1, 'the': 1})\n"
     ]
    }
   ],
   "source": [
    "from collections import Counter\n",
    "\n",
    "words = sentence.split()\n",
    "word_count = Counter(words)\n",
    "\n",
    "print(word_count)"
   ]
  },
  {
   "cell_type": "code",
   "execution_count": 13,
   "metadata": {},
   "outputs": [
    {
     "name": "stdout",
     "output_type": "stream",
     "text": [
      "Counter({'Peter': 4, 'Piper': 4, 'picked': 4, 'peck': 4, 'of': 4, 'pickled': 4, 'peppers': 4, 'a': 2, 'A': 1, 'If': 1, 'Wheres': 1, 'the': 1})\n"
     ]
    }
   ],
   "source": [
    "print(Counter(sentence.split()))"
   ]
  },
  {
   "cell_type": "markdown",
   "metadata": {},
   "source": [
    "- Dictionary of dictionaries"
   ]
  },
  {
   "cell_type": "code",
   "execution_count": 21,
   "metadata": {},
   "outputs": [
    {
     "name": "stdout",
     "output_type": "stream",
     "text": [
      "{'Alice': defaultdict(<class 'int'>, {'LOR1': 4, 'LOR2': 5, 'LOR3': 3, 'SW1': 5, 'SW2': 3}), 'Harry': defaultdict(<class 'int'>, {'LOR1': 1, 'LOR2': 2, 'LOR3': 1, 'SW1': 4, 'SW2': 4}), 'Snipe': defaultdict(<class 'int'>, {'LOR1': 3, 'LOR2': 4, 'LOR3': 4, 'SW1': 2, 'SW2': 1})}\n"
     ]
    }
   ],
   "source": [
    "from collections import defaultdict\n",
    "\n",
    "user_movie_rating = defaultdict(lambda: defaultdict(int))\n",
    "\n",
    "# initialize ratings\n",
    "user_movie_rating['Alice']['LOR1']=4\n",
    "user_movie_rating['Alice']['LOR2']=5\n",
    "user_movie_rating['Alice']['LOR3']=3\n",
    "user_movie_rating['Alice']['SW1']=5\n",
    "user_movie_rating['Alice']['SW2']=3\n",
    "\n",
    "user_movie_rating['Harry']['LOR1']=1\n",
    "user_movie_rating['Harry']['LOR2']=2\n",
    "user_movie_rating['Harry']['LOR3']=1\n",
    "user_movie_rating['Harry']['SW1']=4\n",
    "user_movie_rating['Harry']['SW2']=4\n",
    "\n",
    "user_movie_rating['Snipe']['LOR1']=3\n",
    "user_movie_rating['Snipe']['LOR2']=4\n",
    "user_movie_rating['Snipe']['LOR3']=4\n",
    "user_movie_rating['Snipe']['SW1']=2\n",
    "user_movie_rating['Snipe']['SW2']=1\n",
    "\n",
    "print(dict(user_movie_rating))"
   ]
  },
  {
   "cell_type": "code",
   "execution_count": null,
   "metadata": {},
   "outputs": [],
   "source": []
  }
 ],
 "metadata": {
  "kernelspec": {
   "display_name": "Python 3",
   "language": "python",
   "name": "python3"
  },
  "language_info": {
   "codemirror_mode": {
    "name": "ipython",
    "version": 3
   },
   "file_extension": ".py",
   "mimetype": "text/x-python",
   "name": "python",
   "nbconvert_exporter": "python",
   "pygments_lexer": "ipython3",
   "version": "3.7.4"
  }
 },
 "nbformat": 4,
 "nbformat_minor": 2
}
