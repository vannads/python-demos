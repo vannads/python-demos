{
 "cells": [
  {
   "cell_type": "markdown",
   "metadata": {},
   "source": [
    "# RegEx"
   ]
  },
  {
   "cell_type": "markdown",
   "metadata": {},
   "source": [
    "<b>Search vs Match</b>"
   ]
  },
  {
   "cell_type": "code",
   "execution_count": 1,
   "metadata": {},
   "outputs": [
    {
     "data": {
      "text/plain": [
       "<re.Match object; span=(9, 13), match='I am'>"
      ]
     },
     "execution_count": 1,
     "metadata": {},
     "output_type": "execute_result"
    }
   ],
   "source": [
    "import re\n",
    "\n",
    "text = 'Awesome, I am doing the #100DaysOfCode challenge'\n",
    "\n",
    "re.search(r'I am', text) # -- Search anywhere in the text"
   ]
  },
  {
   "cell_type": "code",
   "execution_count": 2,
   "metadata": {},
   "outputs": [],
   "source": [
    "re.match(r'I am', text) # -- Match at the begining of the text\n",
    "# will return nothing"
   ]
  },
  {
   "cell_type": "code",
   "execution_count": 3,
   "metadata": {},
   "outputs": [
    {
     "data": {
      "text/plain": [
       "<re.Match object; span=(0, 7), match='Awesome'>"
      ]
     },
     "execution_count": 3,
     "metadata": {},
     "output_type": "execute_result"
    }
   ],
   "source": [
    "re.match(r'Awesome', text)"
   ]
  },
  {
   "cell_type": "code",
   "execution_count": null,
   "metadata": {},
   "outputs": [],
   "source": [
    "re.match(r'Awesome.*doing', text)"
   ]
  },
  {
   "cell_type": "code",
   "execution_count": null,
   "metadata": {},
   "outputs": [],
   "source": [
    "re.search(r'.*100Days', text)"
   ]
  },
  {
   "cell_type": "markdown",
   "metadata": {},
   "source": [
    "### Capturing Strings"
   ]
  },
  {
   "cell_type": "code",
   "execution_count": null,
   "metadata": {},
   "outputs": [],
   "source": [
    "hundred = 'Awesome, I am doing the #100DaysOfCode challenge'\n",
    "two_hundred = 'Awesome, I am doing the #200DaysOfCode challenge'\n",
    "\n",
    "m = re.match(r'.*(#\\d+DaysOfCode).*', hundred)"
   ]
  },
  {
   "cell_type": "code",
   "execution_count": null,
   "metadata": {},
   "outputs": [],
   "source": [
    "m.groups()[0]"
   ]
  },
  {
   "cell_type": "code",
   "execution_count": null,
   "metadata": {},
   "outputs": [],
   "source": [
    "m.groups()"
   ]
  },
  {
   "cell_type": "code",
   "execution_count": null,
   "metadata": {},
   "outputs": [],
   "source": [
    "challenge = 'Awesome, I am doing both the #100DaysOfCode challenge and #200DaysOfCode challenge'\n",
    "\n",
    "m1 = re.match(r'.*(#\\d+DaysOfCode)', challenge)\n",
    "m1.groups()"
   ]
  },
  {
   "cell_type": "code",
   "execution_count": null,
   "metadata": {},
   "outputs": [],
   "source": [
    "# To find all occurences:\n",
    "m2 = re.findall(r'(#\\d+DaysOfCode)', challenge)\n",
    "m2[:]"
   ]
  },
  {
   "cell_type": "code",
   "execution_count": null,
   "metadata": {},
   "outputs": [],
   "source": [
    "# Most Frequent Words:\n",
    "\n",
    "new_text = \"\"\"Lorem Ipsum is simply dummy text of the printing and typesetting industry. Lorem Ipsum has been \n",
    "the industry's standard dummy text ever since the 1500s, when an unknown printer took a galley of type and \n",
    "scrambled it to make a Type-specimen book. It has survived not only five centuries, but also the leap into \n",
    "electronic typesetting, remaining essentially unchanged. It was popularised in the 1960s with the release of\n",
    "Letraset sheets containing Lorem Ipsum passages, and more recently with desktop publishing software like Aldus\n",
    "PageMaker including versions of Lorem Ipsum\"\"\"\n",
    "\n",
    "new_text.split()[:7]"
   ]
  },
  {
   "cell_type": "code",
   "execution_count": null,
   "metadata": {},
   "outputs": [],
   "source": [
    "from collections import Counter\n",
    "\n",
    "word_count = Counter(re.findall(r'[A-Z][a-z0-9]+', new_text))\n",
    "#word_count.most_common(25)\n",
    "word_count"
   ]
  },
  {
   "cell_type": "markdown",
   "metadata": {},
   "source": [
    "May 24, 2020"
   ]
  },
  {
   "cell_type": "code",
   "execution_count": null,
   "metadata": {},
   "outputs": [],
   "source": [
    "movies = '''1. Citizen Kane (1941)\n",
    "2. The Godfather (1972)\n",
    "3. Casablanca (1942)\n",
    "4. Raging Bull (1980)\n",
    "5. Singin' in the Rain (1952)\n",
    "6. Gone with the Wind (1939)\n",
    "7. Lawrence of Arabia (1962)\n",
    "8. Schindler's List (1993)\n",
    "9. Vertigo (1958)\n",
    "10. The Wizard of Oz (1939)'''.split('\\n')\n",
    "\n",
    "movies"
   ]
  },
  {
   "cell_type": "code",
   "execution_count": null,
   "metadata": {},
   "outputs": [],
   "source": [
    "pattern = re.compile(r'''\n",
    "^     # Start of string\n",
    "\\d+   # One or more digits\n",
    "\\.    # a lieral dot\n",
    "\\s+   # One or more spaces\n",
    "(?:   # non-capturing parenthesis\n",
    "[A-Za-z']+\\s   # First letter Caps followed by a-z, ends with an apostophe ', followed by a space\n",
    ")     # End of non-capturing parenthesis\n",
    "{2}   # Exactly 2 of the previously grouped subpattern\n",
    "\\(\n",
    "\\d{4}\n",
    "\\)\n",
    "$   # End of string\n",
    "''', re.VERBOSE)"
   ]
  },
  {
   "cell_type": "code",
   "execution_count": null,
   "metadata": {},
   "outputs": [],
   "source": [
    "for movie in movies:\n",
    "    print(movie, pattern.match(movie))"
   ]
  },
  {
   "cell_type": "markdown",
   "metadata": {},
   "source": [
    "- String Replacement"
   ]
  },
  {
   "cell_type": "code",
   "execution_count": null,
   "metadata": {},
   "outputs": [],
   "source": [
    "text = '''Courses: #100DaysOfCode, #200DaysOfDjango, #365DaysOfPyBites'''\n",
    "text.replace('200', '100').replace('365', '100') # String way"
   ]
  },
  {
   "cell_type": "code",
   "execution_count": null,
   "metadata": {},
   "outputs": [],
   "source": [
    "re.sub(r'\\d+', '100', text) # Regular Expression way"
   ]
  },
  {
   "cell_type": "code",
   "execution_count": null,
   "metadata": {},
   "outputs": [],
   "source": [
    "# Change all the #nDaysOf... to #nDaysOfPyton\n",
    "\n",
    "re.sub(r'(#\\d+DaysOf)\\w+', r'\\1Python', text)"
   ]
  },
  {
   "cell_type": "code",
   "execution_count": null,
   "metadata": {},
   "outputs": [],
   "source": []
  }
 ],
 "metadata": {
  "kernelspec": {
   "display_name": "Python 3",
   "language": "python",
   "name": "python3"
  },
  "language_info": {
   "codemirror_mode": {
    "name": "ipython",
    "version": 3
   },
   "file_extension": ".py",
   "mimetype": "text/x-python",
   "name": "python",
   "nbconvert_exporter": "python",
   "pygments_lexer": "ipython3",
   "version": "3.7.4"
  }
 },
 "nbformat": 4,
 "nbformat_minor": 2
}
