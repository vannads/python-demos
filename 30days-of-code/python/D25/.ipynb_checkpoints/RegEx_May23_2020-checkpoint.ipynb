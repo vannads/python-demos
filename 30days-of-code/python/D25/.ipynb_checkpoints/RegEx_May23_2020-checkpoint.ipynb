{
 "cells": [
  {
   "cell_type": "markdown",
   "metadata": {},
   "source": [
    "# RegEx"
   ]
  },
  {
   "cell_type": "code",
   "execution_count": 1,
   "metadata": {},
   "outputs": [],
   "source": [
    "import re"
   ]
  },
  {
   "cell_type": "markdown",
   "metadata": {},
   "source": [
    "- Search vs Match"
   ]
  },
  {
   "cell_type": "code",
   "execution_count": 2,
   "metadata": {},
   "outputs": [
    {
     "data": {
      "text/plain": [
       "<re.Match object; span=(9, 13), match='I am'>"
      ]
     },
     "execution_count": 2,
     "metadata": {},
     "output_type": "execute_result"
    }
   ],
   "source": [
    "text = 'Awesome, I am doing the #100DaysOfCode challenge'\n",
    "re.search(r'I am', text)"
   ]
  },
  {
   "cell_type": "code",
   "execution_count": 3,
   "metadata": {},
   "outputs": [],
   "source": [
    "re.match(r'I am', text)"
   ]
  },
  {
   "cell_type": "code",
   "execution_count": 4,
   "metadata": {},
   "outputs": [
    {
     "data": {
      "text/plain": [
       "<re.Match object; span=(0, 7), match='Awesome'>"
      ]
     },
     "execution_count": 4,
     "metadata": {},
     "output_type": "execute_result"
    }
   ],
   "source": [
    "re.match(r'Awesome', text)"
   ]
  },
  {
   "cell_type": "code",
   "execution_count": 5,
   "metadata": {},
   "outputs": [
    {
     "data": {
      "text/plain": [
       "<re.Match object; span=(0, 19), match='Awesome, I am doing'>"
      ]
     },
     "execution_count": 5,
     "metadata": {},
     "output_type": "execute_result"
    }
   ],
   "source": [
    "re.match(r'Awesome.*doing', text)"
   ]
  },
  {
   "cell_type": "code",
   "execution_count": 6,
   "metadata": {},
   "outputs": [
    {
     "data": {
      "text/plain": [
       "<re.Match object; span=(0, 32), match='Awesome, I am doing the #100Days'>"
      ]
     },
     "execution_count": 6,
     "metadata": {},
     "output_type": "execute_result"
    }
   ],
   "source": [
    "re.search(r'.*100Days', text)"
   ]
  },
  {
   "cell_type": "markdown",
   "metadata": {},
   "source": [
    "### Capturing Strings"
   ]
  },
  {
   "cell_type": "code",
   "execution_count": 7,
   "metadata": {},
   "outputs": [],
   "source": [
    "hundred = 'Awesome, I am doing the #100DaysOfCode challenge'\n",
    "two_hundred = 'Awesome, I am doing the #200DaysOfCode challenge'\n",
    "\n",
    "m = re.match(r'.*(#\\d+DaysOfCode).*', hundred)"
   ]
  },
  {
   "cell_type": "code",
   "execution_count": 8,
   "metadata": {},
   "outputs": [
    {
     "data": {
      "text/plain": [
       "'#100DaysOfCode'"
      ]
     },
     "execution_count": 8,
     "metadata": {},
     "output_type": "execute_result"
    }
   ],
   "source": [
    "m.groups()[0]"
   ]
  },
  {
   "cell_type": "code",
   "execution_count": 9,
   "metadata": {},
   "outputs": [
    {
     "data": {
      "text/plain": [
       "('#100DaysOfCode',)"
      ]
     },
     "execution_count": 9,
     "metadata": {},
     "output_type": "execute_result"
    }
   ],
   "source": [
    "m.groups()"
   ]
  },
  {
   "cell_type": "code",
   "execution_count": 10,
   "metadata": {},
   "outputs": [
    {
     "data": {
      "text/plain": [
       "('#200DaysOfCode',)"
      ]
     },
     "execution_count": 10,
     "metadata": {},
     "output_type": "execute_result"
    }
   ],
   "source": [
    "challenge = 'Awesome, I am doing both the #100DaysOfCode challenge and #200DaysOfCode challenge'\n",
    "\n",
    "m1 = re.match(r'.*(#\\d+DaysOfCode)', challenge)\n",
    "m1.groups()"
   ]
  },
  {
   "cell_type": "code",
   "execution_count": 11,
   "metadata": {},
   "outputs": [
    {
     "data": {
      "text/plain": [
       "['#100DaysOfCode', '#200DaysOfCode']"
      ]
     },
     "execution_count": 11,
     "metadata": {},
     "output_type": "execute_result"
    }
   ],
   "source": [
    "# To find all occurences:\n",
    "m2 = re.findall(r'(#\\d+DaysOfCode)', challenge)\n",
    "m2[:]"
   ]
  },
  {
   "cell_type": "code",
   "execution_count": 12,
   "metadata": {},
   "outputs": [
    {
     "data": {
      "text/plain": [
       "['Lorem', 'Ipsum', 'is', 'simply', 'dummy', 'text', 'of']"
      ]
     },
     "execution_count": 12,
     "metadata": {},
     "output_type": "execute_result"
    }
   ],
   "source": [
    "# Most Frequent Words:\n",
    "\n",
    "new_text = \"\"\"Lorem Ipsum is simply dummy text of the printing and typesetting industry. Lorem Ipsum has been \n",
    "the industry's standard dummy text ever since the 1500s, when an unknown printer took a galley of type and \n",
    "scrambled it to make a Type-specimen book. It has survived not only five centuries, but also the leap into \n",
    "electronic typesetting, remaining essentially unchanged. It was popularised in the 1960s with the release of\n",
    "Letraset sheets containing Lorem Ipsum passages, and more recently with desktop publishing software like Aldus\n",
    "PageMaker including versions of Lorem Ipsum\"\"\"\n",
    "\n",
    "new_text.split()[:7]"
   ]
  },
  {
   "cell_type": "code",
   "execution_count": 13,
   "metadata": {},
   "outputs": [
    {
     "data": {
      "text/plain": [
       "Counter({'Lorem': 4,\n",
       "         'Ipsum': 4,\n",
       "         'Type': 1,\n",
       "         'It': 2,\n",
       "         'Letraset': 1,\n",
       "         'Aldus': 1,\n",
       "         'Page': 1,\n",
       "         'Maker': 1})"
      ]
     },
     "execution_count": 13,
     "metadata": {},
     "output_type": "execute_result"
    }
   ],
   "source": [
    "from collections import Counter\n",
    "\n",
    "word_count = Counter(re.findall(r'[A-Z][a-z0-9]+', new_text))\n",
    "#word_count.most_common(25)\n",
    "word_count"
   ]
  },
  {
   "cell_type": "markdown",
   "metadata": {},
   "source": [
    "May 24, 2020"
   ]
  },
  {
   "cell_type": "code",
   "execution_count": 14,
   "metadata": {},
   "outputs": [
    {
     "data": {
      "text/plain": [
       "['1. Citizen Kane (1941)',\n",
       " '2. The Godfather (1972)',\n",
       " '3. Casablanca (1942)',\n",
       " '4. Raging Bull (1980)',\n",
       " \"5. Singin' in the Rain (1952)\",\n",
       " '6. Gone with the Wind (1939)',\n",
       " '7. Lawrence of Arabia (1962)',\n",
       " \"8. Schindler's List (1993)\",\n",
       " '9. Vertigo (1958)',\n",
       " '10. The Wizard of Oz (1939)']"
      ]
     },
     "execution_count": 14,
     "metadata": {},
     "output_type": "execute_result"
    }
   ],
   "source": [
    "movies = '''1. Citizen Kane (1941)\n",
    "2. The Godfather (1972)\n",
    "3. Casablanca (1942)\n",
    "4. Raging Bull (1980)\n",
    "5. Singin' in the Rain (1952)\n",
    "6. Gone with the Wind (1939)\n",
    "7. Lawrence of Arabia (1962)\n",
    "8. Schindler's List (1993)\n",
    "9. Vertigo (1958)\n",
    "10. The Wizard of Oz (1939)'''.split('\\n')\n",
    "\n",
    "movies"
   ]
  },
  {
   "cell_type": "code",
   "execution_count": null,
   "metadata": {},
   "outputs": [],
   "source": []
  }
 ],
 "metadata": {
  "kernelspec": {
   "display_name": "Python 3",
   "language": "python",
   "name": "python3"
  },
  "language_info": {
   "codemirror_mode": {
    "name": "ipython",
    "version": 3
   },
   "file_extension": ".py",
   "mimetype": "text/x-python",
   "name": "python",
   "nbconvert_exporter": "python",
   "pygments_lexer": "ipython3",
   "version": "3.7.4"
  }
 },
 "nbformat": 4,
 "nbformat_minor": 2
}
