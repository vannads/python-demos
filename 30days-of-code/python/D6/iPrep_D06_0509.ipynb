{
 "cells": [
  {
   "cell_type": "markdown",
   "metadata": {},
   "source": [
    "## Data Structures - Dictionaries ...Contd"
   ]
  },
  {
   "cell_type": "markdown",
   "metadata": {},
   "source": [
    "### fromkeys() : "
   ]
  },
  {
   "cell_type": "markdown",
   "metadata": {},
   "source": [
    "- to generate dictionaries from the given keys and values\n",
    "\n",
    "- dict.fromkeys(keys, [values])\n",
    "\n",
    "- Default value is 'None'"
   ]
  },
  {
   "cell_type": "code",
   "execution_count": 1,
   "metadata": {},
   "outputs": [],
   "source": [
    "states = ['Colorado', 'Boston', 'Minnesota', 'Milwaukee', 'Seattle']\n",
    "game_days = ['Jan-10', 'Feb-15', 'Mar-20']"
   ]
  },
  {
   "cell_type": "code",
   "execution_count": 2,
   "metadata": {},
   "outputs": [
    {
     "data": {
      "text/plain": [
       "{'Colorado': None,\n",
       " 'Boston': None,\n",
       " 'Minnesota': None,\n",
       " 'Milwaukee': None,\n",
       " 'Seattle': None}"
      ]
     },
     "execution_count": 2,
     "metadata": {},
     "output_type": "execute_result"
    }
   ],
   "source": [
    "playlist_1 = dict.fromkeys(states)\n",
    "playlist_1"
   ]
  },
  {
   "cell_type": "code",
   "execution_count": 3,
   "metadata": {},
   "outputs": [
    {
     "data": {
      "text/plain": [
       "{'Colorado': ['Jan-10', 'Feb-15', 'Mar-20'],\n",
       " 'Boston': ['Jan-10', 'Feb-15', 'Mar-20'],\n",
       " 'Minnesota': ['Jan-10', 'Feb-15', 'Mar-20'],\n",
       " 'Milwaukee': ['Jan-10', 'Feb-15', 'Mar-20'],\n",
       " 'Seattle': ['Jan-10', 'Feb-15', 'Mar-20']}"
      ]
     },
     "execution_count": 3,
     "metadata": {},
     "output_type": "execute_result"
    }
   ],
   "source": [
    "playlist_2 = dict.fromkeys(states, game_days)\n",
    "playlist_2"
   ]
  },
  {
   "cell_type": "code",
   "execution_count": 4,
   "metadata": {},
   "outputs": [
    {
     "data": {
      "text/plain": [
       "{'Colorado': ['Jan-10', 'Feb-15', 'Mar-20', 'Apr-15'],\n",
       " 'Boston': ['Jan-10', 'Feb-15', 'Mar-20', 'Apr-15'],\n",
       " 'Minnesota': ['Jan-10', 'Feb-15', 'Mar-20', 'Apr-15'],\n",
       " 'Milwaukee': ['Jan-10', 'Feb-15', 'Mar-20', 'Apr-15'],\n",
       " 'Seattle': ['Jan-10', 'Feb-15', 'Mar-20', 'Apr-15']}"
      ]
     },
     "execution_count": 4,
     "metadata": {},
     "output_type": "execute_result"
    }
   ],
   "source": [
    "game_days.append('Apr-15') # This change will be deep copied; will affect the dict \"playlist_2\"\n",
    "playlist_2"
   ]
  },
  {
   "cell_type": "code",
   "execution_count": 5,
   "metadata": {},
   "outputs": [
    {
     "data": {
      "text/plain": [
       "{'Colorado': ['Jan-10', 'Feb-15', 'Mar-20'],\n",
       " 'Boston': ['Jan-10', 'Feb-15', 'Mar-20'],\n",
       " 'Minnesota': ['Jan-10', 'Feb-15', 'Mar-20'],\n",
       " 'Milwaukee': ['Jan-10', 'Feb-15', 'Mar-20'],\n",
       " 'Seattle': ['Jan-10', 'Feb-15', 'Mar-20']}"
      ]
     },
     "execution_count": 5,
     "metadata": {},
     "output_type": "execute_result"
    }
   ],
   "source": [
    "keys = ['Colorado', 'Boston', 'Minnesota', 'Milwaukee', 'Seattle']\n",
    "vals = ['Jan-10', 'Feb-15', 'Mar-20']\n",
    "\n",
    "play_list2 = {key : list(vals) for key in keys} # Dictionary comprehension\n",
    "play_list2\n"
   ]
  },
  {
   "cell_type": "code",
   "execution_count": 6,
   "metadata": {},
   "outputs": [
    {
     "data": {
      "text/plain": [
       "{'Colorado': ['Jan-10', 'Feb-15', 'Mar-20'],\n",
       " 'Boston': ['Jan-10', 'Feb-15', 'Mar-20'],\n",
       " 'Minnesota': ['Jan-10', 'Feb-15', 'Mar-20'],\n",
       " 'Milwaukee': ['Jan-10', 'Feb-15', 'Mar-20'],\n",
       " 'Seattle': ['Jan-10', 'Feb-15', 'Mar-20']}"
      ]
     },
     "execution_count": 6,
     "metadata": {},
     "output_type": "execute_result"
    }
   ],
   "source": [
    "vals.append('Apr-15') # This change will NOT be deep copied; will NOT affect the dict \"playlist_2\"\n",
    "play_list2"
   ]
  },
  {
   "cell_type": "markdown",
   "metadata": {},
   "source": [
    "### setdefault()"
   ]
  },
  {
   "cell_type": "code",
   "execution_count": 7,
   "metadata": {},
   "outputs": [
    {
     "data": {
      "text/plain": [
       "{'Colorado': ['Jan-10', 'Feb-15', 'Mar-20'],\n",
       " 'Boston': ['Jan-10', 'Feb-15', 'Mar-20'],\n",
       " 'Minnesota': ['Jan-10', 'Feb-15', 'Mar-20'],\n",
       " 'Milwaukee': ['Jan-10', 'Feb-15', 'Mar-20'],\n",
       " 'Seattle': ['Jan-10', 'Feb-15', 'Mar-20'],\n",
       " 'Oregon': None}"
      ]
     },
     "execution_count": 7,
     "metadata": {},
     "output_type": "execute_result"
    }
   ],
   "source": [
    "play_list2.setdefault('Oregon')\n",
    "play_list2"
   ]
  },
  {
   "cell_type": "code",
   "execution_count": 8,
   "metadata": {},
   "outputs": [
    {
     "data": {
      "text/plain": [
       "{'Colorado': ['Jan-10', 'Feb-15', 'Mar-20'],\n",
       " 'Boston': ['Jan-10', 'Feb-15', 'Mar-20'],\n",
       " 'Minnesota': ['Jan-10', 'Feb-15', 'Mar-20'],\n",
       " 'Milwaukee': ['Jan-10', 'Feb-15', 'Mar-20'],\n",
       " 'Seattle': ['Jan-10', 'Feb-15', 'Mar-20'],\n",
       " 'Oregon': None,\n",
       " 'Miami': ['TBD', 'TBD', 'TBD']}"
      ]
     },
     "execution_count": 8,
     "metadata": {},
     "output_type": "execute_result"
    }
   ],
   "source": [
    "def_dates = ['TBD', 'TBD', 'TBD']\n",
    "play_list2.setdefault('Miami', def_dates )\n",
    "play_list2"
   ]
  }
 ],
 "metadata": {
  "kernelspec": {
   "display_name": "Python 3",
   "language": "python",
   "name": "python3"
  },
  "language_info": {
   "codemirror_mode": {
    "name": "ipython",
    "version": 3
   },
   "file_extension": ".py",
   "mimetype": "text/x-python",
   "name": "python",
   "nbconvert_exporter": "python",
   "pygments_lexer": "ipython3",
   "version": "3.7.4"
  }
 },
 "nbformat": 4,
 "nbformat_minor": 2
}
