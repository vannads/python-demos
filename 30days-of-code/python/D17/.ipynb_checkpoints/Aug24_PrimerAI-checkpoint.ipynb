{
 "cells": [
  {
   "cell_type": "code",
   "execution_count": 3,
   "metadata": {},
   "outputs": [],
   "source": [
    "import json\n",
    "docid_to_title = json.loads('{\"28099931907\": {\"content\": {\"title\": \"Zika dollars and Internet fight in play as government shutdown looms\"}}, \"28108959337\": {\"content\": {\"title\": \"Leaders express renewed optimism about flood relief as Congress aims to avoid a government shutdown\"}}, \"28110814722\": {\"content\": {\"title\": \"Senate passes stopgap spending bill, $1.1B to fight Zika\"}}, \"28101422554\": {\"content\": {\"title\": \"Senate blocks bill to avert shutdown as De...\"}}, \"28099132063\": {\"content\": {\"title\": \"Senate Dems threaten shutdown over Flint aid\"}}, \"28101167069\": {\"content\": {\"title\": \"Zika dollars, internet fight in play as government shutdown looms\"}}, \"28102817621\": {\"content\": {\"title\": \"House leaders reach deal on Flint aid, potentially averting shutdown\"}}, \"28108039075\": {\"content\": {\"title\": \"Deal reached to keep US government running, help Flint\"}}, \"28098698025\": {\"content\": {\"title\": \"Defeat of Republicans\\\\u2019 stop-gap spending bill brings federal government closer to a shutdown\"}}, \"28097027782\": {\"content\": {\"title\": \"Will Democrats force a government shutdown over Flint relief funds?\"}}, \"28111131355\": {\"content\": {\"title\": \"Lawmakers strike deal to avoid shutdown\"}}, \"28110856451\": {\"content\": {\"title\": \"Louisiana flood aid, $500 million, survives Senate budget fight\"}}, \"28106625838\": {\"content\": {\"title\": \"Pelosi aide says deal with Speaker Ryan covers Flint aid\"}}, \"28099931906\": {\"content\": {\"title\": \"Zika dollars  and Internet fight in play as government shutdown  looms\"}}, \"28096859458\": {\"content\": {\"title\": \"Are Democrats pushing the federal government toward a shutdown?\"}}, \"28110814723\": {\"content\": {\"title\": \"Senate passes stopgap spending bill, $1.1B to fight Zika\"}}, \"28093906031\": {\"content\": {\"title\": \"will democrats force a federal shutdown over Flint relief funds?\"}}, \"28108873175\": {\"content\": {\"title\": \"Senate Democrats accept deal on Flint aid, potentially averting shutdown\", \"sources\": [\"ABC\", \"FOX\"]}}, \"28103573587\": {\"content\": {\"title\": \"ALEXANDER : Senate Democrats\\\\u2019 Election Politics Are Putting Babies at Risk\"}}, \"28096849799\": {\"content\": {\"title\": \"Democrats poised to block stopgap funding bill over Flint\"}}, \"28098943696\": {\"content\": {\"title\": \"Senate blocks stopgap bill to prevent shutdown this weekend\"}}, \"28110942840\": {\"content\": {\"title\": \"Senate Passes Short-Term Government Funding Measure\"}}, \"28107038234\": {\"content\": {\"title\": \"House aides: Deal reached to help Flint, keep US gov\\'t open\"}}, \"28084509076\": {\"content\": {\"title\": \"Week ahead: Spending fight shifts from Zika to Flint\"}}, \"28089633072\": {\"content\": {\"title\": \"Flint water aid spending bill\\'s sticking point\"}}, \"28099749478\": {\"content\": {\"title\": \"Government shutdown looms due to partisan clash over Flint aid\"}}, \"28099468922\": {\"content\": {\"title\": \"Funding bill rejected as shutdown nears\"}}, \"28107540657\": {\"content\": null}, \"28098940419\": {\"content\": {\"title\": \"\"}}, \"28110838282\": {\"content\": {\"title\": \"Senate approves deal to keep government open, combat Zika\"}}, \"28093943889\": {\"content\": {\"title\": \"Democrats press talks as showdown vote looms on funding bill\"}}, \"28099506681\": {\"content\": {\"title\": \"Republicans ready new bid to avoid shutdown\"}}, \"28084188573\": {\"content\": {\"title\": \"Zika: Congressional showdown coming this week\"}}, \"28109130960\": {\"content\": {\"title\": \"McConnell: Let\\\\u2019s Keep Working Together to Pass Critical Resources\"}}, \"28097129455\": {\"content\": {\"title\": \"McConnell: We Cannot Afford to Wait Any Longer on Providing Critical Resources\"}}, \"28110653655\": {\"content\": {\"title\": \"Deal averts federal shutdown, ignores Cruz\\' Internet \\'giveaway\\'\"}}, \"28110819318\": {\"content\": {\"title\": \"Senate passes spending bill after separate Flint aid deal\"}}, \"28106754872\": {\"content\": {\"title\": \"Democrats: Deal reached to help Flint, keep US gov\\'t open\"}}, \"28093906030\": {\"content\": {\"title\": \"Will Democrats force a federal shutdown over Flint relief funds?\"}}, \"28108257314\": {\"content\": {\"title\": \"US Senate Again Blocks Bill That Includes Zika Funding\"}}, \"28097690131\": {\"content\": {\"title\": \"Cornyn: Democrats Pushing Country Towards Shutdown for Political Gain\"}}, \"28096854777\": {\"content\": {\"title\": \"Flint aid at center of funding standoff in Congress\"}}, \"28100917473\": {\"content\": {\"title\": \"A government shutdown is looming because of a clash over aid for Flint, Michigan\"}}, \"28099198548\": {\"content\": {\"title\": \"Senate Dems block gov\\'t funding bill over Flint aid\"}}, \"28110814724\": {\"content\": {\"title\": \"Senate passes stopgap spending bill, $1.1B to fight Zika\"}}, \"28110749186\": {\"content\": {\"title\": \"Senate advances bill to avert government shutdown after Flint deal struck\"}}, \"28110001860\": {\"content\": {\"title\": \"Congress set to avert government shutdown, offer Zika relief\"}}, \"28109184578\": {\"content\": {\"title\": \"Deal reached to keep U.S. government running, help Flint\"}}, \"28100566138\": {\"content\": {\"title\": \"Democrats poised to block stopgap funding bill over Flint\"}}, \"28085937302\": {\"content\": {\"title\": \"FOUR DAYS UNTIL NEXT REPUBLICAN GOVERNMENT SHUTDOWN\"}}, \"28108954857\": {\"content\": {\"title\": \"Congress nears deal to keep government open\"}}, \"28098853699\": {\"content\": {\"title\": \"Senate Democrats Block Republican Stopgap From Advancing\"}}, \"28110991149\": {\"content\": {\"title\": \"Senate passes bill to avoid government shutdown\"}}, \"28098130400\": {\"content\": {\"title\": \"Congress weighs plan to dodge shutdown\"}}}')"
   ]
  },
  {
   "cell_type": "code",
   "execution_count": 12,
   "metadata": {},
   "outputs": [
    {
     "name": "stdout",
     "output_type": "stream",
     "text": [
      "/Users/sathisanvannadil/Desktop/iFacebook\r\n"
     ]
    }
   ],
   "source": [
    "!pwd"
   ]
  },
  {
   "cell_type": "code",
   "execution_count": 1,
   "metadata": {},
   "outputs": [],
   "source": [
    "import json\n",
    "docid_to_title_new = {'28099931907': {'content': {'title': 'Zika dollars and Internet fight in play as government shutdown looms'}},\n",
    " '28108959337': {'content': {'title': 'Leaders express renewed optimism about flood relief as Congress aims to avoid a government shutdown'}},\n",
    " '28110814722': {'content': {'title': 'Senate passes stopgap spending bill, $1.1B to fight Zika'}},\n",
    " '28101422554': {'content': {'title': 'Senate blocks bill to avert shutdown as De...'}},\n",
    " '28099132063': {'content': {'title': 'Senate Dems threaten shutdown over Flint aid'}},\n",
    " '28101167069': {'content': {'title': 'Zika dollars, internet fight in play as government shutdown looms'}},\n",
    " '28102817621': {'content': {'title': 'House leaders reach deal on Flint aid, potentially averting shutdown'}},\n",
    " '28108039075': {'content': {'title': 'Deal reached to keep US government running, help Flint'}},\n",
    " '28098698025': {'content': {'title': 'Defeat of Republicans’ stop-gap spending bill brings federal government closer to a shutdown'}},\n",
    " '28097027782': {'content': {'title': 'Will Democrats force a government shutdown over Flint relief funds?'}},\n",
    " '28111131355': {'content': {'title': 'Lawmakers strike deal to avoid shutdown'}},\n",
    " '28110856451': {'content': {'title': 'Louisiana flood aid, $500 million, survives Senate budget fight'}},\n",
    " '28106625838': {'content': {'title': 'Pelosi aide says deal with Speaker Ryan covers Flint aid'}},\n",
    " '28099931906': {'content': {'title': 'Zika dollars  and Internet fight in play as government shutdown  looms'}},\n",
    " '28096859458': {'content': {'title': 'Are Democrats pushing the federal government toward a shutdown?'}},\n",
    " '28110814723': {'content': {'title': 'Senate passes stopgap spending bill, $1.1B to fight Zika'}},\n",
    " '28093906031': {'content': {'title': 'will democrats force a federal shutdown over Flint relief funds?'}},\n",
    " '28108873175': {'content': {'title': 'Senate Democrats accept deal on Flint aid, potentially averting shutdown',\n",
    "   'sources': ['ABC', 'FOX']}},\n",
    " '28103573587': {'content': {'title': 'ALEXANDER : Senate Democrats’ Election Politics Are Putting Babies at Risk'}},\n",
    " '28096849799': {'content': {'title': 'Democrats poised to block stopgap funding bill over Flint'}},\n",
    " '28098943696': {'content': {'title': 'Senate blocks stopgap bill to prevent shutdown this weekend'}},\n",
    " '28110942840': {'content': {'title': 'Senate Passes Short-Term Government Funding Measure'}},\n",
    " '28107038234': {'content': {'title': \"House aides: Deal reached to help Flint, keep US gov't open\"}},\n",
    " '28084509076': {'content': {'title': 'Week ahead: Spending fight shifts from Zika to Flint'}},\n",
    " '28089633072': {'content': {'title': \"Flint water aid spending bill's sticking point\"}},\n",
    " '28099749478': {'content': {'title': 'Government shutdown looms due to partisan clash over Flint aid'}},\n",
    " '28099468922': {'content': {'title': 'Funding bill rejected as shutdown nears'}},\n",
    " '28110838282': {'content': {'title': 'Senate approves deal to keep government open, combat Zika'}},\n",
    " '28093943889': {'content': {'title': 'Democrats press talks as showdown vote looms on funding bill'}},\n",
    " '28099506681': {'content': {'title': 'Republicans ready new bid to avoid shutdown'}},\n",
    " '28084188573': {'content': {'title': 'Zika: Congressional showdown coming this week'}},\n",
    " '28109130960': {'content': {'title': 'McConnell: Let’s Keep Working Together to Pass Critical Resources'}},\n",
    " '28097129455': {'content': {'title': 'McConnell: We Cannot Afford to Wait Any Longer on Providing Critical Resources'}},\n",
    " '28110653655': {'content': {'title': \"Deal averts federal shutdown, ignores Cruz' Internet 'giveaway'\"}},\n",
    " '28110819318': {'content': {'title': 'Senate passes spending bill after separate Flint aid deal'}},\n",
    " '28106754872': {'content': {'title': \"Democrats: Deal reached to help Flint, keep US gov't open\"}},\n",
    " '28093906030': {'content': {'title': 'Will Democrats force a federal shutdown over Flint relief funds?'}},\n",
    " '28108257314': {'content': {'title': 'US Senate Again Blocks Bill That Includes Zika Funding'}},\n",
    " '28097690131': {'content': {'title': 'Cornyn: Democrats Pushing Country Towards Shutdown for Political Gain'}},\n",
    " '28096854777': {'content': {'title': 'Flint aid at center of funding standoff in Congress'}},\n",
    " '28100917473': {'content': {'title': 'A government shutdown is looming because of a clash over aid for Flint, Michigan'}},\n",
    " '28099198548': {'content': {'title': \"Senate Dems block gov't funding bill over Flint aid\"}},\n",
    " '28110814724': {'content': {'title': 'Senate passes stopgap spending bill, $1.1B to fight Zika'}},\n",
    " '28110749186': {'content': {'title': 'Senate advances bill to avert government shutdown after Flint deal struck'}},\n",
    " '28110001860': {'content': {'title': 'Congress set to avert government shutdown, offer Zika relief'}},\n",
    " '28109184578': {'content': {'title': 'Deal reached to keep U.S. government running, help Flint'}},\n",
    " '28100566138': {'content': {'title': 'Democrats poised to block stopgap funding bill over Flint'}},\n",
    " '28085937302': {'content': {'title': 'FOUR DAYS UNTIL NEXT REPUBLICAN GOVERNMENT SHUTDOWN'}},\n",
    " '28108954857': {'content': {'title': 'Congress nears deal to keep government open'}},\n",
    " '28098853699': {'content': {'title': 'Senate Democrats Block Republican Stopgap From Advancing'}},\n",
    " '28110991149': {'content': {'title': 'Senate passes bill to avoid government shutdown'}},\n",
    " '28098130400': {'content': {'title': 'Congress weighs plan to dodge shutdown'}}}"
   ]
  },
  {
   "cell_type": "code",
   "execution_count": 1,
   "metadata": {},
   "outputs": [
    {
     "ename": "JSONDecodeError",
     "evalue": "Invalid \\escape: line 1 column 2459 (char 2458)",
     "output_type": "error",
     "traceback": [
      "\u001b[0;31m---------------------------------------------------------------------------\u001b[0m",
      "\u001b[0;31mJSONDecodeError\u001b[0m                           Traceback (most recent call last)",
      "\u001b[0;32m<ipython-input-1-59cf12b8a543>\u001b[0m in \u001b[0;36m<module>\u001b[0;34m\u001b[0m\n\u001b[1;32m      2\u001b[0m \u001b[0;34m\u001b[0m\u001b[0m\n\u001b[1;32m      3\u001b[0m \u001b[0;32mwith\u001b[0m \u001b[0mopen\u001b[0m\u001b[0;34m(\u001b[0m\u001b[0;34m'Json_raw.json'\u001b[0m\u001b[0;34m,\u001b[0m \u001b[0;34m'r'\u001b[0m\u001b[0;34m)\u001b[0m \u001b[0;32mas\u001b[0m \u001b[0mf\u001b[0m\u001b[0;34m:\u001b[0m\u001b[0;34m\u001b[0m\u001b[0;34m\u001b[0m\u001b[0m\n\u001b[0;32m----> 4\u001b[0;31m     \u001b[0mdocid_to_title_new\u001b[0m \u001b[0;34m=\u001b[0m \u001b[0mjson\u001b[0m\u001b[0;34m.\u001b[0m\u001b[0mload\u001b[0m\u001b[0;34m(\u001b[0m\u001b[0mf\u001b[0m\u001b[0;34m)\u001b[0m \u001b[0;31m# Convert the JSON into a dict\u001b[0m\u001b[0;34m\u001b[0m\u001b[0;34m\u001b[0m\u001b[0m\n\u001b[0m",
      "\u001b[0;32m~/opt/anaconda3/lib/python3.7/json/__init__.py\u001b[0m in \u001b[0;36mload\u001b[0;34m(fp, cls, object_hook, parse_float, parse_int, parse_constant, object_pairs_hook, **kw)\u001b[0m\n\u001b[1;32m    294\u001b[0m         \u001b[0mcls\u001b[0m\u001b[0;34m=\u001b[0m\u001b[0mcls\u001b[0m\u001b[0;34m,\u001b[0m \u001b[0mobject_hook\u001b[0m\u001b[0;34m=\u001b[0m\u001b[0mobject_hook\u001b[0m\u001b[0;34m,\u001b[0m\u001b[0;34m\u001b[0m\u001b[0;34m\u001b[0m\u001b[0m\n\u001b[1;32m    295\u001b[0m         \u001b[0mparse_float\u001b[0m\u001b[0;34m=\u001b[0m\u001b[0mparse_float\u001b[0m\u001b[0;34m,\u001b[0m \u001b[0mparse_int\u001b[0m\u001b[0;34m=\u001b[0m\u001b[0mparse_int\u001b[0m\u001b[0;34m,\u001b[0m\u001b[0;34m\u001b[0m\u001b[0;34m\u001b[0m\u001b[0m\n\u001b[0;32m--> 296\u001b[0;31m         parse_constant=parse_constant, object_pairs_hook=object_pairs_hook, **kw)\n\u001b[0m\u001b[1;32m    297\u001b[0m \u001b[0;34m\u001b[0m\u001b[0m\n\u001b[1;32m    298\u001b[0m \u001b[0;34m\u001b[0m\u001b[0m\n",
      "\u001b[0;32m~/opt/anaconda3/lib/python3.7/json/__init__.py\u001b[0m in \u001b[0;36mloads\u001b[0;34m(s, encoding, cls, object_hook, parse_float, parse_int, parse_constant, object_pairs_hook, **kw)\u001b[0m\n\u001b[1;32m    346\u001b[0m             \u001b[0mparse_int\u001b[0m \u001b[0;32mis\u001b[0m \u001b[0;32mNone\u001b[0m \u001b[0;32mand\u001b[0m \u001b[0mparse_float\u001b[0m \u001b[0;32mis\u001b[0m \u001b[0;32mNone\u001b[0m \u001b[0;32mand\u001b[0m\u001b[0;34m\u001b[0m\u001b[0;34m\u001b[0m\u001b[0m\n\u001b[1;32m    347\u001b[0m             parse_constant is None and object_pairs_hook is None and not kw):\n\u001b[0;32m--> 348\u001b[0;31m         \u001b[0;32mreturn\u001b[0m \u001b[0m_default_decoder\u001b[0m\u001b[0;34m.\u001b[0m\u001b[0mdecode\u001b[0m\u001b[0;34m(\u001b[0m\u001b[0ms\u001b[0m\u001b[0;34m)\u001b[0m\u001b[0;34m\u001b[0m\u001b[0;34m\u001b[0m\u001b[0m\n\u001b[0m\u001b[1;32m    349\u001b[0m     \u001b[0;32mif\u001b[0m \u001b[0mcls\u001b[0m \u001b[0;32mis\u001b[0m \u001b[0;32mNone\u001b[0m\u001b[0;34m:\u001b[0m\u001b[0;34m\u001b[0m\u001b[0;34m\u001b[0m\u001b[0m\n\u001b[1;32m    350\u001b[0m         \u001b[0mcls\u001b[0m \u001b[0;34m=\u001b[0m \u001b[0mJSONDecoder\u001b[0m\u001b[0;34m\u001b[0m\u001b[0;34m\u001b[0m\u001b[0m\n",
      "\u001b[0;32m~/opt/anaconda3/lib/python3.7/json/decoder.py\u001b[0m in \u001b[0;36mdecode\u001b[0;34m(self, s, _w)\u001b[0m\n\u001b[1;32m    335\u001b[0m \u001b[0;34m\u001b[0m\u001b[0m\n\u001b[1;32m    336\u001b[0m         \"\"\"\n\u001b[0;32m--> 337\u001b[0;31m         \u001b[0mobj\u001b[0m\u001b[0;34m,\u001b[0m \u001b[0mend\u001b[0m \u001b[0;34m=\u001b[0m \u001b[0mself\u001b[0m\u001b[0;34m.\u001b[0m\u001b[0mraw_decode\u001b[0m\u001b[0;34m(\u001b[0m\u001b[0ms\u001b[0m\u001b[0;34m,\u001b[0m \u001b[0midx\u001b[0m\u001b[0;34m=\u001b[0m\u001b[0m_w\u001b[0m\u001b[0;34m(\u001b[0m\u001b[0ms\u001b[0m\u001b[0;34m,\u001b[0m \u001b[0;36m0\u001b[0m\u001b[0;34m)\u001b[0m\u001b[0;34m.\u001b[0m\u001b[0mend\u001b[0m\u001b[0;34m(\u001b[0m\u001b[0;34m)\u001b[0m\u001b[0;34m)\u001b[0m\u001b[0;34m\u001b[0m\u001b[0;34m\u001b[0m\u001b[0m\n\u001b[0m\u001b[1;32m    338\u001b[0m         \u001b[0mend\u001b[0m \u001b[0;34m=\u001b[0m \u001b[0m_w\u001b[0m\u001b[0;34m(\u001b[0m\u001b[0ms\u001b[0m\u001b[0;34m,\u001b[0m \u001b[0mend\u001b[0m\u001b[0;34m)\u001b[0m\u001b[0;34m.\u001b[0m\u001b[0mend\u001b[0m\u001b[0;34m(\u001b[0m\u001b[0;34m)\u001b[0m\u001b[0;34m\u001b[0m\u001b[0;34m\u001b[0m\u001b[0m\n\u001b[1;32m    339\u001b[0m         \u001b[0;32mif\u001b[0m \u001b[0mend\u001b[0m \u001b[0;34m!=\u001b[0m \u001b[0mlen\u001b[0m\u001b[0;34m(\u001b[0m\u001b[0ms\u001b[0m\u001b[0;34m)\u001b[0m\u001b[0;34m:\u001b[0m\u001b[0;34m\u001b[0m\u001b[0;34m\u001b[0m\u001b[0m\n",
      "\u001b[0;32m~/opt/anaconda3/lib/python3.7/json/decoder.py\u001b[0m in \u001b[0;36mraw_decode\u001b[0;34m(self, s, idx)\u001b[0m\n\u001b[1;32m    351\u001b[0m         \"\"\"\n\u001b[1;32m    352\u001b[0m         \u001b[0;32mtry\u001b[0m\u001b[0;34m:\u001b[0m\u001b[0;34m\u001b[0m\u001b[0;34m\u001b[0m\u001b[0m\n\u001b[0;32m--> 353\u001b[0;31m             \u001b[0mobj\u001b[0m\u001b[0;34m,\u001b[0m \u001b[0mend\u001b[0m \u001b[0;34m=\u001b[0m \u001b[0mself\u001b[0m\u001b[0;34m.\u001b[0m\u001b[0mscan_once\u001b[0m\u001b[0;34m(\u001b[0m\u001b[0ms\u001b[0m\u001b[0;34m,\u001b[0m \u001b[0midx\u001b[0m\u001b[0;34m)\u001b[0m\u001b[0;34m\u001b[0m\u001b[0;34m\u001b[0m\u001b[0m\n\u001b[0m\u001b[1;32m    354\u001b[0m         \u001b[0;32mexcept\u001b[0m \u001b[0mStopIteration\u001b[0m \u001b[0;32mas\u001b[0m \u001b[0merr\u001b[0m\u001b[0;34m:\u001b[0m\u001b[0;34m\u001b[0m\u001b[0;34m\u001b[0m\u001b[0m\n\u001b[1;32m    355\u001b[0m             \u001b[0;32mraise\u001b[0m \u001b[0mJSONDecodeError\u001b[0m\u001b[0;34m(\u001b[0m\u001b[0;34m\"Expecting value\"\u001b[0m\u001b[0;34m,\u001b[0m \u001b[0ms\u001b[0m\u001b[0;34m,\u001b[0m \u001b[0merr\u001b[0m\u001b[0;34m.\u001b[0m\u001b[0mvalue\u001b[0m\u001b[0;34m)\u001b[0m \u001b[0;32mfrom\u001b[0m \u001b[0;32mNone\u001b[0m\u001b[0;34m\u001b[0m\u001b[0;34m\u001b[0m\u001b[0m\n",
      "\u001b[0;31mJSONDecodeError\u001b[0m: Invalid \\escape: line 1 column 2459 (char 2458)"
     ]
    }
   ],
   "source": [
    "import json\n",
    "\n",
    "with open('Json_raw.json', 'r') as f:\n",
    "    docid_to_title_new = json.load(f) # Convert the JSON into a dict"
   ]
  },
  {
   "cell_type": "code",
   "execution_count": 10,
   "metadata": {},
   "outputs": [
    {
     "ename": "JSONDecodeError",
     "evalue": "Invalid \\escape: line 1 column 2459 (char 2458)",
     "output_type": "error",
     "traceback": [
      "\u001b[0;31m---------------------------------------------------------------------------\u001b[0m",
      "\u001b[0;31mJSONDecodeError\u001b[0m                           Traceback (most recent call last)",
      "\u001b[0;32m<ipython-input-10-ce015eaf67bd>\u001b[0m in \u001b[0;36m<module>\u001b[0;34m()\u001b[0m\n\u001b[1;32m      2\u001b[0m \u001b[0;34m\u001b[0m\u001b[0m\n\u001b[1;32m      3\u001b[0m \u001b[0;32mwith\u001b[0m \u001b[0mopen\u001b[0m\u001b[0;34m(\u001b[0m\u001b[0;34m'Json_raw.json'\u001b[0m\u001b[0;34m,\u001b[0m \u001b[0;34m'r'\u001b[0m\u001b[0;34m)\u001b[0m \u001b[0;32mas\u001b[0m \u001b[0mf\u001b[0m\u001b[0;34m:\u001b[0m\u001b[0;34m\u001b[0m\u001b[0m\n\u001b[0;32m----> 4\u001b[0;31m     \u001b[0mdocid_to_title_new\u001b[0m \u001b[0;34m=\u001b[0m \u001b[0mjson\u001b[0m\u001b[0;34m.\u001b[0m\u001b[0mload\u001b[0m\u001b[0;34m(\u001b[0m\u001b[0mf\u001b[0m\u001b[0;34m)\u001b[0m \u001b[0;31m# Convert the JSON into a dict\u001b[0m\u001b[0;34m\u001b[0m\u001b[0m\n\u001b[0m\u001b[1;32m      5\u001b[0m \u001b[0;34m\u001b[0m\u001b[0m\n\u001b[1;32m      6\u001b[0m \u001b[0;34m\u001b[0m\u001b[0m\n",
      "\u001b[0;32m/anaconda3/lib/python3.6/json/__init__.py\u001b[0m in \u001b[0;36mload\u001b[0;34m(fp, cls, object_hook, parse_float, parse_int, parse_constant, object_pairs_hook, **kw)\u001b[0m\n\u001b[1;32m    297\u001b[0m         \u001b[0mcls\u001b[0m\u001b[0;34m=\u001b[0m\u001b[0mcls\u001b[0m\u001b[0;34m,\u001b[0m \u001b[0mobject_hook\u001b[0m\u001b[0;34m=\u001b[0m\u001b[0mobject_hook\u001b[0m\u001b[0;34m,\u001b[0m\u001b[0;34m\u001b[0m\u001b[0m\n\u001b[1;32m    298\u001b[0m         \u001b[0mparse_float\u001b[0m\u001b[0;34m=\u001b[0m\u001b[0mparse_float\u001b[0m\u001b[0;34m,\u001b[0m \u001b[0mparse_int\u001b[0m\u001b[0;34m=\u001b[0m\u001b[0mparse_int\u001b[0m\u001b[0;34m,\u001b[0m\u001b[0;34m\u001b[0m\u001b[0m\n\u001b[0;32m--> 299\u001b[0;31m         parse_constant=parse_constant, object_pairs_hook=object_pairs_hook, **kw)\n\u001b[0m\u001b[1;32m    300\u001b[0m \u001b[0;34m\u001b[0m\u001b[0m\n\u001b[1;32m    301\u001b[0m \u001b[0;34m\u001b[0m\u001b[0m\n",
      "\u001b[0;32m/anaconda3/lib/python3.6/json/__init__.py\u001b[0m in \u001b[0;36mloads\u001b[0;34m(s, encoding, cls, object_hook, parse_float, parse_int, parse_constant, object_pairs_hook, **kw)\u001b[0m\n\u001b[1;32m    352\u001b[0m             \u001b[0mparse_int\u001b[0m \u001b[0;32mis\u001b[0m \u001b[0;32mNone\u001b[0m \u001b[0;32mand\u001b[0m \u001b[0mparse_float\u001b[0m \u001b[0;32mis\u001b[0m \u001b[0;32mNone\u001b[0m \u001b[0;32mand\u001b[0m\u001b[0;34m\u001b[0m\u001b[0m\n\u001b[1;32m    353\u001b[0m             parse_constant is None and object_pairs_hook is None and not kw):\n\u001b[0;32m--> 354\u001b[0;31m         \u001b[0;32mreturn\u001b[0m \u001b[0m_default_decoder\u001b[0m\u001b[0;34m.\u001b[0m\u001b[0mdecode\u001b[0m\u001b[0;34m(\u001b[0m\u001b[0ms\u001b[0m\u001b[0;34m)\u001b[0m\u001b[0;34m\u001b[0m\u001b[0m\n\u001b[0m\u001b[1;32m    355\u001b[0m     \u001b[0;32mif\u001b[0m \u001b[0mcls\u001b[0m \u001b[0;32mis\u001b[0m \u001b[0;32mNone\u001b[0m\u001b[0;34m:\u001b[0m\u001b[0;34m\u001b[0m\u001b[0m\n\u001b[1;32m    356\u001b[0m         \u001b[0mcls\u001b[0m \u001b[0;34m=\u001b[0m \u001b[0mJSONDecoder\u001b[0m\u001b[0;34m\u001b[0m\u001b[0m\n",
      "\u001b[0;32m/anaconda3/lib/python3.6/json/decoder.py\u001b[0m in \u001b[0;36mdecode\u001b[0;34m(self, s, _w)\u001b[0m\n\u001b[1;32m    337\u001b[0m \u001b[0;34m\u001b[0m\u001b[0m\n\u001b[1;32m    338\u001b[0m         \"\"\"\n\u001b[0;32m--> 339\u001b[0;31m         \u001b[0mobj\u001b[0m\u001b[0;34m,\u001b[0m \u001b[0mend\u001b[0m \u001b[0;34m=\u001b[0m \u001b[0mself\u001b[0m\u001b[0;34m.\u001b[0m\u001b[0mraw_decode\u001b[0m\u001b[0;34m(\u001b[0m\u001b[0ms\u001b[0m\u001b[0;34m,\u001b[0m \u001b[0midx\u001b[0m\u001b[0;34m=\u001b[0m\u001b[0m_w\u001b[0m\u001b[0;34m(\u001b[0m\u001b[0ms\u001b[0m\u001b[0;34m,\u001b[0m \u001b[0;36m0\u001b[0m\u001b[0;34m)\u001b[0m\u001b[0;34m.\u001b[0m\u001b[0mend\u001b[0m\u001b[0;34m(\u001b[0m\u001b[0;34m)\u001b[0m\u001b[0;34m)\u001b[0m\u001b[0;34m\u001b[0m\u001b[0m\n\u001b[0m\u001b[1;32m    340\u001b[0m         \u001b[0mend\u001b[0m \u001b[0;34m=\u001b[0m \u001b[0m_w\u001b[0m\u001b[0;34m(\u001b[0m\u001b[0ms\u001b[0m\u001b[0;34m,\u001b[0m \u001b[0mend\u001b[0m\u001b[0;34m)\u001b[0m\u001b[0;34m.\u001b[0m\u001b[0mend\u001b[0m\u001b[0;34m(\u001b[0m\u001b[0;34m)\u001b[0m\u001b[0;34m\u001b[0m\u001b[0m\n\u001b[1;32m    341\u001b[0m         \u001b[0;32mif\u001b[0m \u001b[0mend\u001b[0m \u001b[0;34m!=\u001b[0m \u001b[0mlen\u001b[0m\u001b[0;34m(\u001b[0m\u001b[0ms\u001b[0m\u001b[0;34m)\u001b[0m\u001b[0;34m:\u001b[0m\u001b[0;34m\u001b[0m\u001b[0m\n",
      "\u001b[0;32m/anaconda3/lib/python3.6/json/decoder.py\u001b[0m in \u001b[0;36mraw_decode\u001b[0;34m(self, s, idx)\u001b[0m\n\u001b[1;32m    353\u001b[0m         \"\"\"\n\u001b[1;32m    354\u001b[0m         \u001b[0;32mtry\u001b[0m\u001b[0;34m:\u001b[0m\u001b[0;34m\u001b[0m\u001b[0m\n\u001b[0;32m--> 355\u001b[0;31m             \u001b[0mobj\u001b[0m\u001b[0;34m,\u001b[0m \u001b[0mend\u001b[0m \u001b[0;34m=\u001b[0m \u001b[0mself\u001b[0m\u001b[0;34m.\u001b[0m\u001b[0mscan_once\u001b[0m\u001b[0;34m(\u001b[0m\u001b[0ms\u001b[0m\u001b[0;34m,\u001b[0m \u001b[0midx\u001b[0m\u001b[0;34m)\u001b[0m\u001b[0;34m\u001b[0m\u001b[0m\n\u001b[0m\u001b[1;32m    356\u001b[0m         \u001b[0;32mexcept\u001b[0m \u001b[0mStopIteration\u001b[0m \u001b[0;32mas\u001b[0m \u001b[0merr\u001b[0m\u001b[0;34m:\u001b[0m\u001b[0;34m\u001b[0m\u001b[0m\n\u001b[1;32m    357\u001b[0m             \u001b[0;32mraise\u001b[0m \u001b[0mJSONDecodeError\u001b[0m\u001b[0;34m(\u001b[0m\u001b[0;34m\"Expecting value\"\u001b[0m\u001b[0;34m,\u001b[0m \u001b[0ms\u001b[0m\u001b[0;34m,\u001b[0m \u001b[0merr\u001b[0m\u001b[0;34m.\u001b[0m\u001b[0mvalue\u001b[0m\u001b[0;34m)\u001b[0m \u001b[0;32mfrom\u001b[0m \u001b[0;32mNone\u001b[0m\u001b[0;34m\u001b[0m\u001b[0m\n",
      "\u001b[0;31mJSONDecodeError\u001b[0m: Invalid \\escape: line 1 column 2459 (char 2458)"
     ]
    }
   ],
   "source": [
    "import json\n",
    "\n",
    "with open('Json_raw.json', 'r') as f:\n",
    "    docid_to_title_new = json.load(f) # Convert the JSON into a dict\n",
    "\n",
    "\n",
    "myStr = ''\n",
    "myList = []\n",
    "mySet = {}\n",
    "\n",
    "for i in docid_to_title_new.keys():\n",
    "    ml = docid_to_title_new[i].get('content') # Some of them could be potentially empty; so check those...\n",
    "    if ml:\n",
    "        myStr = ml['title']\n",
    "        print(myStr)\n",
    "        myList += myStr.split(\" \")\n",
    "        \n",
    "print('********* Initial Words in List ********')\n",
    "print(myList)\n",
    "\n",
    "print('********* Unique Words in List ********')\n",
    "mySet = set(myList)\n",
    "print(mySet)\n",
    "\n",
    "print('*********')\n",
    "print('# in the initial list:', len(myList))\n",
    "print('# in thre unique list:', len(mySet))\n",
    "print('*********')\n"
   ]
  },
  {
   "cell_type": "code",
   "execution_count": null,
   "metadata": {},
   "outputs": [],
   "source": []
  },
  {
   "cell_type": "code",
   "execution_count": null,
   "metadata": {},
   "outputs": [],
   "source": []
  }
 ],
 "metadata": {
  "kernelspec": {
   "display_name": "Python 3",
   "language": "python",
   "name": "python3"
  },
  "language_info": {
   "codemirror_mode": {
    "name": "ipython",
    "version": 3
   },
   "file_extension": ".py",
   "mimetype": "text/x-python",
   "name": "python",
   "nbconvert_exporter": "python",
   "pygments_lexer": "ipython3",
   "version": "3.7.4"
  }
 },
 "nbformat": 4,
 "nbformat_minor": 2
}
