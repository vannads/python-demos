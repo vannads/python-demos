{
 "cells": [
  {
   "cell_type": "markdown",
   "metadata": {},
   "source": [
    "- In Python exceptions can be handled using a 'try:' statement.\n",
    "- The critical operation which can raise an exception is placed inside the 'try' clause.\n",
    "- The code that handles the exception is written in the 'except' clause.\n"
   ]
  },
  {
   "cell_type": "markdown",
   "metadata": {},
   "source": [
    "### Ex 1: A sample exception handling"
   ]
  },
  {
   "cell_type": "code",
   "execution_count": 1,
   "metadata": {},
   "outputs": [
    {
     "name": "stdout",
     "output_type": "stream",
     "text": [
      "The entry is 'a'\n",
      "Oops! <class 'ValueError'> occured\n",
      "Next entry...\n",
      "\n",
      "The entry is '0'\n",
      "Oops! <class 'ZeroDivisionError'> occured\n",
      "Next entry...\n",
      "\n",
      "The entry is '-5'\n",
      "The reciprocal of -5 is -0.2\n"
     ]
    }
   ],
   "source": [
    "import sys\n",
    "\n",
    "randomList = ['a', 0, -5]\n",
    "\n",
    "for entry in randomList:\n",
    "    try:\n",
    "        print(\"The entry is '{}'\".format(entry))\n",
    "        r = 1/int(entry)\n",
    "        break\n",
    "    except:\n",
    "        print(\"Oops! {} occured\".format(sys.exc_info()[0]))\n",
    "        print(\"Next entry...\")\n",
    "        print()\n",
    "\n",
    "print(\"The reciprocal of {} is {}\".format(entry, r))\n",
    "    "
   ]
  },
  {
   "cell_type": "code",
   "execution_count": 2,
   "metadata": {},
   "outputs": [
    {
     "name": "stdout",
     "output_type": "stream",
     "text": [
      "The entry is 'a'\n",
      "Oops! <class 'ValueError'> occured\n",
      "Next entry...\n",
      "\n",
      "The entry is '0'\n",
      "Oops! <class 'ZeroDivisionError'> occured\n",
      "Next entry...\n",
      "\n",
      "The entry is '-5'\n",
      "The reciprocal of -5 is -0.2\n"
     ]
    }
   ],
   "source": [
    "# Alternately...\n",
    "\n",
    "import sys\n",
    "\n",
    "randomList = ['a', 0, -5]\n",
    "\n",
    "for entry in randomList:\n",
    "    try:\n",
    "        print(\"The entry is '{}'\".format(entry))\n",
    "        r = 1/int(entry)\n",
    "        break\n",
    "    except Exception as e:\n",
    "        print(\"Oops! {} occured\".format(e.__class__)) # Note\n",
    "        print(\"Next entry...\")\n",
    "        print()\n",
    "\n",
    "print(\"The reciprocal of {} is {}\".format(entry, r))"
   ]
  },
  {
   "cell_type": "markdown",
   "metadata": {},
   "source": [
    "### Ex 2:"
   ]
  },
  {
   "cell_type": "code",
   "execution_count": 3,
   "metadata": {},
   "outputs": [
    {
     "name": "stdout",
     "output_type": "stream",
     "text": [
      "Enter something: text\n",
      "You entered text\n"
     ]
    }
   ],
   "source": [
    "\"\"\" \"\"\"\n",
    "try:\n",
    "    text = input(\"Enter something: \")\n",
    "except EOFError:\n",
    "    print(\"Why did you do an EOF on me?\")\n",
    "except keyboardInterrupt:\n",
    "    print(\"You cancelled the operation.\")\n",
    "else:\n",
    "    print(\"You entered {}\".format(text))\n",
    "    \n",
    "    "
   ]
  },
  {
   "cell_type": "markdown",
   "metadata": {},
   "source": [
    "### Ex 3: User-defined exceptions and raising exceptions"
   ]
  },
  {
   "cell_type": "code",
   "execution_count": 4,
   "metadata": {},
   "outputs": [],
   "source": [
    "# Part-1\n",
    "class ShortInputException(Exception):\n",
    "    ''' \n",
    "    A user-defined exception class\n",
    "    This must be the derived class of the \"Exception\" class.\n",
    "    '''\n",
    "    def __init__(self, length, atleast):\n",
    "        self.length = length\n",
    "        self.atleast = atleast"
   ]
  },
  {
   "cell_type": "code",
   "execution_count": 5,
   "metadata": {},
   "outputs": [
    {
     "name": "stdout",
     "output_type": "stream",
     "text": [
      "Enter something: 123\n",
      "No exception was raised!\n"
     ]
    }
   ],
   "source": [
    "# Part-2\n",
    "try: \n",
    "    text = input(\"Enter something: \")\n",
    "    if len(text) <3:\n",
    "        raise ShortInputException(len(text), 3)\n",
    "    #\n",
    "    # other code functionalities can continue as usual...\n",
    "    #\n",
    "        \n",
    "except EOFError:\n",
    "    print(\"Why did you an EOF on me?\")\n",
    "    \n",
    "except ShortInputException as ex:\n",
    "    print('ShortInputException: The input was {}, expected atleast {}'.format(ex.length, ex.atleast))\n",
    "else:\n",
    "    print(\"No exception was raised!\")\n",
    "        "
   ]
  },
  {
   "cell_type": "code",
   "execution_count": 6,
   "metadata": {},
   "outputs": [
    {
     "name": "stdout",
     "output_type": "stream",
     "text": [
      "Enter something: maths\n",
      "No exception was raised!\n"
     ]
    }
   ],
   "source": [
    "try: \n",
    "    text = input(\"Enter something: \")\n",
    "    if len(text) <3:\n",
    "        raise ShortInputException(len(text), 3)\n",
    "    #\n",
    "    # other code functionalities can continue as usual...\n",
    "    #\n",
    "        \n",
    "except EOFError:\n",
    "    print(\"Why did you an EOF on me?\")\n",
    "    \n",
    "except ShortInputException as ex:\n",
    "    print('ShortInputException: The input was {}, expected atleast {}'.format(ex.length, ex.atleast))\n",
    "else:\n",
    "    print(\"No exception was raised!\")"
   ]
  },
  {
   "cell_type": "markdown",
   "metadata": {},
   "source": [
    "### Ex 4 :"
   ]
  },
  {
   "cell_type": "code",
   "execution_count": 7,
   "metadata": {},
   "outputs": [
    {
     "name": "stdout",
     "output_type": "stream",
     "text": [
      "What is your guess ? : 13\n",
      "Your guess is too large. Try again\n",
      "\n",
      "What is your guess ? : 12\n",
      "Congrats! You guessed it right!\n"
     ]
    }
   ],
   "source": [
    "# Guess a number game\n",
    "\n",
    "#define user-defined exceptions\n",
    "\n",
    "class Error(Exception):\n",
    "    ''' Base class for other user_defined exceptions'''\n",
    "    pass\n",
    "\n",
    "class ValueTooSmallError(Error):\n",
    "    ''' Raised when the imput valur is too small'''\n",
    "    pass\n",
    "\n",
    "class ValueTooLargeError(Error):\n",
    "    ''' Raised when the imput valur is too large'''\n",
    "    pass\n",
    "\n",
    "# You need to guess this number\n",
    "\n",
    "number = 12\n",
    "\n",
    "while True:\n",
    "    try:\n",
    "        guess = int(input(\"What is your guess ? : \"))\n",
    "        if guess < number:\n",
    "            raise ValueTooSmallError\n",
    "        elif guess > number:\n",
    "            raise ValueTooLargeError \n",
    "\n",
    "        break\n",
    "        \n",
    "    except ValueTooSmallError:\n",
    "        print(\"Your guess is too small. Try again\")\n",
    "        print()\n",
    "        \n",
    "    except ValueTooLargeError:\n",
    "        print(\"Your guess is too large. Try again\")\n",
    "        print()\n",
    "        \n",
    "print(\"Congrats! You guessed it right!\")"
   ]
  },
  {
   "cell_type": "code",
   "execution_count": null,
   "metadata": {},
   "outputs": [],
   "source": []
  }
 ],
 "metadata": {
  "kernelspec": {
   "display_name": "Python 3",
   "language": "python",
   "name": "python3"
  },
  "language_info": {
   "codemirror_mode": {
    "name": "ipython",
    "version": 3
   },
   "file_extension": ".py",
   "mimetype": "text/x-python",
   "name": "python",
   "nbconvert_exporter": "python",
   "pygments_lexer": "ipython3",
   "version": "3.7.4"
  }
 },
 "nbformat": 4,
 "nbformat_minor": 2
}
