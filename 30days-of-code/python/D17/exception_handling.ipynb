{
 "cells": [
  {
   "cell_type": "markdown",
   "metadata": {},
   "source": [
    "### Ex 1: A sample exception handling"
   ]
  },
  {
   "cell_type": "code",
   "execution_count": 2,
   "metadata": {},
   "outputs": [
    {
     "name": "stdout",
     "output_type": "stream",
     "text": [
      "Enter something: Hello!\n",
      "You entered Hello!\n"
     ]
    }
   ],
   "source": [
    "\"\"\" \"\"\"\n",
    "try:\n",
    "    text = input(\"Enter something: \")\n",
    "except EOFError:\n",
    "    print(\"Why did you do an EOF on me?\")\n",
    "except keyboardInterrupt:\n",
    "    print(\"You cancelled the operation.\")\n",
    "else:\n",
    "    print(\"You entered {}\".format(text))\n",
    "    \n",
    "    "
   ]
  },
  {
   "cell_type": "markdown",
   "metadata": {},
   "source": [
    "### Ex 2: User-defined exceptions and raising exceptions"
   ]
  },
  {
   "cell_type": "code",
   "execution_count": 4,
   "metadata": {},
   "outputs": [],
   "source": [
    "class ShortInputException(Exception):\n",
    "    ''' \n",
    "    A user-defined exception class\n",
    "    '''\n",
    "    def __init__(self, length, atleast):\n",
    "        self.length = length\n",
    "        self.atleast = atleast"
   ]
  },
  {
   "cell_type": "code",
   "execution_count": 5,
   "metadata": {},
   "outputs": [
    {
     "name": "stdout",
     "output_type": "stream",
     "text": [
      "Enter something: Hi\n",
      "ShortInputException: The input was 2, expected atleast 3\n"
     ]
    }
   ],
   "source": [
    "try: \n",
    "    text = input(\"Enter something: \")\n",
    "    if len(text) <3:\n",
    "        raise ShortInputException(len(text), 3)\n",
    "    #\n",
    "    # other code functionalities can continue as usual\n",
    "    #\n",
    "        \n",
    "except EOFError:\n",
    "    print(\"Why did you an EOF on me?\")\n",
    "    \n",
    "except ShortInputException as ex:\n",
    "    print('ShortInputException: The input was {}, expected atleast {}'.format(ex.length, ex.atleast))\n",
    "else:\n",
    "    print(\"No exception was raised!\")\n",
    "        "
   ]
  },
  {
   "cell_type": "code",
   "execution_count": 6,
   "metadata": {},
   "outputs": [
    {
     "name": "stdout",
     "output_type": "stream",
     "text": [
      "Enter something: Hello!\n",
      "No exception was raised!\n"
     ]
    }
   ],
   "source": [
    "try: \n",
    "    text = input(\"Enter something: \")\n",
    "    if len(text) <3:\n",
    "        raise ShortInputException(len(text), 3)\n",
    "    #\n",
    "    # other code functionalities can continue as usual\n",
    "    #\n",
    "        \n",
    "except EOFError:\n",
    "    print(\"Why did you an EOF on me?\")\n",
    "    \n",
    "except ShortInputException as ex:\n",
    "    print('ShortInputException: The input was {}, expected atleast {}'.format(ex.length, ex.atleast))\n",
    "else:\n",
    "    print(\"No exception was raised!\")"
   ]
  },
  {
   "cell_type": "code",
   "execution_count": null,
   "metadata": {},
   "outputs": [],
   "source": []
  }
 ],
 "metadata": {
  "kernelspec": {
   "display_name": "Python 3",
   "language": "python",
   "name": "python3"
  },
  "language_info": {
   "codemirror_mode": {
    "name": "ipython",
    "version": 3
   },
   "file_extension": ".py",
   "mimetype": "text/x-python",
   "name": "python",
   "nbconvert_exporter": "python",
   "pygments_lexer": "ipython3",
   "version": "3.7.4"
  }
 },
 "nbformat": 4,
 "nbformat_minor": 2
}
