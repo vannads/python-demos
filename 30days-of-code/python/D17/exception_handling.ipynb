{
 "cells": [
  {
   "cell_type": "code",
   "execution_count": null,
   "metadata": {},
   "outputs": [],
   "source": []
  },
  {
   "cell_type": "markdown",
   "metadata": {},
   "source": [
    "- In Python exceptions can be handled using a 'try:' and 'except:' clauses.\n",
    "- The critical operation which can raise an exception is placed inside the 'try' clause.\n",
    "- The code that handles the exception is written in the 'except' clause.\n"
   ]
  },
  {
   "cell_type": "markdown",
   "metadata": {},
   "source": [
    "### Ex 1: A sample exception handling"
   ]
  },
  {
   "cell_type": "code",
   "execution_count": null,
   "metadata": {},
   "outputs": [],
   "source": [
    "import sys\n",
    "\n",
    "randomList = ['a', 0, -5]\n",
    "\n",
    "for entry in randomList: \n",
    "    try:\n",
    "        print(\"The entry is '{}'\".format(entry))\n",
    "        r = 1/int(entry)\n",
    "        break\n",
    "    except:\n",
    "        print(\"Oops! {} occured\".format(sys.exc_info()[0]))\n",
    "        print(\"Next entry...\")\n",
    "        print()\n",
    "\n",
    "print(\"The reciprocal of {} is {}\".format(entry, r))\n",
    "    "
   ]
  },
  {
   "cell_type": "code",
   "execution_count": null,
   "metadata": {},
   "outputs": [],
   "source": [
    "# Without exception handling...\n",
    "# \n",
    "\n",
    "import sys\n",
    "\n",
    "randomList = ['a', 0, -5]\n",
    "\n",
    "for entry in randomList:\n",
    "    #try:\n",
    "        print(\"The entry is '{}'\".format(entry))\n",
    "        r = 1/int(entry)\n",
    "        break\n",
    "    #except:\n",
    "        print(\"Oops! {} occured\".format(sys.exc_info()[0]))\n",
    "        print(\"Next entry...\")\n",
    "        print()\n",
    "\n",
    "print(\"The reciprocal of {} is {}\".format(entry, r))"
   ]
  },
  {
   "cell_type": "markdown",
   "metadata": {},
   "source": [
    "#### sys.exc_info()"
   ]
  },
  {
   "cell_type": "raw",
   "metadata": {},
   "source": [
    "This function returns a tuple of three values that give information about the exception that is currently being handled. The information returned is specific both to the current thread and to the current stack frame. If the current stack frame is not handling an exception, the information is taken from the calling stack frame, or its caller, and so on until a stack frame is found that is handling an exception. Here, “handling an exception” is defined as “executing an except clause.” For any stack frame, only information about the exception being currently handled is accessible.\n",
    "\n",
    "If no exception is being handled anywhere on the stack, a tuple containing three \"None\" values is returned. Otherwise, the values returned are (type, value, traceback). Their meaning is: \n",
    "\"type\" gets the type of the exception being handled (a subclass of BaseException); \n",
    "\"value\" gets the exception instance (an instance of the exception type); \n",
    "\"traceback\" gets a traceback object which encapsulates the call stack at the point where the exception originally occurred."
   ]
  },
  {
   "cell_type": "code",
   "execution_count": null,
   "metadata": {},
   "outputs": [],
   "source": []
  },
  {
   "cell_type": "code",
   "execution_count": null,
   "metadata": {},
   "outputs": [],
   "source": [
    "# Alternately...\n",
    "\n",
    "import sys\n",
    "\n",
    "randomList = ['a', 0, -5]\n",
    "\n",
    "for entry in randomList:\n",
    "    try:\n",
    "        print(\"The entry is '{}'\".format(entry))\n",
    "        r = 1/int(entry)\n",
    "        break\n",
    "    except Exception as e:\n",
    "        print(\"Oops! {} occured\".format(e.__class__)) # Note\n",
    "        print(\"Next entry...\")\n",
    "        print()\n",
    "\n",
    "print(\"The reciprocal of {} is {}\".format(entry, r))"
   ]
  },
  {
   "cell_type": "markdown",
   "metadata": {},
   "source": [
    "### Ex 2:"
   ]
  },
  {
   "cell_type": "code",
   "execution_count": null,
   "metadata": {},
   "outputs": [],
   "source": [
    "\"\"\" \"\"\"\n",
    "try:\n",
    "    text = input(\"Enter something: \")\n",
    "except EOFError:\n",
    "    print(\"Why did you do an EOF on me?\")\n",
    "except keyboardInterrupt:\n",
    "    print(\"You cancelled the operation.\")\n",
    "else:\n",
    "    print(\"You entered {}\".format(text))\n",
    "    \n",
    "    "
   ]
  },
  {
   "cell_type": "markdown",
   "metadata": {},
   "source": [
    "### Ex 3: \n",
    "#### User-defined exceptions & Raising Exceptions"
   ]
  },
  {
   "cell_type": "code",
   "execution_count": null,
   "metadata": {},
   "outputs": [],
   "source": [
    "# Part-1\n",
    "class ShortInputException(Exception):\n",
    "    ''' \n",
    "    A user-defined exception class\n",
    "    This must be the derived class of the \"Exception\" class.\n",
    "    \n",
    "    '''\n",
    "    def __init__(self, length, atleast):\n",
    "        self.length = length\n",
    "        self.atleast = atleast"
   ]
  },
  {
   "cell_type": "code",
   "execution_count": null,
   "metadata": {},
   "outputs": [],
   "source": [
    "# Part-2\n",
    "try: \n",
    "    text = input(\"Enter something: \")\n",
    "    if len(text) <3:\n",
    "        raise ShortInputException(len(text), 3)\n",
    "    #\n",
    "    # other code functionalities can continue as usual...\n",
    "    #\n",
    "        \n",
    "except EOFError:\n",
    "    print(\"Why did you an EOF on me?\")\n",
    "    \n",
    "except ShortInputException as ex:\n",
    "    print('ShortInputException: The input was {}, expected atleast {}'.format(ex.length, ex.atleast))\n",
    "else:\n",
    "    print(\"No exception was raised!\")\n",
    "        "
   ]
  },
  {
   "cell_type": "code",
   "execution_count": null,
   "metadata": {},
   "outputs": [],
   "source": [
    "try: \n",
    "    text = input(\"Enter something: \")\n",
    "    if len(text) <3:\n",
    "        raise ShortInputException(len(text), 3)\n",
    "    #\n",
    "    # other code functionalities can continue as usual...\n",
    "    #\n",
    "        \n",
    "except EOFError:\n",
    "    print(\"Why did you an EOF on me?\")\n",
    "    \n",
    "except ShortInputException as ex:\n",
    "    print('ShortInputException: The input was {}, expected atleast {}'.format(ex.length, ex.atleast))\n",
    "else:\n",
    "    print(\"No exception was raised!\")"
   ]
  },
  {
   "cell_type": "markdown",
   "metadata": {},
   "source": [
    "### Ex 4 :\n",
    "#### User-defined exceptions & Raising Exceptions"
   ]
  },
  {
   "cell_type": "code",
   "execution_count": null,
   "metadata": {},
   "outputs": [],
   "source": [
    "# Guess a number game\n",
    "\n",
    "#define user-defined exceptions\n",
    "\n",
    "class Error(Exception):\n",
    "    ''' Base class for other user_defined exceptions'''\n",
    "    pass\n",
    "\n",
    "class ValueTooSmallError(Error):\n",
    "    ''' Raised when the input value is too small'''\n",
    "    pass\n",
    "\n",
    "class ValueTooLargeError(Error):\n",
    "    ''' Raised when the input value is too large'''\n",
    "    pass\n",
    "\n",
    "# You need to guess this number\n",
    "\n",
    "number = 12\n",
    "\n",
    "while True:\n",
    "    try:\n",
    "        guess = int(input(\"What is your guess ? : \"))\n",
    "        if guess < number:\n",
    "            raise ValueTooSmallError\n",
    "        elif guess > number:\n",
    "            raise ValueTooLargeError \n",
    "\n",
    "        break\n",
    "        \n",
    "    except ValueTooSmallError:\n",
    "        print(\"Your guess is too small. Try again\")\n",
    "        print()\n",
    "        \n",
    "    except ValueTooLargeError:\n",
    "        print(\"Your guess is too large. Try again\")\n",
    "        print()\n",
    "        \n",
    "print(\"Congrats! You guessed it right!\")"
   ]
  },
  {
   "cell_type": "code",
   "execution_count": null,
   "metadata": {},
   "outputs": [],
   "source": []
  }
 ],
 "metadata": {
  "kernelspec": {
   "display_name": "Python 3",
   "language": "python",
   "name": "python3"
  },
  "language_info": {
   "codemirror_mode": {
    "name": "ipython",
    "version": 3
   },
   "file_extension": ".py",
   "mimetype": "text/x-python",
   "name": "python",
   "nbconvert_exporter": "python",
   "pygments_lexer": "ipython3",
   "version": "3.7.4"
  }
 },
 "nbformat": 4,
 "nbformat_minor": 2
}
