{
 "cells": [
  {
   "cell_type": "markdown",
   "metadata": {},
   "source": [
    "# Chapter 3 - Linear Regression"
   ]
  },
  {
   "cell_type": "markdown",
   "metadata": {},
   "source": [
    "- [Load Datasets](#Load-Datasets)\n",
    "- [3.1 Simple Linear Regression](#3.1-Simple-Linear-Regression)\n",
    "- [3.2 Multiple Linear Regression](#3.2-Multiple-Linear-Regression)\n",
    "- [3.3 Other Considerations in the Regression Model](#3.3-Other-Considerations-in-the-Regression-Model)"
   ]
  },
  {
   "cell_type": "code",
   "execution_count": 1,
   "metadata": {},
   "outputs": [],
   "source": [
    "# %load ../standard_import.txt\n",
    "import pandas as pd\n",
    "import numpy as np\n",
    "\n",
    "import matplotlib.pyplot as plt\n",
    "from mpl_toolkits.mplot3d import axes3d\n",
    "import seaborn as sns\n",
    "%matplotlib inline\n",
    "plt.style.use('seaborn-white')\n",
    "\n",
    "from sklearn.preprocessing import scale\n",
    "import sklearn.linear_model as skl_lm\n",
    "from sklearn.metrics import mean_squared_error, r2_score\n",
    "\n",
    "import statsmodels.api as sm\n",
    "import statsmodels.formula.api as smf\n",
    "\n",
    "pd.set_option('display.notebook_repr_html', False)"
   ]
  },
  {
   "cell_type": "code",
   "execution_count": 2,
   "metadata": {},
   "outputs": [
    {
     "name": "stdout",
     "output_type": "stream",
     "text": [
      "/Users/sathisanvannadil/projects/python-lectures-CIT/ISLP/Notebooks\r\n"
     ]
    }
   ],
   "source": [
    "!pwd"
   ]
  },
  {
   "cell_type": "markdown",
   "metadata": {},
   "source": [
    "### Load Datasets\n",
    "Datasets available on http://www-bcf.usc.edu/~gareth/ISL/data.html"
   ]
  },
  {
   "cell_type": "code",
   "execution_count": 3,
   "metadata": {},
   "outputs": [
    {
     "name": "stdout",
     "output_type": "stream",
     "text": [
      "<class 'pandas.core.frame.DataFrame'>\n",
      "RangeIndex: 200 entries, 0 to 199\n",
      "Data columns (total 4 columns):\n",
      "TV           200 non-null float64\n",
      "Radio        200 non-null float64\n",
      "Newspaper    200 non-null float64\n",
      "Sales        200 non-null float64\n",
      "dtypes: float64(4)\n",
      "memory usage: 6.4 KB\n"
     ]
    }
   ],
   "source": [
    "advertising = pd.read_csv('../Data/Advertising.csv', usecols=[1,2,3,4])\n",
    "advertising.info()"
   ]
  },
  {
   "cell_type": "code",
   "execution_count": 4,
   "metadata": {},
   "outputs": [
    {
     "data": {
      "text/plain": [
       "    Income  Limit  Rating  Cards  Age  Education  Gender Student Married  \\\n",
       "0   14.891   3606     283      2   34         11    Male      No     Yes   \n",
       "1  106.025   6645     483      3   82         15  Female     Yes     Yes   \n",
       "2  104.593   7075     514      4   71         11    Male      No      No   \n",
       "\n",
       "   Ethnicity  Balance  Student2  \n",
       "0  Caucasian      333         0  \n",
       "1      Asian      903         1  \n",
       "2      Asian      580         0  "
      ]
     },
     "execution_count": 4,
     "metadata": {},
     "output_type": "execute_result"
    }
   ],
   "source": [
    "credit = pd.read_csv('../Data/Credit.csv', usecols=list(range(1,12)))\n",
    "credit['Student2'] = credit.Student.map({'No':0, 'Yes':1})\n",
    "credit.head(3)"
   ]
  },
  {
   "cell_type": "code",
   "execution_count": 5,
   "metadata": {},
   "outputs": [
    {
     "name": "stdout",
     "output_type": "stream",
     "text": [
      "<class 'pandas.core.frame.DataFrame'>\n",
      "Int64Index: 392 entries, 0 to 396\n",
      "Data columns (total 9 columns):\n",
      "mpg             392 non-null float64\n",
      "cylinders       392 non-null int64\n",
      "displacement    392 non-null float64\n",
      "horsepower      392 non-null float64\n",
      "weight          392 non-null int64\n",
      "acceleration    392 non-null float64\n",
      "year            392 non-null int64\n",
      "origin          392 non-null int64\n",
      "name            392 non-null object\n",
      "dtypes: float64(4), int64(4), object(1)\n",
      "memory usage: 30.6+ KB\n"
     ]
    }
   ],
   "source": [
    "auto = pd.read_csv('../Data/Auto.csv', na_values='?').dropna()\n",
    "auto.info()"
   ]
  },
  {
   "cell_type": "markdown",
   "metadata": {},
   "source": [
    "## 3.1 Simple Linear Regression"
   ]
  },
  {
   "cell_type": "markdown",
   "metadata": {},
   "source": [
    "### Figure 3.1 - Least squares fit"
   ]
  },
  {
   "cell_type": "code",
   "execution_count": 6,
   "metadata": {
    "scrolled": true
   },
   "outputs": [
    {
     "data": {
      "image/png": "[encoded data removed]",
      "text/plain": [
       "<Figure size 432x288 with 1 Axes>"
      ]
     },
     "metadata": {
      "needs_background": "light"
     },
     "output_type": "display_data"
    }
   ],
   "source": [
    "sns.regplot(advertising.TV, advertising.Sales, order=1, ci=None, scatter_kws={'color':'r'})\n",
    "plt.xlim(-10,310)\n",
    "plt.ylim(ymin=0);"
   ]
  },
  {
   "cell_type": "markdown",
   "metadata": {},
   "source": [
    "### Figure 3.2 - Regression coefficients - RSS\n",
    "Note that the text in the book describes the coefficients based on uncentered data, whereas the plot shows the model based on centered data. The latter is visually more appealing for explaining the concept of a minimum RSS. I think that, in order not to confuse the reader, the values on the axis of the B0 coefficients have been changed to correspond with the text. The axes on the plots below are unaltered."
   ]
  },
  {
   "cell_type": "code",
   "execution_count": 7,
   "metadata": {},
   "outputs": [
    {
     "name": "stdout",
     "output_type": "stream",
     "text": [
      "14.0225\n",
      "[0.04753664]\n"
     ]
    }
   ],
   "source": [
    "# Regression coefficients (Ordinary Least Squares)\n",
    "regr = skl_lm.LinearRegression()\n",
    "\n",
    "X = scale(advertising.TV, with_mean=True, with_std=False).reshape(-1,1)\n",
    "y = advertising.Sales\n",
    "\n",
    "regr.fit(X,y)\n",
    "print(regr.intercept_)\n",
    "print(regr.coef_)"
   ]
  },
  {
   "cell_type": "code",
   "execution_count": 8,
   "metadata": {},
   "outputs": [
    {
     "ename": "AttributeError",
     "evalue": "'Series' object has no attribute 'reshape'",
     "output_type": "error",
     "traceback": [
      "\u001b[0;31m---------------------------------------------------------------------------\u001b[0m",
      "\u001b[0;31mAttributeError\u001b[0m                            Traceback (most recent call last)",
      "\u001b[0;32m<ipython-input-8-fde54fa56b1c>\u001b[0m in \u001b[0;36m<module>\u001b[0;34m\u001b[0m\n\u001b[1;32m     11\u001b[0m \u001b[0;31m# Minimized RSS\u001b[0m\u001b[0;34m\u001b[0m\u001b[0;34m\u001b[0m\u001b[0;34m\u001b[0m\u001b[0m\n\u001b[1;32m     12\u001b[0m \u001b[0mmin_RSS\u001b[0m \u001b[0;34m=\u001b[0m \u001b[0;34mr'$\\beta_0$, $\\beta_1$ for minimized RSS'\u001b[0m\u001b[0;34m\u001b[0m\u001b[0;34m\u001b[0m\u001b[0m\n\u001b[0;32m---> 13\u001b[0;31m \u001b[0mmin_rss\u001b[0m \u001b[0;34m=\u001b[0m \u001b[0mnp\u001b[0m\u001b[0;34m.\u001b[0m\u001b[0msum\u001b[0m\u001b[0;34m(\u001b[0m\u001b[0;34m(\u001b[0m\u001b[0mregr\u001b[0m\u001b[0;34m.\u001b[0m\u001b[0mintercept_\u001b[0m\u001b[0;34m+\u001b[0m\u001b[0mregr\u001b[0m\u001b[0;34m.\u001b[0m\u001b[0mcoef_\u001b[0m\u001b[0;34m*\u001b[0m\u001b[0mX\u001b[0m \u001b[0;34m-\u001b[0m \u001b[0my\u001b[0m\u001b[0;34m.\u001b[0m\u001b[0mreshape\u001b[0m\u001b[0;34m(\u001b[0m\u001b[0;34m-\u001b[0m\u001b[0;36m1\u001b[0m\u001b[0;34m,\u001b[0m\u001b[0;36m1\u001b[0m\u001b[0;34m)\u001b[0m\u001b[0;34m)\u001b[0m\u001b[0;34m**\u001b[0m\u001b[0;36m2\u001b[0m\u001b[0;34m)\u001b[0m\u001b[0;34m/\u001b[0m\u001b[0;36m1000\u001b[0m\u001b[0;34m\u001b[0m\u001b[0;34m\u001b[0m\u001b[0m\n\u001b[0m\u001b[1;32m     14\u001b[0m \u001b[0mmin_rss\u001b[0m\u001b[0;34m\u001b[0m\u001b[0;34m\u001b[0m\u001b[0m\n",
      "\u001b[0;32m~/opt/anaconda3/lib/python3.7/site-packages/pandas/core/generic.py\u001b[0m in \u001b[0;36m__getattr__\u001b[0;34m(self, name)\u001b[0m\n\u001b[1;32m   5177\u001b[0m             \u001b[0;32mif\u001b[0m \u001b[0mself\u001b[0m\u001b[0;34m.\u001b[0m\u001b[0m_info_axis\u001b[0m\u001b[0;34m.\u001b[0m\u001b[0m_can_hold_identifiers_and_holds_name\u001b[0m\u001b[0;34m(\u001b[0m\u001b[0mname\u001b[0m\u001b[0;34m)\u001b[0m\u001b[0;34m:\u001b[0m\u001b[0;34m\u001b[0m\u001b[0;34m\u001b[0m\u001b[0m\n\u001b[1;32m   5178\u001b[0m                 \u001b[0;32mreturn\u001b[0m \u001b[0mself\u001b[0m\u001b[0;34m[\u001b[0m\u001b[0mname\u001b[0m\u001b[0;34m]\u001b[0m\u001b[0;34m\u001b[0m\u001b[0;34m\u001b[0m\u001b[0m\n\u001b[0;32m-> 5179\u001b[0;31m             \u001b[0;32mreturn\u001b[0m \u001b[0mobject\u001b[0m\u001b[0;34m.\u001b[0m\u001b[0m__getattribute__\u001b[0m\u001b[0;34m(\u001b[0m\u001b[0mself\u001b[0m\u001b[0;34m,\u001b[0m \u001b[0mname\u001b[0m\u001b[0;34m)\u001b[0m\u001b[0;34m\u001b[0m\u001b[0;34m\u001b[0m\u001b[0m\n\u001b[0m\u001b[1;32m   5180\u001b[0m \u001b[0;34m\u001b[0m\u001b[0m\n\u001b[1;32m   5181\u001b[0m     \u001b[0;32mdef\u001b[0m \u001b[0m__setattr__\u001b[0m\u001b[0;34m(\u001b[0m\u001b[0mself\u001b[0m\u001b[0;34m,\u001b[0m \u001b[0mname\u001b[0m\u001b[0;34m,\u001b[0m \u001b[0mvalue\u001b[0m\u001b[0;34m)\u001b[0m\u001b[0;34m:\u001b[0m\u001b[0;34m\u001b[0m\u001b[0;34m\u001b[0m\u001b[0m\n",
      "\u001b[0;31mAttributeError\u001b[0m: 'Series' object has no attribute 'reshape'"
     ]
    }
   ],
   "source": [
    "# Create grid coordinates for plotting\n",
    "B0 = np.linspace(regr.intercept_-2, regr.intercept_+2, 50)\n",
    "B1 = np.linspace(regr.coef_-0.02, regr.coef_+0.02, 50)\n",
    "xx, yy = np.meshgrid(B0, B1, indexing='xy')\n",
    "Z = np.zeros((B0.size,B1.size))\n",
    "\n",
    "# Calculate Z-values (RSS) based on grid of coefficients\n",
    "for (i,j),v in np.ndenumerate(Z):\n",
    "    Z[i,j] =((y - (xx[i,j]+X.ravel()*yy[i,j]))**2).sum()/1000\n",
    "\n",
    "# Minimized RSS\n",
    "min_RSS = r'$\\beta_0$, $\\beta_1$ for minimized RSS'\n",
    "min_rss = np.sum((regr.intercept_+regr.coef_*X - y.reshape(-1,1))**2)/1000\n",
    "min_rss"
   ]
  },
  {
   "cell_type": "code",
   "execution_count": null,
   "metadata": {},
   "outputs": [],
   "source": [
    "fig = plt.figure(figsize=(15,6))\n",
    "fig.suptitle('RSS - Regression coefficients', fontsize=20)\n",
    "\n",
    "ax1 = fig.add_subplot(121)\n",
    "ax2 = fig.add_subplot(122, projection='3d')\n",
    "\n",
    "# Left plot\n",
    "CS = ax1.contour(xx, yy, Z, cmap=plt.cm.Set1, levels=[2.15, 2.2, 2.3, 2.5, 3])\n",
    "ax1.scatter(regr.intercept_, regr.coef_[0], c='r', label=min_RSS)\n",
    "ax1.clabel(CS, inline=True, fontsize=10, fmt='%1.1f')\n",
    "\n",
    "# Right plot\n",
    "ax2.plot_surface(xx, yy, Z, rstride=3, cstride=3, alpha=0.3)\n",
    "ax2.contour(xx, yy, Z, zdir='z', offset=Z.min(), cmap=plt.cm.Set1,\n",
    "            alpha=0.4, levels=[2.15, 2.2, 2.3, 2.5, 3])\n",
    "ax2.scatter3D(regr.intercept_, regr.coef_[0], min_rss, c='r', label=min_RSS)\n",
    "ax2.set_zlabel('RSS')\n",
    "ax2.set_zlim(Z.min(),Z.max())\n",
    "ax2.set_ylim(0.02,0.07)\n",
    "\n",
    "# settings common to both plots\n",
    "for ax in fig.axes:\n",
    "    ax.set_xlabel(r'$\\beta_0$', fontsize=17)\n",
    "    ax.set_ylabel(r'$\\beta_1$', fontsize=17)\n",
    "    ax.set_yticks([0.03,0.04,0.05,0.06])\n",
    "    ax.legend()"
   ]
  },
  {
   "cell_type": "markdown",
   "metadata": {},
   "source": [
    "### Confidence interval on page 67 & Table 3.1 & 3.2 - Statsmodels "
   ]
  },
  {
   "cell_type": "code",
   "execution_count": null,
   "metadata": {},
   "outputs": [],
   "source": [
    "est = smf.ols('Sales ~ TV', advertising).fit()\n",
    "est.summary().tables[1]"
   ]
  },
  {
   "cell_type": "code",
   "execution_count": null,
   "metadata": {},
   "outputs": [],
   "source": [
    "# RSS with regression coefficients\n",
    "((advertising.Sales - (est.params[0] + est.params[1]*advertising.TV))**2).sum()/1000"
   ]
  },
  {
   "cell_type": "markdown",
   "metadata": {},
   "source": [
    "### Table 3.1 & 3.2 - Scikit-learn"
   ]
  },
  {
   "cell_type": "code",
   "execution_count": null,
   "metadata": {},
   "outputs": [],
   "source": [
    "regr = skl_lm.LinearRegression()\n",
    "\n",
    "X = advertising.TV.reshape(-1,1)\n",
    "y = advertising.Sales\n",
    "\n",
    "regr.fit(X,y)\n",
    "print(regr.intercept_)\n",
    "print(regr.coef_)"
   ]
  },
  {
   "cell_type": "code",
   "execution_count": null,
   "metadata": {},
   "outputs": [],
   "source": [
    "Sales_pred = regr.predict(X)\n",
    "r2_score(y, Sales_pred)"
   ]
  },
  {
   "cell_type": "markdown",
   "metadata": {},
   "source": [
    "## 3.2 Multiple Linear Regression"
   ]
  },
  {
   "cell_type": "markdown",
   "metadata": {},
   "source": [
    "### Table 3.3 - Statsmodels"
   ]
  },
  {
   "cell_type": "code",
   "execution_count": null,
   "metadata": {},
   "outputs": [],
   "source": [
    "est = smf.ols('Sales ~ Radio', advertising).fit()\n",
    "est.summary().tables[1]"
   ]
  },
  {
   "cell_type": "code",
   "execution_count": null,
   "metadata": {},
   "outputs": [],
   "source": [
    "est = smf.ols('Sales ~ Newspaper', advertising).fit()\n",
    "est.summary().tables[1]"
   ]
  },
  {
   "cell_type": "markdown",
   "metadata": {},
   "source": [
    "### Table 3.4 & 3.6 - Statsmodels"
   ]
  },
  {
   "cell_type": "code",
   "execution_count": null,
   "metadata": {},
   "outputs": [],
   "source": [
    "est = smf.ols('Sales ~ TV + Radio + Newspaper', advertising).fit()\n",
    "est.summary()"
   ]
  },
  {
   "cell_type": "markdown",
   "metadata": {},
   "source": [
    "### Table 3.5 - Correlation Matrix"
   ]
  },
  {
   "cell_type": "code",
   "execution_count": null,
   "metadata": {},
   "outputs": [],
   "source": [
    "advertising.corr()"
   ]
  },
  {
   "cell_type": "markdown",
   "metadata": {},
   "source": [
    "### Figure 3.5 - Multiple Linear Regression"
   ]
  },
  {
   "cell_type": "code",
   "execution_count": null,
   "metadata": {},
   "outputs": [],
   "source": [
    "regr = skl_lm.LinearRegression()\n",
    "\n",
    "X = advertising[['Radio', 'TV']].as_matrix()\n",
    "y = advertising.Sales\n",
    "\n",
    "regr.fit(X,y)\n",
    "print(regr.coef_)\n",
    "print(regr.intercept_)"
   ]
  },
  {
   "cell_type": "code",
   "execution_count": null,
   "metadata": {},
   "outputs": [],
   "source": [
    "# What are the min/max values of Radio & TV?\n",
    "# Use these values to set up the grid for plotting.\n",
    "advertising[['Radio', 'TV']].describe()"
   ]
  },
  {
   "cell_type": "code",
   "execution_count": null,
   "metadata": {},
   "outputs": [],
   "source": [
    "# Create a coordinate grid\n",
    "Radio = np.arange(0,50)\n",
    "TV = np.arange(0,300)\n",
    "\n",
    "B1, B2 = np.meshgrid(Radio, TV, indexing='xy')\n",
    "Z = np.zeros((TV.size, Radio.size))\n",
    "\n",
    "for (i,j),v in np.ndenumerate(Z):\n",
    "        Z[i,j] =(regr.intercept_ + B1[i,j]*regr.coef_[0] + B2[i,j]*regr.coef_[1])"
   ]
  },
  {
   "cell_type": "code",
   "execution_count": null,
   "metadata": {},
   "outputs": [],
   "source": [
    "# Create plot\n",
    "fig = plt.figure(figsize=(10,6))\n",
    "fig.suptitle('Regression: Sales ~ Radio + TV Advertising', fontsize=20)\n",
    "\n",
    "ax = axes3d.Axes3D(fig)\n",
    "\n",
    "ax.plot_surface(B1, B2, Z, rstride=10, cstride=5, alpha=0.4)\n",
    "ax.scatter3D(advertising.Radio, advertising.TV, advertising.Sales, c='r')\n",
    "\n",
    "ax.set_xlabel('Radio')\n",
    "ax.set_xlim(0,50)\n",
    "ax.set_ylabel('TV')\n",
    "ax.set_ylim(ymin=0)\n",
    "ax.set_zlabel('Sales');"
   ]
  },
  {
   "cell_type": "markdown",
   "metadata": {},
   "source": [
    "## 3.3 Other Considerations in the Regression Model"
   ]
  },
  {
   "cell_type": "markdown",
   "metadata": {},
   "source": [
    "### Figure 3.6"
   ]
  },
  {
   "cell_type": "code",
   "execution_count": null,
   "metadata": {},
   "outputs": [],
   "source": [
    "sns.pairplot(credit[['Balance','Age','Cards','Education','Income','Limit','Rating']]);"
   ]
  },
  {
   "cell_type": "markdown",
   "metadata": {},
   "source": [
    "###  Table 3.7"
   ]
  },
  {
   "cell_type": "code",
   "execution_count": null,
   "metadata": {},
   "outputs": [],
   "source": [
    "est = smf.ols('Balance ~ Gender', credit).fit()\n",
    "est.summary().tables[1]"
   ]
  },
  {
   "cell_type": "markdown",
   "metadata": {},
   "source": [
    "### Table 3.8"
   ]
  },
  {
   "cell_type": "code",
   "execution_count": null,
   "metadata": {},
   "outputs": [],
   "source": [
    "est = smf.ols('Balance ~ Ethnicity', credit).fit()\n",
    "est.summary().tables[1]"
   ]
  },
  {
   "cell_type": "markdown",
   "metadata": {},
   "source": [
    "### Table 3.9 - Interaction Variables"
   ]
  },
  {
   "cell_type": "code",
   "execution_count": null,
   "metadata": {},
   "outputs": [],
   "source": [
    "est = smf.ols('Sales ~ TV + Radio + TV*Radio', advertising).fit()\n",
    "est.summary().tables[1]"
   ]
  },
  {
   "cell_type": "markdown",
   "metadata": {},
   "source": [
    "### Figure 3.7 - Interaction between qualitative and quantative variables"
   ]
  },
  {
   "cell_type": "code",
   "execution_count": null,
   "metadata": {},
   "outputs": [],
   "source": [
    "est1 = smf.ols('Balance ~ Income + Student2', credit).fit()\n",
    "regr1 = est1.params\n",
    "est2 = smf.ols('Balance ~ Income + Income*Student2', credit).fit()\n",
    "regr2 = est2.params\n",
    "\n",
    "print('Regression 1 - without interaction term')\n",
    "print(regr1)\n",
    "print('\\nRegression 2 - with interaction term')\n",
    "print(regr2)"
   ]
  },
  {
   "cell_type": "code",
   "execution_count": null,
   "metadata": {},
   "outputs": [],
   "source": [
    "# Income (x-axis)\n",
    "income = np.linspace(0,150)\n",
    "\n",
    "# Balance without interaction term (y-axis)\n",
    "student1 = np.linspace(regr1['Intercept']+regr1['Student2'],\n",
    "                       regr1['Intercept']+regr1['Student2']+150*regr1['Income'])\n",
    "non_student1 =  np.linspace(regr1['Intercept'], regr1['Intercept']+150*regr1['Income'])\n",
    "\n",
    "# Balance with iteraction term (y-axis)\n",
    "student2 = np.linspace(regr2['Intercept']+regr2['Student2'],\n",
    "                       regr2['Intercept']+regr2['Student2']+\n",
    "                       150*(regr2['Income']+regr2['Income:Student2']))\n",
    "non_student2 =  np.linspace(regr2['Intercept'], regr2['Intercept']+150*regr2['Income'])\n",
    "\n",
    "# Create plot\n",
    "fig, (ax1,ax2) = plt.subplots(1,2, figsize=(12,5))\n",
    "ax1.plot(income, student1, 'r', income, non_student1, 'k')\n",
    "ax2.plot(income, student2, 'r', income, non_student2, 'k')\n",
    "\n",
    "for ax in fig.axes:\n",
    "    ax.legend(['student', 'non-student'], loc=2)\n",
    "    ax.set_xlabel('Income')\n",
    "    ax.set_ylabel('Balance')\n",
    "    ax.set_ylim(ymax=1550)"
   ]
  },
  {
   "cell_type": "markdown",
   "metadata": {},
   "source": [
    "### Figure 3.8 - Non-linear relationships"
   ]
  },
  {
   "cell_type": "code",
   "execution_count": null,
   "metadata": {},
   "outputs": [],
   "source": [
    "# With Seaborn's regplot() you can easily plot higher order polynomials.\n",
    "plt.scatter(auto.horsepower, auto.mpg, facecolors='None', edgecolors='k') \n",
    "sns.regplot(auto.horsepower, auto.mpg, ci=None, label='Linear', scatter=False)\n",
    "sns.regplot(auto.horsepower, auto.mpg, ci=None, label='Degree 2', order=2, scatter=False)\n",
    "sns.regplot(auto.horsepower, auto.mpg, ci=None, label='Degree 5', order=5, scatter=False)\n",
    "plt.legend()\n",
    "plt.ylim(5,55)\n",
    "plt.xlim(40,240);"
   ]
  },
  {
   "cell_type": "markdown",
   "metadata": {},
   "source": [
    "### Table 3.10"
   ]
  },
  {
   "cell_type": "code",
   "execution_count": null,
   "metadata": {},
   "outputs": [],
   "source": [
    "auto['horsepower2'] = auto.horsepower**2\n",
    "auto.head(3)"
   ]
  },
  {
   "cell_type": "code",
   "execution_count": null,
   "metadata": {},
   "outputs": [],
   "source": [
    "est = smf.ols('mpg ~ horsepower + horsepower2', auto).fit()\n",
    "est.summary().tables[1]"
   ]
  },
  {
   "cell_type": "markdown",
   "metadata": {},
   "source": [
    "### Figure 3.9"
   ]
  },
  {
   "cell_type": "code",
   "execution_count": null,
   "metadata": {},
   "outputs": [],
   "source": [
    "regr = skl_lm.LinearRegression()\n",
    "\n",
    "# Linear fit\n",
    "X = auto.horsepower.reshape(-1,1)\n",
    "y = auto.mpg\n",
    "regr.fit(X, y)\n",
    "\n",
    "auto['pred1'] = regr.predict(X)\n",
    "auto['resid1'] = auto.mpg - auto.pred1\n",
    "\n",
    "# Quadratic fit\n",
    "X2 = auto[['horsepower', 'horsepower2']].as_matrix()\n",
    "regr.fit(X2, y)\n",
    "\n",
    "auto['pred2'] = regr.predict(X2)\n",
    "auto['resid2'] = auto.mpg - auto.pred2"
   ]
  },
  {
   "cell_type": "code",
   "execution_count": null,
   "metadata": {},
   "outputs": [],
   "source": [
    "fig, (ax1,ax2) = plt.subplots(1,2, figsize=(12,5))\n",
    "\n",
    "# Left plot\n",
    "sns.regplot(auto.pred1, auto.resid1, lowess=True, \n",
    "            ax=ax1, line_kws={'color':'r', 'lw':1})\n",
    "ax1.hlines(0,xmin=ax1.xaxis.get_data_interval()[0],\n",
    "           xmax=ax1.xaxis.get_data_interval()[1], linestyles='dotted')\n",
    "ax1.set_title('Residual Plot for Linear Fit')\n",
    "\n",
    "# Right plot\n",
    "sns.regplot(auto.pred2, auto.resid2, lowess=True,\n",
    "            line_kws={'color':'r', 'lw':1}, ax=ax2)\n",
    "ax2.hlines(0,xmin=ax2.xaxis.get_data_interval()[0],\n",
    "           xmax=ax2.xaxis.get_data_interval()[1], linestyles='dotted')\n",
    "ax2.set_title('Residual Plot for Quadratic Fit')\n",
    "\n",
    "for ax in fig.axes:\n",
    "    ax.set_xlabel('Fitted values')\n",
    "    ax.set_ylabel('Residuals')"
   ]
  },
  {
   "cell_type": "markdown",
   "metadata": {},
   "source": [
    "### Figure 3.14"
   ]
  },
  {
   "cell_type": "code",
   "execution_count": null,
   "metadata": {},
   "outputs": [],
   "source": [
    "fig, (ax1,ax2) = plt.subplots(1,2, figsize=(12,5))\n",
    "\n",
    "# Left plot\n",
    "ax1.scatter(credit.Limit, credit.Age, facecolor='None', edgecolor='r')\n",
    "ax1.set_ylabel('Age')\n",
    "\n",
    "# Right plot\n",
    "ax2.scatter(credit.Limit, credit.Rating, facecolor='None', edgecolor='r')\n",
    "ax2.set_ylabel('Rating')\n",
    "\n",
    "for ax in fig.axes:\n",
    "    ax.set_xlabel('Limit')\n",
    "    ax.set_xticks([2000,4000,6000,8000,12000])"
   ]
  },
  {
   "cell_type": "markdown",
   "metadata": {},
   "source": [
    "### Figure 3.15"
   ]
  },
  {
   "cell_type": "code",
   "execution_count": null,
   "metadata": {},
   "outputs": [],
   "source": [
    "y = credit.Balance\n",
    "\n",
    "# Regression for left plot\n",
    "X = credit[['Age', 'Limit']].as_matrix()\n",
    "regr1 = skl_lm.LinearRegression()\n",
    "regr1.fit(scale(X.astype('float'), with_std=False), y)\n",
    "print('Age/Limit\\n',regr1.intercept_)\n",
    "print(regr1.coef_)\n",
    "\n",
    "# Regression for right plot\n",
    "X2 = credit[['Rating', 'Limit']].as_matrix()\n",
    "regr2 = skl_lm.LinearRegression()\n",
    "regr2.fit(scale(X2.astype('float'), with_std=False), y)\n",
    "print('\\nRating/Limit\\n',regr2.intercept_)\n",
    "print(regr2.coef_)"
   ]
  },
  {
   "cell_type": "code",
   "execution_count": null,
   "metadata": {},
   "outputs": [],
   "source": [
    "# Create grid coordinates for plotting\n",
    "B_Age = np.linspace(regr1.coef_[0]-3, regr1.coef_[0]+3, 100)\n",
    "B_Limit = np.linspace(regr1.coef_[1]-0.02, regr1.coef_[1]+0.02, 100)\n",
    "\n",
    "B_Rating = np.linspace(regr2.coef_[0]-3, regr2.coef_[0]+3, 100)\n",
    "B_Limit2 = np.linspace(regr2.coef_[1]-0.2, regr2.coef_[1]+0.2, 100)\n",
    "\n",
    "X1, Y1 = np.meshgrid(B_Limit, B_Age, indexing='xy')\n",
    "X2, Y2 = np.meshgrid(B_Limit2, B_Rating, indexing='xy')\n",
    "Z1 = np.zeros((B_Age.size,B_Limit.size))\n",
    "Z2 = np.zeros((B_Rating.size,B_Limit2.size))\n",
    "\n",
    "Limit_scaled = scale(credit.Limit.astype('float'), with_std=False)\n",
    "Age_scaled = scale(credit.Age.astype('float'), with_std=False)\n",
    "Rating_scaled = scale(credit.Rating.astype('float'), with_std=False)\n",
    "\n",
    "# Calculate Z-values (RSS) based on grid of coefficients\n",
    "for (i,j),v in np.ndenumerate(Z1):\n",
    "    Z1[i,j] =((y - (regr1.intercept_ + X1[i,j]*Limit_scaled +\n",
    "                    Y1[i,j]*Age_scaled))**2).sum()/1000000\n",
    "    \n",
    "for (i,j),v in np.ndenumerate(Z2):\n",
    "    Z2[i,j] =((y - (regr2.intercept_ + X2[i,j]*Limit_scaled +\n",
    "                    Y2[i,j]*Rating_scaled))**2).sum()/1000000"
   ]
  },
  {
   "cell_type": "code",
   "execution_count": null,
   "metadata": {},
   "outputs": [],
   "source": [
    "fig = plt.figure(figsize=(12,5))\n",
    "fig.suptitle('RSS - Regression coefficients', fontsize=20)\n",
    "\n",
    "ax1 = fig.add_subplot(121)\n",
    "ax2 = fig.add_subplot(122)\n",
    "\n",
    "min_RSS = r'$\\beta_0$, $\\beta_1$ for minimized RSS'\n",
    "    \n",
    "# Left plot\n",
    "CS = ax1.contour(X1, Y1, Z1, cmap=plt.cm.Set1, levels=[21.25, 21.5, 21.8])\n",
    "ax1.scatter(regr1.coef_[1], regr1.coef_[0], c='r', label=min_RSS)\n",
    "ax1.clabel(CS, inline=True, fontsize=10, fmt='%1.1f')\n",
    "ax1.set_ylabel(r'$\\beta_{Age}$', fontsize=17)\n",
    "\n",
    "# Right plot\n",
    "CS = ax2.contour(X2, Y2, Z2, cmap=plt.cm.Set1, levels=[21.5, 21.8])\n",
    "ax2.scatter(regr2.coef_[1], regr2.coef_[0], c='r', label=min_RSS)\n",
    "ax2.clabel(CS, inline=True, fontsize=10, fmt='%1.1f')\n",
    "ax2.set_ylabel(r'$\\beta_{Rating}$', fontsize=17)\n",
    "ax2.set_xticks([-0.1, 0, 0.1, 0.2])\n",
    "\n",
    "for ax in fig.axes:\n",
    "    ax.set_xlabel(r'$\\beta_{Limit}$', fontsize=17)\n",
    "    ax.legend()"
   ]
  },
  {
   "cell_type": "markdown",
   "metadata": {},
   "source": [
    "### Variance Inflation Factor - page 102"
   ]
  },
  {
   "cell_type": "code",
   "execution_count": null,
   "metadata": {},
   "outputs": [],
   "source": [
    "est_Age = smf.ols('Age ~ Rating + Limit', credit).fit()\n",
    "est_Rating = smf.ols('Rating ~ Age + Limit', credit).fit()\n",
    "est_Limit = smf.ols('Limit ~ Age + Rating', credit).fit()\n",
    "\n",
    "print(1/(1-est_Age.rsquared))\n",
    "print(1/(1-est_Rating.rsquared))\n",
    "print(1/(1-est_Limit.rsquared))"
   ]
  }
 ],
 "metadata": {
  "kernelspec": {
   "display_name": "Python 3",
   "language": "python",
   "name": "python3"
  },
  "language_info": {
   "codemirror_mode": {
    "name": "ipython",
    "version": 3
   },
   "file_extension": ".py",
   "mimetype": "text/x-python",
   "name": "python",
   "nbconvert_exporter": "python",
   "pygments_lexer": "ipython3",
   "version": "3.7.4"
  }
 },
 "nbformat": 4,
 "nbformat_minor": 1
}
